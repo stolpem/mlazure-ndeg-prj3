{
 "cells": [
  {
   "cell_type": "markdown",
   "id": "6b73f439",
   "metadata": {},
   "source": [
    "# Automated ML\n",
    "\n",
    "All relevant steps for AutoML have been implemented as Python functions in the file `functions.py`. Thereby this notebook becomes less cluttered. For imported dependencies for scikit-learn and Azure, please see the file `functions.py`."
   ]
  },
  {
   "cell_type": "code",
   "execution_count": 1,
   "id": "bea09bca",
   "metadata": {},
   "outputs": [
    {
     "name": "stdout",
     "output_type": "stream",
     "text": [
      "SDK version: 1.42.0\n"
     ]
    }
   ],
   "source": [
    "import azureml.core\n",
    "from functions import get_workspace, get_data, get_compute_cluster, run_automl, \\\n",
    "    show_and_test_local_automl_model, register_and_deploy_automl_model, \\\n",
    "    test_deployed_automl_model, clean_up\n",
    "\n",
    "# Check core SDK version number\n",
    "print(\"SDK version:\", azureml.core.VERSION)"
   ]
  },
  {
   "cell_type": "code",
   "execution_count": 2,
   "id": "edef2cfe",
   "metadata": {},
   "outputs": [
    {
     "name": "stdout",
     "output_type": "stream",
     "text": [
      "quick-starts-ws-199863\n",
      "aml-quickstarts-199863\n",
      "southcentralus\n",
      "48a74bb7-9950-4cc1-9caa-5d50f995cc55\n"
     ]
    }
   ],
   "source": [
    "ws = get_workspace()\n",
    "print(ws.name, ws.resource_group, ws.location, ws.subscription_id, sep = '\\n')"
   ]
  },
  {
   "cell_type": "markdown",
   "id": "ee57d21e",
   "metadata": {},
   "source": [
    "## Dataset\n",
    "\n",
    "As dataset the Adult dataset from the UCI machine learning repository is used. The task is to predict the income class (over 50k or below) based on an individual person's features. For a more thorough description of the dataset, please see the `README.md` file. The function `get_data()` called in the following downloads the training and test data, does some preprocessing and stores the data in a blobstore of the current workspace. For details, please see the comments in the file `functions.py`."
   ]
  },
  {
   "cell_type": "code",
   "execution_count": 3,
   "id": "304a30ec",
   "metadata": {},
   "outputs": [
    {
     "name": "stdout",
     "output_type": "stream",
     "text": [
      "Loading datasets from workspace ...\n"
     ]
    }
   ],
   "source": [
    "train_ds, test_ds = get_data()"
   ]
  },
  {
   "cell_type": "markdown",
   "id": "ab69e3a7",
   "metadata": {},
   "source": [
    "## AutoML \n",
    "\n",
    "Since the target variable `income` is categorical, the AutoML task is configured as a classification task with the `income` column being the label. We want to get results in a reasonable time, so the maximum running time for AutoML is specified as 30 minutes. Cross validation usually gets a better estimate of performance than using a single validation set, so 5-fold cross validation is used. As primary performance metric `accuracy` has been chosen for easier comparison with already published results on the dataset. The function `run_automl()` stores the best model found under `./outputs/best_model_automl.pkl`. For more details, please see the file `functions.py`. "
   ]
  },
  {
   "cell_type": "code",
   "execution_count": 4,
   "id": "469a6d8d",
   "metadata": {},
   "outputs": [
    {
     "name": "stdout",
     "output_type": "stream",
     "text": [
      "Found existing cluster, use it.\n",
      "Submitting remote run.\n"
     ]
    },
    {
     "data": {
      "text/html": [
       "<table style=\"width:100%\"><tr><th>Experiment</th><th>Id</th><th>Type</th><th>Status</th><th>Details Page</th><th>Docs Page</th></tr><tr><td>adult-automl</td><td>AutoML_edc30558-b27c-4168-a13d-a7caec7264ff</td><td>automl</td><td>NotStarted</td><td><a href=\"https://ml.azure.com/runs/AutoML_edc30558-b27c-4168-a13d-a7caec7264ff?wsid=/subscriptions/48a74bb7-9950-4cc1-9caa-5d50f995cc55/resourcegroups/aml-quickstarts-199863/workspaces/quick-starts-ws-199863&amp;tid=660b3398-b80e-49d2-bc5b-ac1dc93b5254\" target=\"_blank\" rel=\"noopener\">Link to Azure Machine Learning studio</a></td><td><a href=\"https://docs.microsoft.com/en-us/python/api/overview/azure/ml/intro?view=azure-ml-py\" target=\"_blank\" rel=\"noopener\">Link to Documentation</a></td></tr></table>"
      ],
      "text/plain": [
       "<IPython.core.display.HTML object>"
      ]
     },
     "metadata": {},
     "output_type": "display_data"
    },
    {
     "data": {
      "application/vnd.jupyter.widget-view+json": {
       "model_id": "a985fd1323234b819969677e762e5bcb",
       "version_major": 2,
       "version_minor": 0
      },
      "text/plain": [
       "_AutoMLWidget(widget_settings={'childWidgetDisplay': 'popup', 'send_telemetry': False, 'log_level': 'INFO', 's…"
      ]
     },
     "metadata": {},
     "output_type": "display_data"
    },
    {
     "data": {
      "application/aml.mini.widget.v1": "{\"status\": \"Completed\", \"workbench_run_details_uri\": \"https://ml.azure.com/runs/AutoML_edc30558-b27c-4168-a13d-a7caec7264ff?wsid=/subscriptions/48a74bb7-9950-4cc1-9caa-5d50f995cc55/resourcegroups/aml-quickstarts-199863/workspaces/quick-starts-ws-199863&tid=660b3398-b80e-49d2-bc5b-ac1dc93b5254\", \"run_id\": \"AutoML_edc30558-b27c-4168-a13d-a7caec7264ff\", \"run_properties\": {\"run_id\": \"AutoML_edc30558-b27c-4168-a13d-a7caec7264ff\", \"created_utc\": \"2022-06-30T14:19:28.825578Z\", \"properties\": {\"num_iterations\": \"1000\", \"training_type\": \"TrainFull\", \"acquisition_function\": \"EI\", \"primary_metric\": \"accuracy\", \"train_split\": \"0\", \"acquisition_parameter\": \"0\", \"num_cross_validation\": \"5\", \"target\": \"ndeg-prj3-clust\", \"AMLSettingsJsonString\": \"{\\\"path\\\":null,\\\"name\\\":\\\"adult-automl\\\",\\\"subscription_id\\\":\\\"48a74bb7-9950-4cc1-9caa-5d50f995cc55\\\",\\\"resource_group\\\":\\\"aml-quickstarts-199863\\\",\\\"workspace_name\\\":\\\"quick-starts-ws-199863\\\",\\\"region\\\":\\\"southcentralus\\\",\\\"compute_target\\\":\\\"ndeg-prj3-clust\\\",\\\"spark_service\\\":null,\\\"azure_service\\\":\\\"remote\\\",\\\"many_models\\\":false,\\\"pipeline_fetch_max_batch_size\\\":1,\\\"enable_batch_run\\\":true,\\\"enable_run_restructure\\\":false,\\\"start_auxiliary_runs_before_parent_complete\\\":false,\\\"enable_code_generation\\\":true,\\\"iterations\\\":1000,\\\"primary_metric\\\":\\\"accuracy\\\",\\\"task_type\\\":\\\"classification\\\",\\\"positive_label\\\":null,\\\"data_script\\\":null,\\\"test_size\\\":0.0,\\\"test_include_predictions_only\\\":false,\\\"validation_size\\\":0.0,\\\"n_cross_validations\\\":5,\\\"y_min\\\":null,\\\"y_max\\\":null,\\\"num_classes\\\":null,\\\"featurization\\\":\\\"auto\\\",\\\"_ignore_package_version_incompatibilities\\\":false,\\\"is_timeseries\\\":false,\\\"max_cores_per_iteration\\\":1,\\\"max_concurrent_iterations\\\":1,\\\"iteration_timeout_minutes\\\":null,\\\"mem_in_mb\\\":null,\\\"enforce_time_on_windows\\\":false,\\\"experiment_timeout_minutes\\\":30,\\\"experiment_exit_score\\\":null,\\\"partition_column_names\\\":null,\\\"whitelist_models\\\":null,\\\"blacklist_algos\\\":[\\\"TensorFlowLinearClassifier\\\",\\\"TensorFlowDNN\\\"],\\\"supported_models\\\":[\\\"LogisticRegression\\\",\\\"TensorFlowLinearClassifier\\\",\\\"SGD\\\",\\\"DecisionTree\\\",\\\"LightGBM\\\",\\\"GradientBoosting\\\",\\\"TabnetClassifier\\\",\\\"RandomForest\\\",\\\"ExtremeRandomTrees\\\",\\\"XGBoostClassifier\\\",\\\"KNN\\\",\\\"AveragedPerceptronClassifier\\\",\\\"LinearSVM\\\",\\\"SVM\\\",\\\"MultinomialNaiveBayes\\\",\\\"TensorFlowDNN\\\",\\\"BernoulliNaiveBayes\\\"],\\\"private_models\\\":[],\\\"auto_blacklist\\\":true,\\\"blacklist_samples_reached\\\":false,\\\"exclude_nan_labels\\\":true,\\\"verbosity\\\":20,\\\"_debug_log\\\":\\\"azureml_automl.log\\\",\\\"show_warnings\\\":false,\\\"model_explainability\\\":true,\\\"service_url\\\":null,\\\"sdk_url\\\":null,\\\"sdk_packages\\\":null,\\\"enable_onnx_compatible_models\\\":false,\\\"enable_split_onnx_featurizer_estimator_models\\\":false,\\\"vm_type\\\":\\\"STANDARD_D2_V2\\\",\\\"telemetry_verbosity\\\":20,\\\"send_telemetry\\\":true,\\\"enable_dnn\\\":false,\\\"scenario\\\":\\\"SDK-1.13.0\\\",\\\"environment_label\\\":null,\\\"save_mlflow\\\":false,\\\"enable_categorical_indicators\\\":false,\\\"force_text_dnn\\\":false,\\\"enable_feature_sweeping\\\":true,\\\"enable_early_stopping\\\":true,\\\"early_stopping_n_iters\\\":10,\\\"arguments\\\":null,\\\"dataset_id\\\":\\\"7531ac17-3164-40dd-b6e0-5f0dec5ca99c\\\",\\\"hyperdrive_config\\\":null,\\\"validation_dataset_id\\\":null,\\\"run_source\\\":null,\\\"metrics\\\":null,\\\"enable_metric_confidence\\\":false,\\\"enable_ensembling\\\":true,\\\"enable_stack_ensembling\\\":true,\\\"ensemble_iterations\\\":15,\\\"enable_tf\\\":false,\\\"enable_subsampling\\\":null,\\\"subsample_seed\\\":null,\\\"enable_nimbusml\\\":false,\\\"enable_streaming\\\":false,\\\"force_streaming\\\":false,\\\"track_child_runs\\\":true,\\\"allowed_private_models\\\":[],\\\"label_column_name\\\":\\\"income\\\",\\\"weight_column_name\\\":null,\\\"cv_split_column_names\\\":null,\\\"enable_local_managed\\\":false,\\\"_local_managed_run_id\\\":null,\\\"cost_mode\\\":1,\\\"lag_length\\\":0,\\\"metric_operation\\\":\\\"maximize\\\",\\\"preprocess\\\":true}\", \"DataPrepJsonString\": \"{\\\\\\\"training_data\\\\\\\": {\\\\\\\"datasetId\\\\\\\": \\\\\\\"7531ac17-3164-40dd-b6e0-5f0dec5ca99c\\\\\\\"}, \\\\\\\"datasets\\\\\\\": 0}\", \"EnableSubsampling\": null, \"runTemplate\": \"AutoML\", \"azureml.runsource\": \"automl\", \"display_task_type\": \"classification\", \"dependencies_versions\": \"{\\\"azureml-dataprep-native\\\": \\\"38.0.0\\\", \\\"azureml-dataprep\\\": \\\"4.0.1\\\", \\\"azureml-dataprep-rslex\\\": \\\"2.6.1\\\", \\\"azureml-pipeline\\\": \\\"1.42.0\\\", \\\"azureml-accel-models\\\": \\\"1.42.0\\\", \\\"azureml-cli-common\\\": \\\"1.42.0\\\", \\\"azureml-tensorboard\\\": \\\"1.42.0\\\", \\\"azureml-train\\\": \\\"1.42.0\\\", \\\"azureml-contrib-services\\\": \\\"1.42.0\\\", \\\"azureml-defaults\\\": \\\"1.42.0\\\", \\\"azureml-contrib-reinforcementlearning\\\": \\\"1.42.0\\\", \\\"azureml-train-core\\\": \\\"1.42.0\\\", \\\"azureml-pipeline-core\\\": \\\"1.42.0\\\", \\\"azureml-dataset-runtime\\\": \\\"1.42.0\\\", \\\"azureml-train-automl-runtime\\\": \\\"1.42.0\\\", \\\"azureml-contrib-notebook\\\": \\\"1.42.0\\\", \\\"azureml-explain-model\\\": \\\"1.42.0\\\", \\\"azureml-opendatasets\\\": \\\"1.42.0\\\", \\\"azureml-responsibleai\\\": \\\"1.42.0\\\", \\\"azureml-contrib-automl-pipeline-steps\\\": \\\"1.42.0\\\", \\\"azureml-core\\\": \\\"1.42.0\\\", \\\"azureml-widgets\\\": \\\"1.42.0\\\", \\\"azureml-automl-core\\\": \\\"1.42.0\\\", \\\"azureml-train-restclients-hyperdrive\\\": \\\"1.42.0\\\", \\\"azureml-train-automl\\\": \\\"1.42.0\\\", \\\"azureml-contrib-dataset\\\": \\\"1.42.0\\\", \\\"azureml-telemetry\\\": \\\"1.42.0\\\", \\\"azureml-sdk\\\": \\\"1.42.0\\\", \\\"azureml-automl-dnn-nlp\\\": \\\"1.42.0\\\", \\\"azureml-contrib-fairness\\\": \\\"1.42.0\\\", \\\"azureml-contrib-server\\\": \\\"1.42.0\\\", \\\"azureml-datadrift\\\": \\\"1.42.0\\\", \\\"azureml-training-tabular\\\": \\\"1.42.0\\\", \\\"azureml-contrib-pipeline-steps\\\": \\\"1.42.0\\\", \\\"azureml-train-automl-client\\\": \\\"1.42.0\\\", \\\"azureml-pipeline-steps\\\": \\\"1.42.0\\\", \\\"azureml-interpret\\\": \\\"1.42.0\\\", \\\"azureml-automl-runtime\\\": \\\"1.42.0\\\", \\\"azureml-mlflow\\\": \\\"1.42.0\\\", \\\"azureml-inference-server-http\\\": \\\"0.4.13\\\", \\\"azureml-samples\\\": \\\"0+unknown\\\"}\", \"_aml_system_scenario_identification\": \"Remote.Parent\", \"ClientType\": \"SDK\", \"environment_cpu_name\": \"AzureML-AutoML\", \"environment_cpu_label\": \"prod\", \"environment_gpu_name\": \"AzureML-AutoML-GPU\", \"environment_gpu_label\": \"prod\", \"root_attribution\": \"automl\", \"attribution\": \"AutoML\", \"Orchestrator\": \"AutoML\", \"CancelUri\": \"https://southcentralus.api.azureml.ms/jasmine/v1.0/subscriptions/48a74bb7-9950-4cc1-9caa-5d50f995cc55/resourceGroups/aml-quickstarts-199863/providers/Microsoft.MachineLearningServices/workspaces/quick-starts-ws-199863/experimentids/0b52eec1-a121-402b-bc08-96e312100089/cancel/AutoML_edc30558-b27c-4168-a13d-a7caec7264ff\", \"ClientSdkVersion\": \"1.42.0.post1\", \"snapshotId\": \"00000000-0000-0000-0000-000000000000\", \"SetupRunId\": \"AutoML_edc30558-b27c-4168-a13d-a7caec7264ff_setup\", \"SetupRunContainerId\": \"dcid.AutoML_edc30558-b27c-4168-a13d-a7caec7264ff_setup\", \"FeaturizationRunJsonPath\": \"featurizer_container.json\", \"FeaturizationRunId\": \"AutoML_edc30558-b27c-4168-a13d-a7caec7264ff_featurize\", \"ProblemInfoJsonString\": \"{\\\"dataset_num_categorical\\\": 0, \\\"is_sparse\\\": true, \\\"subsampling\\\": false, \\\"has_extra_col\\\": true, \\\"dataset_classes\\\": 2, \\\"dataset_features\\\": 122, \\\"dataset_samples\\\": 32561, \\\"single_frequency_class_detected\\\": false}\", \"ModelExplainRunId\": \"AutoML_edc30558-b27c-4168-a13d-a7caec7264ff_ModelExplain\"}, \"tags\": {\"model_explain_run\": \"best_run\", \"_aml_system_automl_run_workspace_id\": \"ac9a7206-cbd4-4b39-b2c2-5e1bb297cf34\", \"_aml_system_azureml.automlComponent\": \"AutoML\", \"pipeline_id\": \"\", \"score\": \"\", \"predicted_cost\": \"\", \"fit_time\": \"\", \"training_percent\": \"\", \"iteration\": \"\", \"run_preprocessor\": \"\", \"run_algorithm\": \"\", \"dynamic_allowlisting_iterations\": \"<25>;<30>;\", \"_aml_system_azureml.automl_early_exit_message\": \"Experiment timeout reached, hence experiment stopped. Current experiment timeout: 0 hour(s) 30 minute(s)\", \"automl_best_child_run_id\": \"AutoML_edc30558-b27c-4168-a13d-a7caec7264ff_32\", \"model_explain_best_run_child_id\": \"AutoML_edc30558-b27c-4168-a13d-a7caec7264ff_32\"}, \"end_time_utc\": \"2022-06-30T14:57:19.919266Z\", \"status\": \"Completed\", \"log_files\": {}, \"log_groups\": [], \"run_duration\": \"0:37:51\", \"run_number\": \"1656598768\", \"run_queued_details\": {\"status\": \"Completed\", \"details\": null}}, \"child_runs\": [{\"run_id\": \"AutoML_edc30558-b27c-4168-a13d-a7caec7264ff_setup\", \"run_number\": 1656598780, \"metric\": null, \"status\": \"Completed\", \"run_type\": \"azureml.scriptrun\", \"training_percent\": null, \"start_time\": \"2022-06-30T14:21:37.224419Z\", \"end_time\": \"2022-06-30T14:21:41.14323Z\", \"created_time\": \"2022-06-30T14:19:40.65294Z\", \"created_time_dt\": \"2022-06-30T14:19:40.65294Z\", \"duration\": \"0:02:00\", \"iteration\": null, \"goal\": null, \"run_name\": \"Completed\", \"run_properties\": null}, {\"run_id\": \"AutoML_edc30558-b27c-4168-a13d-a7caec7264ff_featurize\", \"run_number\": 1656598901, \"metric\": null, \"status\": \"Completed\", \"run_type\": \"automl.featurization\", \"training_percent\": null, \"start_time\": \"2022-06-30T14:21:41.934118Z\", \"end_time\": \"2022-06-30T14:24:10.875929Z\", \"created_time\": \"2022-06-30T14:21:41.529915Z\", \"created_time_dt\": \"2022-06-30T14:21:41.529915Z\", \"duration\": \"0:02:29\", \"iteration\": null, \"goal\": null, \"run_name\": \"Completed\", \"run_properties\": null}, {\"run_id\": \"AutoML_edc30558-b27c-4168-a13d-a7caec7264ff_0\", \"run_number\": 1656599052, \"metric\": null, \"status\": \"Completed\", \"run_type\": null, \"training_percent\": \"100\", \"start_time\": \"2022-06-30T14:24:37.310078Z\", \"end_time\": \"2022-06-30T14:24:51.15426Z\", \"created_time\": \"2022-06-30T14:24:12.409124Z\", \"created_time_dt\": \"2022-06-30T14:24:12.409124Z\", \"duration\": \"0:00:38\", \"iteration\": \"0\", \"goal\": \"accuracy_max\", \"run_name\": \"MaxAbsScaler, LightGBM\", \"run_properties\": \"copy=True\", \"primary_metric\": 0.87266974, \"best_metric\": 0.87266974}, {\"run_id\": \"AutoML_edc30558-b27c-4168-a13d-a7caec7264ff_2\", \"run_number\": 1656599053, \"metric\": null, \"status\": \"Completed\", \"run_type\": null, \"training_percent\": \"100\", \"start_time\": \"2022-06-30T14:25:19.547752Z\", \"end_time\": \"2022-06-30T14:25:34.084914Z\", \"created_time\": \"2022-06-30T14:24:13.165052Z\", \"created_time_dt\": \"2022-06-30T14:24:13.165052Z\", \"duration\": \"0:01:20\", \"iteration\": \"2\", \"goal\": \"accuracy_max\", \"run_name\": \"MaxAbsScaler, ExtremeRandomTrees\", \"run_properties\": \"copy=True\", \"primary_metric\": 0.72138452, \"best_metric\": 0.87266974}, {\"run_id\": \"AutoML_edc30558-b27c-4168-a13d-a7caec7264ff_5\", \"run_number\": 1656599054, \"metric\": null, \"status\": \"Completed\", \"run_type\": null, \"training_percent\": \"100\", \"start_time\": \"2022-06-30T14:26:10.198208Z\", \"end_time\": \"2022-06-30T14:26:23.910332Z\", \"created_time\": \"2022-06-30T14:24:14.323852Z\", \"created_time_dt\": \"2022-06-30T14:24:14.323852Z\", \"duration\": \"0:02:09\", \"iteration\": \"5\", \"goal\": \"accuracy_max\", \"run_name\": \"MaxAbsScaler, LightGBM\", \"run_properties\": \"copy=True\", \"primary_metric\": 0.80068189, \"best_metric\": 0.87266974}, {\"run_id\": \"AutoML_edc30558-b27c-4168-a13d-a7caec7264ff_7\", \"run_number\": 1656599055, \"metric\": null, \"status\": \"Completed\", \"run_type\": null, \"training_percent\": \"100\", \"start_time\": \"2022-06-30T14:26:35.680665Z\", \"end_time\": \"2022-06-30T14:26:51.325974Z\", \"created_time\": \"2022-06-30T14:24:15.045369Z\", \"created_time_dt\": \"2022-06-30T14:24:15.045369Z\", \"duration\": \"0:02:36\", \"iteration\": \"7\", \"goal\": \"accuracy_max\", \"run_name\": \"MaxAbsScaler, LogisticRegression\", \"run_properties\": \"copy=True\", \"primary_metric\": 0.85157087, \"best_metric\": 0.87266974}, {\"run_id\": \"AutoML_edc30558-b27c-4168-a13d-a7caec7264ff_10\", \"run_number\": 1656599056, \"metric\": null, \"status\": \"Completed\", \"run_type\": null, \"training_percent\": \"100\", \"start_time\": \"2022-06-30T14:27:15.529024Z\", \"end_time\": \"2022-06-30T14:27:25.471738Z\", \"created_time\": \"2022-06-30T14:24:16.139447Z\", \"created_time_dt\": \"2022-06-30T14:24:16.139447Z\", \"duration\": \"0:03:09\", \"iteration\": \"10\", \"goal\": \"accuracy_max\", \"run_name\": \"SparseNormalizer, LightGBM\", \"run_properties\": \"copy=True, norm='l1'\", \"primary_metric\": 0.82945849, \"best_metric\": 0.87266974}, {\"run_id\": \"AutoML_edc30558-b27c-4168-a13d-a7caec7264ff_13\", \"run_number\": 1656599057, \"metric\": null, \"status\": \"Completed\", \"run_type\": null, \"training_percent\": \"100\", \"start_time\": \"2022-06-30T14:27:59.236754Z\", \"end_time\": \"2022-06-30T14:28:13.861911Z\", \"created_time\": \"2022-06-30T14:24:17.19271Z\", \"created_time_dt\": \"2022-06-30T14:24:17.19271Z\", \"duration\": \"0:03:56\", \"iteration\": \"13\", \"goal\": \"accuracy_max\", \"run_name\": \"MaxAbsScaler, SGD\", \"run_properties\": \"copy=True\", \"primary_metric\": 0.79509221, \"best_metric\": 0.87266974}, {\"run_id\": \"AutoML_edc30558-b27c-4168-a13d-a7caec7264ff_15\", \"run_number\": 1656599058, \"metric\": null, \"status\": \"Completed\", \"run_type\": null, \"training_percent\": \"100\", \"start_time\": \"2022-06-30T14:28:28.611079Z\", \"end_time\": \"2022-06-30T14:28:54.241922Z\", \"created_time\": \"2022-06-30T14:24:18.054788Z\", \"created_time_dt\": \"2022-06-30T14:24:18.054788Z\", \"duration\": \"0:04:36\", \"iteration\": \"15\", \"goal\": \"accuracy_max\", \"run_name\": \"SparseNormalizer, RandomForest\", \"run_properties\": \"copy=True, norm='l2'\", \"primary_metric\": 0.72832522, \"best_metric\": 0.87266974}, {\"run_id\": \"AutoML_edc30558-b27c-4168-a13d-a7caec7264ff_worker_0\", \"run_number\": 1656599059, \"metric\": null, \"status\": \"Completed\", \"run_type\": \"azureml.scriptrun\", \"training_percent\": null, \"start_time\": \"2022-06-30T14:26:23.39337Z\", \"end_time\": \"2022-06-30T14:32:05.979637Z\", \"created_time\": \"2022-06-30T14:24:19.934212Z\", \"created_time_dt\": \"2022-06-30T14:24:19.934212Z\", \"duration\": \"0:07:46\", \"iteration\": null, \"goal\": null, \"run_name\": \"Completed\", \"run_properties\": null}, {\"run_id\": \"AutoML_edc30558-b27c-4168-a13d-a7caec7264ff_20\", \"run_number\": 1656599672, \"metric\": null, \"status\": \"Completed\", \"run_type\": \"azureml.scriptrun\", \"training_percent\": \"100\", \"start_time\": \"2022-06-30T14:36:36.580572Z\", \"end_time\": \"2022-06-30T14:38:29.992604Z\", \"created_time\": \"2022-06-30T14:34:32.809215Z\", \"created_time_dt\": \"2022-06-30T14:34:32.809215Z\", \"duration\": \"0:03:57\", \"iteration\": \"20\", \"goal\": \"accuracy_max\", \"run_name\": \"TruncatedSVDWrapper, RandomForest\", \"run_properties\": \"n_components=0.7026315789473684, random_state=None\", \"primary_metric\": 0.80372228, \"best_metric\": 0.87266974}, {\"run_id\": \"AutoML_edc30558-b27c-4168-a13d-a7caec7264ff_21\", \"run_number\": 1656599911, \"metric\": null, \"status\": \"Completed\", \"run_type\": \"azureml.scriptrun\", \"training_percent\": \"100\", \"start_time\": \"2022-06-30T14:39:07.110012Z\", \"end_time\": \"2022-06-30T14:39:10.897018Z\", \"created_time\": \"2022-06-30T14:38:31.748632Z\", \"created_time_dt\": \"2022-06-30T14:38:31.748632Z\", \"duration\": \"0:00:39\", \"iteration\": \"21\", \"goal\": \"accuracy_max\", \"run_name\": \"StandardScalerWrapper, XGBoostClassifier\", \"run_properties\": \"copy=True, with_mean=False, with_std=False\", \"primary_metric\": 0.86797093, \"best_metric\": 0.87266974}, {\"run_id\": \"AutoML_edc30558-b27c-4168-a13d-a7caec7264ff_22\", \"run_number\": 1656599952, \"metric\": null, \"status\": \"Completed\", \"run_type\": \"azureml.scriptrun\", \"training_percent\": \"100\", \"start_time\": \"2022-06-30T14:41:15.559581Z\", \"end_time\": \"2022-06-30T14:41:28.839684Z\", \"created_time\": \"2022-06-30T14:39:12.422472Z\", \"created_time_dt\": \"2022-06-30T14:39:12.422472Z\", \"duration\": \"0:02:16\", \"iteration\": \"22\", \"goal\": \"accuracy_max\", \"run_name\": \"StandardScalerWrapper, XGBoostClassifier\", \"run_properties\": \"copy=True, with_mean=False, with_std=False\", \"primary_metric\": 0.85021965, \"best_metric\": 0.87266974}, {\"run_id\": \"AutoML_edc30558-b27c-4168-a13d-a7caec7264ff_23\", \"run_number\": 1656600090, \"metric\": null, \"status\": \"Completed\", \"run_type\": \"azureml.scriptrun\", \"training_percent\": \"100\", \"start_time\": \"2022-06-30T14:41:57.325001Z\", \"end_time\": \"2022-06-30T14:42:01.196432Z\", \"created_time\": \"2022-06-30T14:41:30.587842Z\", \"created_time_dt\": \"2022-06-30T14:41:30.587842Z\", \"duration\": \"0:00:30\", \"iteration\": \"23\", \"goal\": \"accuracy_max\", \"run_name\": \"MaxAbsScaler, LightGBM\", \"run_properties\": \"copy=True\", \"primary_metric\": 0.79420161, \"best_metric\": 0.87266974}, {\"run_id\": \"AutoML_edc30558-b27c-4168-a13d-a7caec7264ff_24\", \"run_number\": 1656600122, \"metric\": null, \"status\": \"Completed\", \"run_type\": \"azureml.scriptrun\", \"training_percent\": \"100\", \"start_time\": \"2022-06-30T14:43:00.422493Z\", \"end_time\": \"2022-06-30T14:43:04.200086Z\", \"created_time\": \"2022-06-30T14:42:02.714468Z\", \"created_time_dt\": \"2022-06-30T14:42:02.714468Z\", \"duration\": \"0:01:01\", \"iteration\": \"24\", \"goal\": \"accuracy_max\", \"run_name\": \"StandardScalerWrapper, XGBoostClassifier\", \"run_properties\": \"copy=True, with_mean=False, with_std=False\", \"primary_metric\": 0.87276191, \"best_metric\": 0.87276191}, {\"run_id\": \"AutoML_edc30558-b27c-4168-a13d-a7caec7264ff_25\", \"run_number\": 1656600187, \"metric\": null, \"status\": \"Completed\", \"run_type\": \"azureml.scriptrun\", \"training_percent\": \"100\", \"start_time\": \"2022-06-30T14:45:26.379503Z\", \"end_time\": \"2022-06-30T14:45:30.16157Z\", \"created_time\": \"2022-06-30T14:43:07.004025Z\", \"created_time_dt\": \"2022-06-30T14:43:07.004025Z\", \"duration\": \"0:02:23\", \"iteration\": \"25\", \"goal\": \"accuracy_max\", \"run_name\": \"TruncatedSVDWrapper, XGBoostClassifier\", \"run_properties\": \"n_components=0.3068421052631579, random_state=None\", \"primary_metric\": 0.75919052, \"best_metric\": 0.87276191}, {\"run_id\": \"AutoML_edc30558-b27c-4168-a13d-a7caec7264ff_26\", \"run_number\": 1656600331, \"metric\": null, \"status\": \"Completed\", \"run_type\": \"azureml.scriptrun\", \"training_percent\": \"100\", \"start_time\": \"2022-06-30T14:45:59.448147Z\", \"end_time\": \"2022-06-30T14:46:03.272308Z\", \"created_time\": \"2022-06-30T14:45:31.678197Z\", \"created_time_dt\": \"2022-06-30T14:45:31.678197Z\", \"duration\": \"0:00:31\", \"iteration\": \"26\", \"goal\": \"accuracy_max\", \"run_name\": \"StandardScalerWrapper, XGBoostClassifier\", \"run_properties\": \"copy=True, with_mean=False, with_std=False\", \"primary_metric\": 0.82178058, \"best_metric\": 0.87276191}, {\"run_id\": \"AutoML_edc30558-b27c-4168-a13d-a7caec7264ff_27\", \"run_number\": 1656600364, \"metric\": null, \"status\": \"Completed\", \"run_type\": \"azureml.scriptrun\", \"training_percent\": \"100\", \"start_time\": \"2022-06-30T14:47:30.887723Z\", \"end_time\": \"2022-06-30T14:47:34.727298Z\", \"created_time\": \"2022-06-30T14:46:04.784871Z\", \"created_time_dt\": \"2022-06-30T14:46:04.784871Z\", \"duration\": \"0:01:29\", \"iteration\": \"27\", \"goal\": \"accuracy_max\", \"run_name\": \"StandardScalerWrapper, XGBoostClassifier\", \"run_properties\": \"copy=True, with_mean=False, with_std=False\", \"primary_metric\": 0.85909521, \"best_metric\": 0.87276191}, {\"run_id\": \"AutoML_edc30558-b27c-4168-a13d-a7caec7264ff_28\", \"run_number\": 1656600456, \"metric\": null, \"status\": \"Completed\", \"run_type\": \"azureml.scriptrun\", \"training_percent\": \"100\", \"start_time\": \"2022-06-30T14:48:38.520645Z\", \"end_time\": \"2022-06-30T14:48:42.326114Z\", \"created_time\": \"2022-06-30T14:47:36.305312Z\", \"created_time_dt\": \"2022-06-30T14:47:36.305312Z\", \"duration\": \"0:01:06\", \"iteration\": \"28\", \"goal\": \"accuracy_max\", \"run_name\": \"StandardScalerWrapper, XGBoostClassifier\", \"run_properties\": \"copy=True, with_mean=False, with_std=False\", \"primary_metric\": 0.85421213, \"best_metric\": 0.87276191}, {\"run_id\": \"AutoML_edc30558-b27c-4168-a13d-a7caec7264ff_29\", \"run_number\": 1656600523, \"metric\": null, \"status\": \"Completed\", \"run_type\": \"azureml.scriptrun\", \"training_percent\": \"100\", \"start_time\": \"2022-06-30T14:49:54.660998Z\", \"end_time\": \"2022-06-30T14:49:58.486136Z\", \"created_time\": \"2022-06-30T14:48:43.956536Z\", \"created_time_dt\": \"2022-06-30T14:48:43.956536Z\", \"duration\": \"0:01:14\", \"iteration\": \"29\", \"goal\": \"accuracy_max\", \"run_name\": \"StandardScalerWrapper, ExtremeRandomTrees\", \"run_properties\": \"copy=True, with_mean=False, with_std=True\", \"primary_metric\": 0.79027083, \"best_metric\": 0.87276191}, {\"run_id\": \"AutoML_edc30558-b27c-4168-a13d-a7caec7264ff_30\", \"run_number\": 1656600602, \"metric\": null, \"status\": \"Completed\", \"run_type\": \"azureml.scriptrun\", \"training_percent\": \"100\", \"start_time\": \"2022-06-30T14:51:56.807137Z\", \"end_time\": \"2022-06-30T14:52:00.595267Z\", \"created_time\": \"2022-06-30T14:50:02.606111Z\", \"created_time_dt\": \"2022-06-30T14:50:02.606111Z\", \"duration\": \"0:01:57\", \"iteration\": \"30\", \"goal\": \"accuracy_max\", \"run_name\": \"StandardScalerWrapper, XGBoostClassifier\", \"run_properties\": \"copy=True, with_mean=False, with_std=False\", \"primary_metric\": 0.85786677, \"best_metric\": 0.87276191}, {\"run_id\": \"AutoML_edc30558-b27c-4168-a13d-a7caec7264ff_31\", \"run_number\": 1656600722, \"metric\": null, \"status\": \"Canceled\", \"run_type\": \"azureml.scriptrun\", \"training_percent\": \"100\", \"start_time\": \"2022-06-30T14:54:05.909923Z\", \"end_time\": \"2022-06-30T14:54:38.908104Z\", \"created_time\": \"2022-06-30T14:52:02.47784Z\", \"created_time_dt\": \"2022-06-30T14:52:02.47784Z\", \"duration\": \"0:02:36\", \"iteration\": \"31\", \"goal\": \"accuracy_max\", \"run_name\": \"StandardScalerWrapper, XGBoostClassifier\", \"run_properties\": \"copy=True, with_mean=False, with_std=False\", \"primary_metric\": 0.86397829, \"best_metric\": 0.87276191}, {\"run_id\": \"AutoML_edc30558-b27c-4168-a13d-a7caec7264ff_32\", \"run_number\": 1656600879, \"metric\": null, \"status\": \"Completed\", \"run_type\": \"azureml.scriptrun\", \"training_percent\": \"100\", \"start_time\": \"2022-06-30T14:55:46.763256Z\", \"end_time\": \"2022-06-30T14:55:50.94004Z\", \"created_time\": \"2022-06-30T14:54:39.635646Z\", \"created_time_dt\": \"2022-06-30T14:54:39.635646Z\", \"duration\": \"0:01:11\", \"iteration\": \"32\", \"goal\": \"accuracy_max\", \"run_name\": \"VotingEnsemble\", \"run_properties\": \"classification_labels=numpy.array([0, 1]\", \"primary_metric\": 0.87448175, \"best_metric\": 0.87448175}, {\"run_id\": \"AutoML_edc30558-b27c-4168-a13d-a7caec7264ff_33\", \"run_number\": 1656600951, \"metric\": null, \"status\": \"Completed\", \"run_type\": \"azureml.scriptrun\", \"training_percent\": \"100\", \"start_time\": \"2022-06-30T14:57:14.695792Z\", \"end_time\": \"2022-06-30T14:57:18.645718Z\", \"created_time\": \"2022-06-30T14:55:51.521442Z\", \"created_time_dt\": \"2022-06-30T14:55:51.521442Z\", \"duration\": \"0:01:27\", \"iteration\": \"33\", \"goal\": \"accuracy_max\", \"run_name\": \"StackEnsemble\", \"run_properties\": \"base_learners=[('24', Pipeline(memory=None, steps=[('standardscalerwrapper', StandardScalerWrapper(copy=True, with_mean=False, with_std=False\", \"primary_metric\": 0.87426676, \"best_metric\": 0.87448175}], \"children_metrics\": {\"categories\": [0], \"series\": {\"f1_score_macro\": [{\"categories\": [\"0\", \"2\", \"5\", \"7\", \"10\", \"13\", \"15\", \"20\", \"21\", \"22\", \"23\", \"24\", \"25\", \"26\", \"27\", \"28\", \"29\", \"30\", \"31\", \"32\", \"33\"], \"mode\": \"markers\", \"name\": \"f1_score_macro\", \"stepped\": false, \"type\": \"scatter\", \"data\": [0.815716367441432, 0.6907262467309094, 0.5903081437883173, 0.782967088945923, 0.7146511700222348, 0.7611188787774242, 0.7005741158651956, 0.7651825827225893, 0.801290435298848, 0.7873107865604961, 0.6338463079507906, 0.8128196911269789, 0.43155623541447274, 0.6683768506553204, 0.79889144854022, 0.77830948049765, 0.6436595582877546, 0.7820827781411512, 0.8046765000173469, 0.8178103638222354, 0.8174511676844333]}, {\"categories\": [\"0\", \"2\", \"5\", \"7\", \"10\", \"13\", \"15\", \"20\", \"21\", \"22\", \"23\", \"24\", \"25\", \"26\", \"27\", \"28\", \"29\", \"30\", \"31\", \"32\", \"33\"], \"mode\": \"lines\", \"name\": \"f1_score_macro_max\", \"stepped\": true, \"type\": \"scatter\", \"data\": [0.815716367441432, 0.815716367441432, 0.815716367441432, 0.815716367441432, 0.815716367441432, 0.815716367441432, 0.815716367441432, 0.815716367441432, 0.815716367441432, 0.815716367441432, 0.815716367441432, 0.815716367441432, 0.815716367441432, 0.815716367441432, 0.815716367441432, 0.815716367441432, 0.815716367441432, 0.815716367441432, 0.815716367441432, 0.8178103638222354, 0.8178103638222354]}], \"f1_score_weighted\": [{\"categories\": [\"0\", \"2\", \"5\", \"7\", \"10\", \"13\", \"15\", \"20\", \"21\", \"22\", \"23\", \"24\", \"25\", \"26\", \"27\", \"28\", \"29\", \"30\", \"31\", \"32\", \"33\"], \"mode\": \"markers\", \"name\": \"f1_score_weighted\", \"stepped\": false, \"type\": \"scatter\", \"data\": [0.8688259411002214, 0.7411918051274865, 0.742464897858229, 0.8462207250445071, 0.8084884889895905, 0.8077834825426514, 0.7478252027518426, 0.8144951302177479, 0.8609603756080315, 0.8472741266243172, 0.759453002287539, 0.8677304954149381, 0.6552685709053898, 0.7852985187267366, 0.8559379270523589, 0.8455527435727201, 0.7620751855089051, 0.84870125811718, 0.8604723089751101, 0.8704858407689035, 0.8702458678276332]}, {\"categories\": [\"0\", \"2\", \"5\", \"7\", \"10\", \"13\", \"15\", \"20\", \"21\", \"22\", \"23\", \"24\", \"25\", \"26\", \"27\", \"28\", \"29\", \"30\", \"31\", \"32\", \"33\"], \"mode\": \"lines\", \"name\": \"f1_score_weighted_max\", \"stepped\": true, \"type\": \"scatter\", \"data\": [0.8688259411002214, 0.8688259411002214, 0.8688259411002214, 0.8688259411002214, 0.8688259411002214, 0.8688259411002214, 0.8688259411002214, 0.8688259411002214, 0.8688259411002214, 0.8688259411002214, 0.8688259411002214, 0.8688259411002214, 0.8688259411002214, 0.8688259411002214, 0.8688259411002214, 0.8688259411002214, 0.8688259411002214, 0.8688259411002214, 0.8688259411002214, 0.8704858407689035, 0.8704858407689035]}], \"precision_score_macro\": [{\"categories\": [\"0\", \"2\", \"5\", \"7\", \"10\", \"13\", \"15\", \"20\", \"21\", \"22\", \"23\", \"24\", \"25\", \"26\", \"27\", \"28\", \"29\", \"30\", \"31\", \"32\", \"33\"], \"mode\": \"markers\", \"name\": \"precision_score_macro\", \"stepped\": false, \"type\": \"scatter\", \"data\": [0.8378463740553066, 0.6949623083313752, 0.8892939270334723, 0.8074373431001269, 0.8086755945751882, 0.7480037238389438, 0.7065728019115154, 0.7493135484616558, 0.8423631236369818, 0.7998867839201956, 0.743210913979994, 0.8427586823036277, 0.3795952604335838, 0.8557895000033084, 0.8139368050106477, 0.8222342890701375, 0.7220546321156192, 0.8314977119938909, 0.8225954308181803, 0.8414581203348735, 0.8411976903748247]}, {\"categories\": [\"0\", \"2\", \"5\", \"7\", \"10\", \"13\", \"15\", \"20\", \"21\", \"22\", \"23\", \"24\", \"25\", \"26\", \"27\", \"28\", \"29\", \"30\", \"31\", \"32\", \"33\"], \"mode\": \"lines\", \"name\": \"precision_score_macro_max\", \"stepped\": true, \"type\": \"scatter\", \"data\": [0.8378463740553066, 0.8378463740553066, 0.8892939270334723, 0.8892939270334723, 0.8892939270334723, 0.8892939270334723, 0.8892939270334723, 0.8892939270334723, 0.8892939270334723, 0.8892939270334723, 0.8892939270334723, 0.8892939270334723, 0.8892939270334723, 0.8892939270334723, 0.8892939270334723, 0.8892939270334723, 0.8892939270334723, 0.8892939270334723, 0.8892939270334723, 0.8892939270334723, 0.8892939270334723]}], \"balanced_accuracy\": [{\"categories\": [\"0\", \"2\", \"5\", \"7\", \"10\", \"13\", \"15\", \"20\", \"21\", \"22\", \"23\", \"24\", \"25\", \"26\", \"27\", \"28\", \"29\", \"30\", \"31\", \"32\", \"33\"], \"mode\": \"markers\", \"name\": \"balanced_accuracy\", \"stepped\": false, \"type\": \"scatter\", \"data\": [0.7992764743158827, 0.7632641560360388, 0.587066483471363, 0.7659806620305508, 0.6847381925857863, 0.8199427268608852, 0.780156384190757, 0.8118774919201892, 0.7762869871577674, 0.7771274922152742, 0.6170277217830563, 0.7923234237016687, 0.5, 0.6420305505223454, 0.7869630563722851, 0.7533270631426363, 0.627385133560667, 0.755102223993007, 0.7908810398402362, 0.8004711833731559, 0.8000667884821429]}, {\"categories\": [\"0\", \"2\", \"5\", \"7\", \"10\", \"13\", \"15\", \"20\", \"21\", \"22\", \"23\", \"24\", \"25\", \"26\", \"27\", \"28\", \"29\", \"30\", \"31\", \"32\", \"33\"], \"mode\": \"lines\", \"name\": \"balanced_accuracy_max\", \"stepped\": true, \"type\": \"scatter\", \"data\": [0.7992764743158827, 0.7992764743158827, 0.7992764743158827, 0.7992764743158827, 0.7992764743158827, 0.8199427268608852, 0.8199427268608852, 0.8199427268608852, 0.8199427268608852, 0.8199427268608852, 0.8199427268608852, 0.8199427268608852, 0.8199427268608852, 0.8199427268608852, 0.8199427268608852, 0.8199427268608852, 0.8199427268608852, 0.8199427268608852, 0.8199427268608852, 0.8199427268608852, 0.8199427268608852]}], \"AUC_micro\": [{\"categories\": [\"0\", \"2\", \"5\", \"7\", \"10\", \"13\", \"15\", \"20\", \"21\", \"22\", \"23\", \"24\", \"25\", \"26\", \"27\", \"28\", \"29\", \"30\", \"31\", \"32\", \"33\"], \"mode\": \"markers\", \"name\": \"AUC_micro\", \"stepped\": false, \"type\": \"scatter\", \"data\": [0.9520225653300857, 0.8487167132232148, 0.9109573839451602, 0.9361459635141094, 0.9152134765245419, 0.8904978122542605, 0.8634813218971941, 0.8872865241543572, 0.9493595026737705, 0.9363883774318325, 0.8971901623276839, 0.9518460227396531, 0.7591905208671677, 0.9168138462598714, 0.9422572518086548, 0.9383108611287287, 0.8857001278591582, 0.9379198923168882, 0.9472021250964756, 0.9518189169654863, 0.9517913542399248]}, {\"categories\": [\"0\", \"2\", \"5\", \"7\", \"10\", \"13\", \"15\", \"20\", \"21\", \"22\", \"23\", \"24\", \"25\", \"26\", \"27\", \"28\", \"29\", \"30\", \"31\", \"32\", \"33\"], \"mode\": \"lines\", \"name\": \"AUC_micro_max\", \"stepped\": true, \"type\": \"scatter\", \"data\": [0.9520225653300857, 0.9520225653300857, 0.9520225653300857, 0.9520225653300857, 0.9520225653300857, 0.9520225653300857, 0.9520225653300857, 0.9520225653300857, 0.9520225653300857, 0.9520225653300857, 0.9520225653300857, 0.9520225653300857, 0.9520225653300857, 0.9520225653300857, 0.9520225653300857, 0.9520225653300857, 0.9520225653300857, 0.9520225653300857, 0.9520225653300857, 0.9520225653300857, 0.9520225653300857]}], \"log_loss\": [{\"categories\": [\"0\", \"2\", \"5\", \"7\", \"10\", \"13\", \"15\", \"20\", \"21\", \"22\", \"23\", \"24\", \"25\", \"26\", \"27\", \"28\", \"29\", \"30\", \"31\", \"32\", \"33\"], \"mode\": \"markers\", \"name\": \"log_loss\", \"stepped\": false, \"type\": \"scatter\", \"data\": [0.2784184548460938, 0.5036099027116032, 0.4184177652420362, 0.3196566917902366, 0.37864700868137824, 0.6118531858791649, 0.46832192193519606, 0.45827017472294873, 0.2905128901290001, 0.4169620547477944, 0.4084824942571437, 0.27947920030997286, 0.57342074797323, 0.400225207364859, 0.3249162493911617, 0.4782161691249103, 0.4246486842723381, 0.4442156120086911, 0.2979212155664938, 0.2965249686581428, 0.29099548969840566]}, {\"categories\": [\"0\", \"2\", \"5\", \"7\", \"10\", \"13\", \"15\", \"20\", \"21\", \"22\", \"23\", \"24\", \"25\", \"26\", \"27\", \"28\", \"29\", \"30\", \"31\", \"32\", \"33\"], \"mode\": \"lines\", \"name\": \"log_loss_min\", \"stepped\": true, \"type\": \"scatter\", \"data\": [0.2784184548460938, 0.2784184548460938, 0.2784184548460938, 0.2784184548460938, 0.2784184548460938, 0.2784184548460938, 0.2784184548460938, 0.2784184548460938, 0.2784184548460938, 0.2784184548460938, 0.2784184548460938, 0.2784184548460938, 0.2784184548460938, 0.2784184548460938, 0.2784184548460938, 0.2784184548460938, 0.2784184548460938, 0.2784184548460938, 0.2784184548460938, 0.2784184548460938, 0.2784184548460938]}], \"precision_score_weighted\": [{\"categories\": [\"0\", \"2\", \"5\", \"7\", \"10\", \"13\", \"15\", \"20\", \"21\", \"22\", \"23\", \"24\", \"25\", \"26\", \"27\", \"28\", \"29\", \"30\", \"31\", \"32\", \"33\"], \"mode\": \"markers\", \"name\": \"precision_score_weighted\", \"stepped\": false, \"type\": \"scatter\", \"data\": [0.8682796555193143, 0.8180447327763882, 0.8391114739476612, 0.8452246047521286, 0.8230677014057722, 0.8520173206615915, 0.831238719583369, 0.845944403203809, 0.8631055851549322, 0.8457396307336544, 0.7761085000512623, 0.8681258850981862, 0.5763729761569271, 0.8349888241047416, 0.8546079534818125, 0.847690358655818, 0.7688537497276597, 0.8522439756010567, 0.8593718226498156, 0.8701383926609827, 0.8699039548524885]}, {\"categories\": [\"0\", \"2\", \"5\", \"7\", \"10\", \"13\", \"15\", \"20\", \"21\", \"22\", \"23\", \"24\", \"25\", \"26\", \"27\", \"28\", \"29\", \"30\", \"31\", \"32\", \"33\"], \"mode\": \"lines\", \"name\": \"precision_score_weighted_max\", \"stepped\": true, \"type\": \"scatter\", \"data\": [0.8682796555193143, 0.8682796555193143, 0.8682796555193143, 0.8682796555193143, 0.8682796555193143, 0.8682796555193143, 0.8682796555193143, 0.8682796555193143, 0.8682796555193143, 0.8682796555193143, 0.8682796555193143, 0.8682796555193143, 0.8682796555193143, 0.8682796555193143, 0.8682796555193143, 0.8682796555193143, 0.8682796555193143, 0.8682796555193143, 0.8682796555193143, 0.8701383926609827, 0.8701383926609827]}], \"average_precision_score_macro\": [{\"categories\": [\"0\", \"2\", \"5\", \"7\", \"10\", \"13\", \"15\", \"20\", \"21\", \"22\", \"23\", \"24\", \"25\", \"26\", \"27\", \"28\", \"29\", \"30\", \"31\", \"32\", \"33\"], \"mode\": \"markers\", \"name\": \"average_precision_score_macro\", \"stepped\": false, \"type\": \"scatter\", \"data\": [0.9025078085389404, 0.8026502395475857, 0.8707711240215092, 0.8665055499385634, 0.823777979400019, 0.8548166007891792, 0.8263165066806764, 0.8364307208308501, 0.8981804068623125, 0.8738410810561039, 0.7849076434958702, 0.9022559834137018, 0.5, 0.8384368595860326, 0.8838379644144903, 0.8755963440130026, 0.7529106675892805, 0.8771754310464204, 0.8927904656931357, 0.9023923631768656, 0.9024102633634046]}, {\"categories\": [\"0\", \"2\", \"5\", \"7\", \"10\", \"13\", \"15\", \"20\", \"21\", \"22\", \"23\", \"24\", \"25\", \"26\", \"27\", \"28\", \"29\", \"30\", \"31\", \"32\", \"33\"], \"mode\": \"lines\", \"name\": \"average_precision_score_macro_max\", \"stepped\": true, \"type\": \"scatter\", \"data\": [0.9025078085389404, 0.9025078085389404, 0.9025078085389404, 0.9025078085389404, 0.9025078085389404, 0.9025078085389404, 0.9025078085389404, 0.9025078085389404, 0.9025078085389404, 0.9025078085389404, 0.9025078085389404, 0.9025078085389404, 0.9025078085389404, 0.9025078085389404, 0.9025078085389404, 0.9025078085389404, 0.9025078085389404, 0.9025078085389404, 0.9025078085389404, 0.9025078085389404, 0.9025078085389404]}], \"AUC_macro\": [{\"categories\": [\"0\", \"2\", \"5\", \"7\", \"10\", \"13\", \"15\", \"20\", \"21\", \"22\", \"23\", \"24\", \"25\", \"26\", \"27\", \"28\", \"29\", \"30\", \"31\", \"32\", \"33\"], \"mode\": \"markers\", \"name\": \"AUC_macro\", \"stepped\": false, \"type\": \"scatter\", \"data\": [0.9281315093870827, 0.8578205058861844, 0.9027190216721712, 0.9064446508613168, 0.8749714311865514, 0.9033662040112624, 0.874689507739949, 0.8910833105399781, 0.9242524118908285, 0.9047824675994717, 0.8547806950513237, 0.9281270855505577, 0.5, 0.8841032467660664, 0.9138230932293823, 0.9063596192975968, 0.8306015386440263, 0.9045547464434861, 0.9212200994673777, 0.9279597888638405, 0.928015152023051]}, {\"categories\": [\"0\", \"2\", \"5\", \"7\", \"10\", \"13\", \"15\", \"20\", \"21\", \"22\", \"23\", \"24\", \"25\", \"26\", \"27\", \"28\", \"29\", \"30\", \"31\", \"32\", \"33\"], \"mode\": \"lines\", \"name\": \"AUC_macro_max\", \"stepped\": true, \"type\": \"scatter\", \"data\": [0.9281315093870827, 0.9281315093870827, 0.9281315093870827, 0.9281315093870827, 0.9281315093870827, 0.9281315093870827, 0.9281315093870827, 0.9281315093870827, 0.9281315093870827, 0.9281315093870827, 0.9281315093870827, 0.9281315093870827, 0.9281315093870827, 0.9281315093870827, 0.9281315093870827, 0.9281315093870827, 0.9281315093870827, 0.9281315093870827, 0.9281315093870827, 0.9281315093870827, 0.9281315093870827]}], \"recall_score_weighted\": [{\"categories\": [\"0\", \"2\", \"5\", \"7\", \"10\", \"13\", \"15\", \"20\", \"21\", \"22\", \"23\", \"24\", \"25\", \"26\", \"27\", \"28\", \"29\", \"30\", \"31\", \"32\", \"33\"], \"mode\": \"markers\", \"name\": \"recall_score_weighted\", \"stepped\": false, \"type\": \"scatter\", \"data\": [0.8726697380140493, 0.7213845178665538, 0.8006818908016513, 0.8515708707325473, 0.8294584852219582, 0.7950922102119706, 0.7283252197174352, 0.8037222804438373, 0.8679709283002696, 0.8502196467016827, 0.7942016081237637, 0.872761908615202, 0.7591905208671677, 0.821780583606931, 0.8590952096940121, 0.8542121295115308, 0.7902708333097553, 0.8578667697679674, 0.8639782898764935, 0.8744817490326472, 0.8742667613176595]}, {\"categories\": [\"0\", \"2\", \"5\", \"7\", \"10\", \"13\", \"15\", \"20\", \"21\", \"22\", \"23\", \"24\", \"25\", \"26\", \"27\", \"28\", \"29\", \"30\", \"31\", \"32\", \"33\"], \"mode\": \"lines\", \"name\": \"recall_score_weighted_max\", \"stepped\": true, \"type\": \"scatter\", \"data\": [0.8726697380140493, 0.8726697380140493, 0.8726697380140493, 0.8726697380140493, 0.8726697380140493, 0.8726697380140493, 0.8726697380140493, 0.8726697380140493, 0.8726697380140493, 0.8726697380140493, 0.8726697380140493, 0.872761908615202, 0.872761908615202, 0.872761908615202, 0.872761908615202, 0.872761908615202, 0.872761908615202, 0.872761908615202, 0.872761908615202, 0.8744817490326472, 0.8744817490326472]}], \"average_precision_score_weighted\": [{\"categories\": [\"0\", \"2\", \"5\", \"7\", \"10\", \"13\", \"15\", \"20\", \"21\", \"22\", \"23\", \"24\", \"25\", \"26\", \"27\", \"28\", \"29\", \"30\", \"31\", \"32\", \"33\"], \"mode\": \"markers\", \"name\": \"average_precision_score_weighted\", \"stepped\": false, \"type\": \"scatter\", \"data\": [0.9402729161521275, 0.8795303643737971, 0.9197866867895629, 0.9191578976619701, 0.891019100759571, 0.9126952978695264, 0.8940744752377503, 0.9020306808498697, 0.9374542384071892, 0.9219405380184241, 0.8705900980192244, 0.940215696520732, 0.6343649105795188, 0.8977953373823804, 0.9286701074186752, 0.9231259414738204, 0.8507965236226862, 0.9233106434064592, 0.9343767326868608, 0.9401598990812576, 0.9401753634961443]}, {\"categories\": [\"0\", \"2\", \"5\", \"7\", \"10\", \"13\", \"15\", \"20\", \"21\", \"22\", \"23\", \"24\", \"25\", \"26\", \"27\", \"28\", \"29\", \"30\", \"31\", \"32\", \"33\"], \"mode\": \"lines\", \"name\": \"average_precision_score_weighted_max\", \"stepped\": true, \"type\": \"scatter\", \"data\": [0.9402729161521275, 0.9402729161521275, 0.9402729161521275, 0.9402729161521275, 0.9402729161521275, 0.9402729161521275, 0.9402729161521275, 0.9402729161521275, 0.9402729161521275, 0.9402729161521275, 0.9402729161521275, 0.9402729161521275, 0.9402729161521275, 0.9402729161521275, 0.9402729161521275, 0.9402729161521275, 0.9402729161521275, 0.9402729161521275, 0.9402729161521275, 0.9402729161521275, 0.9402729161521275]}], \"norm_macro_recall\": [{\"categories\": [\"0\", \"2\", \"5\", \"7\", \"10\", \"13\", \"15\", \"20\", \"21\", \"22\", \"23\", \"24\", \"25\", \"26\", \"27\", \"28\", \"29\", \"30\", \"31\", \"32\", \"33\"], \"mode\": \"markers\", \"name\": \"norm_macro_recall\", \"stepped\": false, \"type\": \"scatter\", \"data\": [0.5985529486317652, 0.5265283120720776, 0.1741329669427262, 0.5319613240611016, 0.36947638517157244, 0.6398854537217705, 0.560312768381514, 0.6237549838403784, 0.5525739743155349, 0.5542549844305484, 0.23405544356611271, 0.5846468474033377, 0.0, 0.2840611010446908, 0.5739261127445703, 0.5066541262852725, 0.25477026712133416, 0.5102044479860138, 0.5817620796804726, 0.6009423667463119, 0.6001335769642856]}, {\"categories\": [\"0\", \"2\", \"5\", \"7\", \"10\", \"13\", \"15\", \"20\", \"21\", \"22\", \"23\", \"24\", \"25\", \"26\", \"27\", \"28\", \"29\", \"30\", \"31\", \"32\", \"33\"], \"mode\": \"lines\", \"name\": \"norm_macro_recall_max\", \"stepped\": true, \"type\": \"scatter\", \"data\": [0.5985529486317652, 0.5985529486317652, 0.5985529486317652, 0.5985529486317652, 0.5985529486317652, 0.6398854537217705, 0.6398854537217705, 0.6398854537217705, 0.6398854537217705, 0.6398854537217705, 0.6398854537217705, 0.6398854537217705, 0.6398854537217705, 0.6398854537217705, 0.6398854537217705, 0.6398854537217705, 0.6398854537217705, 0.6398854537217705, 0.6398854537217705, 0.6398854537217705, 0.6398854537217705]}], \"matthews_correlation\": [{\"categories\": [\"0\", \"2\", \"5\", \"7\", \"10\", \"13\", \"15\", \"20\", \"21\", \"22\", \"23\", \"24\", \"25\", \"26\", \"27\", \"28\", \"29\", \"30\", \"31\", \"32\", \"33\"], \"mode\": \"markers\", \"name\": \"matthews_correlation\", \"stepped\": false, \"type\": \"scatter\", \"data\": [0.6359495682475611, 0.4531064191570602, 0.36772790194703886, 0.5719011939196541, 0.47750608320187193, 0.5633586274621358, 0.48113344366165167, 0.5576913098588714, 0.615107506901553, 0.5765564229660753, 0.3373002973186078, 0.6330715255631125, 0.0, 0.4488358649939732, 0.6002882676206143, 0.5714019254894497, 0.33507212805326547, 0.5815471932112675, 0.6126505188244156, 0.6406178204699623, 0.6399414000111939]}, {\"categories\": [\"0\", \"2\", \"5\", \"7\", \"10\", \"13\", \"15\", \"20\", \"21\", \"22\", \"23\", \"24\", \"25\", \"26\", \"27\", \"28\", \"29\", \"30\", \"31\", \"32\", \"33\"], \"mode\": \"lines\", \"name\": \"matthews_correlation_max\", \"stepped\": true, \"type\": \"scatter\", \"data\": [0.6359495682475611, 0.6359495682475611, 0.6359495682475611, 0.6359495682475611, 0.6359495682475611, 0.6359495682475611, 0.6359495682475611, 0.6359495682475611, 0.6359495682475611, 0.6359495682475611, 0.6359495682475611, 0.6359495682475611, 0.6359495682475611, 0.6359495682475611, 0.6359495682475611, 0.6359495682475611, 0.6359495682475611, 0.6359495682475611, 0.6359495682475611, 0.6406178204699623, 0.6406178204699623]}], \"recall_score_micro\": [{\"categories\": [\"0\", \"2\", \"5\", \"7\", \"10\", \"13\", \"15\", \"20\", \"21\", \"22\", \"23\", \"24\", \"25\", \"26\", \"27\", \"28\", \"29\", \"30\", \"31\", \"32\", \"33\"], \"mode\": \"markers\", \"name\": \"recall_score_micro\", \"stepped\": false, \"type\": \"scatter\", \"data\": [0.8726697380140493, 0.7213845178665538, 0.8006818908016513, 0.8515708707325473, 0.8294584852219582, 0.7950922102119706, 0.7283252197174352, 0.8037222804438373, 0.8679709283002696, 0.8502196467016827, 0.7942016081237637, 0.872761908615202, 0.7591905208671677, 0.821780583606931, 0.8590952096940121, 0.8542121295115308, 0.7902708333097553, 0.8578667697679674, 0.8639782898764935, 0.8744817490326472, 0.8742667613176595]}, {\"categories\": [\"0\", \"2\", \"5\", \"7\", \"10\", \"13\", \"15\", \"20\", \"21\", \"22\", \"23\", \"24\", \"25\", \"26\", \"27\", \"28\", \"29\", \"30\", \"31\", \"32\", \"33\"], \"mode\": \"lines\", \"name\": \"recall_score_micro_max\", \"stepped\": true, \"type\": \"scatter\", \"data\": [0.8726697380140493, 0.8726697380140493, 0.8726697380140493, 0.8726697380140493, 0.8726697380140493, 0.8726697380140493, 0.8726697380140493, 0.8726697380140493, 0.8726697380140493, 0.8726697380140493, 0.8726697380140493, 0.872761908615202, 0.872761908615202, 0.872761908615202, 0.872761908615202, 0.872761908615202, 0.872761908615202, 0.872761908615202, 0.872761908615202, 0.8744817490326472, 0.8744817490326472]}], \"weighted_accuracy\": [{\"categories\": [\"0\", \"2\", \"5\", \"7\", \"10\", \"13\", \"15\", \"20\", \"21\", \"22\", \"23\", \"24\", \"25\", \"26\", \"27\", \"28\", \"29\", \"30\", \"31\", \"32\", \"33\"], \"mode\": \"markers\", \"name\": \"weighted_accuracy\", \"stepped\": false, \"type\": \"scatter\", \"data\": [0.914971440664319, 0.6972469132572279, 0.9238172497952648, 0.9009098487536221, 0.9128555101646014, 0.7807511867428591, 0.6984545750995261, 0.799025262960778, 0.9208149094090554, 0.892345227471556, 0.8963228446978159, 0.9191222573153013, 0.9085786321332501, 0.9253710920079883, 0.900663351823825, 0.9123558014250083, 0.88414329575671, 0.917085828400146, 0.9061042405165016, 0.9171394166085822, 0.9170330988779372]}, {\"categories\": [\"0\", \"2\", \"5\", \"7\", \"10\", \"13\", \"15\", \"20\", \"21\", \"22\", \"23\", \"24\", \"25\", \"26\", \"27\", \"28\", \"29\", \"30\", \"31\", \"32\", \"33\"], \"mode\": \"lines\", \"name\": \"weighted_accuracy_max\", \"stepped\": true, \"type\": \"scatter\", \"data\": [0.914971440664319, 0.914971440664319, 0.9238172497952648, 0.9238172497952648, 0.9238172497952648, 0.9238172497952648, 0.9238172497952648, 0.9238172497952648, 0.9238172497952648, 0.9238172497952648, 0.9238172497952648, 0.9238172497952648, 0.9238172497952648, 0.9253710920079883, 0.9253710920079883, 0.9253710920079883, 0.9253710920079883, 0.9253710920079883, 0.9253710920079883, 0.9253710920079883, 0.9253710920079883]}], \"f1_score_micro\": [{\"categories\": [\"0\", \"2\", \"5\", \"7\", \"10\", \"13\", \"15\", \"20\", \"21\", \"22\", \"23\", \"24\", \"25\", \"26\", \"27\", \"28\", \"29\", \"30\", \"31\", \"32\", \"33\"], \"mode\": \"markers\", \"name\": \"f1_score_micro\", \"stepped\": false, \"type\": \"scatter\", \"data\": [0.8726697380140493, 0.7213845178665538, 0.8006818908016514, 0.8515708707325473, 0.8294584852219582, 0.7950922102119706, 0.7283252197174352, 0.8037222804438373, 0.8679709283002696, 0.8502196467016827, 0.794201608123764, 0.872761908615202, 0.7591905208671677, 0.8217805836069308, 0.8590952096940121, 0.8542121295115308, 0.7902708333097553, 0.8578667697679675, 0.8639782898764935, 0.8744817490326472, 0.8742667613176595]}, {\"categories\": [\"0\", \"2\", \"5\", \"7\", \"10\", \"13\", \"15\", \"20\", \"21\", \"22\", \"23\", \"24\", \"25\", \"26\", \"27\", \"28\", \"29\", \"30\", \"31\", \"32\", \"33\"], \"mode\": \"lines\", \"name\": \"f1_score_micro_max\", \"stepped\": true, \"type\": \"scatter\", \"data\": [0.8726697380140493, 0.8726697380140493, 0.8726697380140493, 0.8726697380140493, 0.8726697380140493, 0.8726697380140493, 0.8726697380140493, 0.8726697380140493, 0.8726697380140493, 0.8726697380140493, 0.8726697380140493, 0.872761908615202, 0.872761908615202, 0.872761908615202, 0.872761908615202, 0.872761908615202, 0.872761908615202, 0.872761908615202, 0.872761908615202, 0.8744817490326472, 0.8744817490326472]}], \"precision_score_micro\": [{\"categories\": [\"0\", \"2\", \"5\", \"7\", \"10\", \"13\", \"15\", \"20\", \"21\", \"22\", \"23\", \"24\", \"25\", \"26\", \"27\", \"28\", \"29\", \"30\", \"31\", \"32\", \"33\"], \"mode\": \"markers\", \"name\": \"precision_score_micro\", \"stepped\": false, \"type\": \"scatter\", \"data\": [0.8726697380140493, 0.7213845178665538, 0.8006818908016513, 0.8515708707325473, 0.8294584852219582, 0.7950922102119706, 0.7283252197174352, 0.8037222804438373, 0.8679709283002696, 0.8502196467016827, 0.7942016081237637, 0.872761908615202, 0.7591905208671677, 0.821780583606931, 0.8590952096940121, 0.8542121295115308, 0.7902708333097553, 0.8578667697679674, 0.8639782898764935, 0.8744817490326472, 0.8742667613176595]}, {\"categories\": [\"0\", \"2\", \"5\", \"7\", \"10\", \"13\", \"15\", \"20\", \"21\", \"22\", \"23\", \"24\", \"25\", \"26\", \"27\", \"28\", \"29\", \"30\", \"31\", \"32\", \"33\"], \"mode\": \"lines\", \"name\": \"precision_score_micro_max\", \"stepped\": true, \"type\": \"scatter\", \"data\": [0.8726697380140493, 0.8726697380140493, 0.8726697380140493, 0.8726697380140493, 0.8726697380140493, 0.8726697380140493, 0.8726697380140493, 0.8726697380140493, 0.8726697380140493, 0.8726697380140493, 0.8726697380140493, 0.872761908615202, 0.872761908615202, 0.872761908615202, 0.872761908615202, 0.872761908615202, 0.872761908615202, 0.872761908615202, 0.872761908615202, 0.8744817490326472, 0.8744817490326472]}], \"AUC_weighted\": [{\"categories\": [\"0\", \"2\", \"5\", \"7\", \"10\", \"13\", \"15\", \"20\", \"21\", \"22\", \"23\", \"24\", \"25\", \"26\", \"27\", \"28\", \"29\", \"30\", \"31\", \"32\", \"33\"], \"mode\": \"markers\", \"name\": \"AUC_weighted\", \"stepped\": false, \"type\": \"scatter\", \"data\": [0.9281315093870829, 0.8578205058861844, 0.9027190216721712, 0.9064446508613168, 0.8749714311865514, 0.9033662040112624, 0.8746895077399488, 0.8910833105399781, 0.9242524118908285, 0.9047824379871614, 0.8547806950513237, 0.9281270855505579, 0.5, 0.8841032467660664, 0.9138230932293823, 0.9063595285091877, 0.8306015386440263, 0.9045547230982877, 0.9212200928033845, 0.9279597888638405, 0.928015152023051]}, {\"categories\": [\"0\", \"2\", \"5\", \"7\", \"10\", \"13\", \"15\", \"20\", \"21\", \"22\", \"23\", \"24\", \"25\", \"26\", \"27\", \"28\", \"29\", \"30\", \"31\", \"32\", \"33\"], \"mode\": \"lines\", \"name\": \"AUC_weighted_max\", \"stepped\": true, \"type\": \"scatter\", \"data\": [0.9281315093870829, 0.9281315093870829, 0.9281315093870829, 0.9281315093870829, 0.9281315093870829, 0.9281315093870829, 0.9281315093870829, 0.9281315093870829, 0.9281315093870829, 0.9281315093870829, 0.9281315093870829, 0.9281315093870829, 0.9281315093870829, 0.9281315093870829, 0.9281315093870829, 0.9281315093870829, 0.9281315093870829, 0.9281315093870829, 0.9281315093870829, 0.9281315093870829, 0.9281315093870829]}], \"average_precision_score_micro\": [{\"categories\": [\"0\", \"2\", \"5\", \"7\", \"10\", \"13\", \"15\", \"20\", \"21\", \"22\", \"23\", \"24\", \"25\", \"26\", \"27\", \"28\", \"29\", \"30\", \"31\", \"32\", \"33\"], \"mode\": \"markers\", \"name\": \"average_precision_score_micro\", \"stepped\": false, \"type\": \"scatter\", \"data\": [0.9537644330261535, 0.8588313426331713, 0.9149308307343423, 0.9382291655550692, 0.9148533433935195, 0.8906336805036679, 0.8725255959231276, 0.885567613319842, 0.9511004701398779, 0.9385261018597187, 0.9014910371289357, 0.9536731370351447, 0.6967777157233431, 0.913552237806952, 0.9444554460458525, 0.9402929534787139, 0.8906176680534168, 0.9396647118659649, 0.9492223231756404, 0.9534680223614549, 0.9534017750221284]}, {\"categories\": [\"0\", \"2\", \"5\", \"7\", \"10\", \"13\", \"15\", \"20\", \"21\", \"22\", \"23\", \"24\", \"25\", \"26\", \"27\", \"28\", \"29\", \"30\", \"31\", \"32\", \"33\"], \"mode\": \"lines\", \"name\": \"average_precision_score_micro_max\", \"stepped\": true, \"type\": \"scatter\", \"data\": [0.9537644330261535, 0.9537644330261535, 0.9537644330261535, 0.9537644330261535, 0.9537644330261535, 0.9537644330261535, 0.9537644330261535, 0.9537644330261535, 0.9537644330261535, 0.9537644330261535, 0.9537644330261535, 0.9537644330261535, 0.9537644330261535, 0.9537644330261535, 0.9537644330261535, 0.9537644330261535, 0.9537644330261535, 0.9537644330261535, 0.9537644330261535, 0.9537644330261535, 0.9537644330261535]}], \"recall_score_macro\": [{\"categories\": [\"0\", \"2\", \"5\", \"7\", \"10\", \"13\", \"15\", \"20\", \"21\", \"22\", \"23\", \"24\", \"25\", \"26\", \"27\", \"28\", \"29\", \"30\", \"31\", \"32\", \"33\"], \"mode\": \"markers\", \"name\": \"recall_score_macro\", \"stepped\": false, \"type\": \"scatter\", \"data\": [0.7992764743158827, 0.7632641560360388, 0.587066483471363, 0.7659806620305508, 0.6847381925857863, 0.8199427268608852, 0.780156384190757, 0.8118774919201892, 0.7762869871577674, 0.7771274922152742, 0.6170277217830563, 0.7923234237016687, 0.5, 0.6420305505223454, 0.7869630563722851, 0.7533270631426363, 0.627385133560667, 0.755102223993007, 0.7908810398402362, 0.8004711833731559, 0.8000667884821429]}, {\"categories\": [\"0\", \"2\", \"5\", \"7\", \"10\", \"13\", \"15\", \"20\", \"21\", \"22\", \"23\", \"24\", \"25\", \"26\", \"27\", \"28\", \"29\", \"30\", \"31\", \"32\", \"33\"], \"mode\": \"lines\", \"name\": \"recall_score_macro_max\", \"stepped\": true, \"type\": \"scatter\", \"data\": [0.7992764743158827, 0.7992764743158827, 0.7992764743158827, 0.7992764743158827, 0.7992764743158827, 0.8199427268608852, 0.8199427268608852, 0.8199427268608852, 0.8199427268608852, 0.8199427268608852, 0.8199427268608852, 0.8199427268608852, 0.8199427268608852, 0.8199427268608852, 0.8199427268608852, 0.8199427268608852, 0.8199427268608852, 0.8199427268608852, 0.8199427268608852, 0.8199427268608852, 0.8199427268608852]}], \"accuracy\": [{\"categories\": [\"0\", \"2\", \"5\", \"7\", \"10\", \"13\", \"15\", \"20\", \"21\", \"22\", \"23\", \"24\", \"25\", \"26\", \"27\", \"28\", \"29\", \"30\", \"31\", \"32\", \"33\"], \"mode\": \"markers\", \"name\": \"accuracy\", \"stepped\": false, \"type\": \"scatter\", \"data\": [0.8726697380140493, 0.7213845178665538, 0.8006818908016513, 0.8515708707325473, 0.8294584852219582, 0.7950922102119706, 0.7283252197174352, 0.8037222804438373, 0.8679709283002696, 0.8502196467016827, 0.7942016081237637, 0.872761908615202, 0.7591905208671677, 0.821780583606931, 0.8590952096940121, 0.8542121295115308, 0.7902708333097553, 0.8578667697679674, 0.8639782898764935, 0.8744817490326472, 0.8742667613176595]}, {\"categories\": [\"0\", \"2\", \"5\", \"7\", \"10\", \"13\", \"15\", \"20\", \"21\", \"22\", \"23\", \"24\", \"25\", \"26\", \"27\", \"28\", \"29\", \"30\", \"31\", \"32\", \"33\"], \"mode\": \"lines\", \"name\": \"accuracy_max\", \"stepped\": true, \"type\": \"scatter\", \"data\": [0.8726697380140493, 0.8726697380140493, 0.8726697380140493, 0.8726697380140493, 0.8726697380140493, 0.8726697380140493, 0.8726697380140493, 0.8726697380140493, 0.8726697380140493, 0.8726697380140493, 0.8726697380140493, 0.872761908615202, 0.872761908615202, 0.872761908615202, 0.872761908615202, 0.872761908615202, 0.872761908615202, 0.872761908615202, 0.872761908615202, 0.8744817490326472, 0.8744817490326472]}]}, \"metricName\": null, \"primaryMetricName\": \"accuracy\", \"showLegend\": false}, \"run_metrics\": [{\"name\": \"experiment_status\", \"run_id\": \"AutoML_edc30558-b27c-4168-a13d-a7caec7264ff\", \"categories\": [0, 1, 2, 3, 4, 5, 6, 7, 8, 9, 10, 11, 12, 13], \"series\": [{\"data\": [\"DatasetEvaluation\", \"FeaturesGeneration\", \"DatasetFeaturization\", \"DatasetFeaturizationCompleted\", \"DatasetCrossValidationSplit\", \"ModelSelection\", \"BestRunExplainModel\", \"ModelExplanationDataSetSetup\", \"PickSurrogateModel\", \"EngineeredFeatureExplanations\", \"EngineeredFeatureExplanations\", \"RawFeaturesExplanations\", \"RawFeaturesExplanations\", \"BestRunExplainModel\"]}]}, {\"name\": \"experiment_status_description\", \"run_id\": \"AutoML_edc30558-b27c-4168-a13d-a7caec7264ff\", \"categories\": [0, 1, 2, 3, 4, 5, 6, 7, 8, 9, 10, 11, 12, 13], \"series\": [{\"data\": [\"Gathering dataset statistics.\", \"Generating features for the dataset.\", \"Beginning to fit featurizers and featurize the dataset.\", \"Completed fit featurizers and featurizing the dataset.\", \"Generating individually featurized CV splits.\", \"Beginning model selection.\", \"Best run model explanations started\", \"Model explanations data setup completed\", \"Choosing LightGBM as the surrogate model for explanations\", \"Computation of engineered features started\", \"Computation of engineered features completed\", \"Computation of raw features started\", \"Computation of raw features completed\", \"Best run model explanations completed\"]}]}, {\"name\": \"average_precision_score_macro\", \"run_id\": \"AutoML_edc30558-b27c-4168-a13d-a7caec7264ff\", \"categories\": [0], \"series\": [{\"data\": [0.9023923631768656]}]}, {\"name\": \"precision_score_micro\", \"run_id\": \"AutoML_edc30558-b27c-4168-a13d-a7caec7264ff\", \"categories\": [0], \"series\": [{\"data\": [0.8744817490326472]}]}, {\"name\": \"accuracy\", \"run_id\": \"AutoML_edc30558-b27c-4168-a13d-a7caec7264ff\", \"categories\": [0], \"series\": [{\"data\": [0.8744817490326472]}]}, {\"name\": \"precision_score_weighted\", \"run_id\": \"AutoML_edc30558-b27c-4168-a13d-a7caec7264ff\", \"categories\": [0], \"series\": [{\"data\": [0.8701383926609827]}]}, {\"name\": \"f1_score_weighted\", \"run_id\": \"AutoML_edc30558-b27c-4168-a13d-a7caec7264ff\", \"categories\": [0], \"series\": [{\"data\": [0.8704858407689035]}]}, {\"name\": \"recall_score_weighted\", \"run_id\": \"AutoML_edc30558-b27c-4168-a13d-a7caec7264ff\", \"categories\": [0], \"series\": [{\"data\": [0.8744817490326472]}]}, {\"name\": \"f1_score_micro\", \"run_id\": \"AutoML_edc30558-b27c-4168-a13d-a7caec7264ff\", \"categories\": [0], \"series\": [{\"data\": [0.8744817490326472]}]}, {\"name\": \"matthews_correlation\", \"run_id\": \"AutoML_edc30558-b27c-4168-a13d-a7caec7264ff\", \"categories\": [0], \"series\": [{\"data\": [0.6406178204699623]}]}, {\"name\": \"norm_macro_recall\", \"run_id\": \"AutoML_edc30558-b27c-4168-a13d-a7caec7264ff\", \"categories\": [0], \"series\": [{\"data\": [0.6009423667463119]}]}, {\"name\": \"AUC_weighted\", \"run_id\": \"AutoML_edc30558-b27c-4168-a13d-a7caec7264ff\", \"categories\": [0], \"series\": [{\"data\": [0.9279597888638405]}]}, {\"name\": \"AUC_macro\", \"run_id\": \"AutoML_edc30558-b27c-4168-a13d-a7caec7264ff\", \"categories\": [0], \"series\": [{\"data\": [0.9279597888638405]}]}, {\"name\": \"recall_score_macro\", \"run_id\": \"AutoML_edc30558-b27c-4168-a13d-a7caec7264ff\", \"categories\": [0], \"series\": [{\"data\": [0.8004711833731559]}]}, {\"name\": \"balanced_accuracy\", \"run_id\": \"AutoML_edc30558-b27c-4168-a13d-a7caec7264ff\", \"categories\": [0], \"series\": [{\"data\": [0.8004711833731559]}]}, {\"name\": \"f1_score_macro\", \"run_id\": \"AutoML_edc30558-b27c-4168-a13d-a7caec7264ff\", \"categories\": [0], \"series\": [{\"data\": [0.8178103638222354]}]}, {\"name\": \"weighted_accuracy\", \"run_id\": \"AutoML_edc30558-b27c-4168-a13d-a7caec7264ff\", \"categories\": [0], \"series\": [{\"data\": [0.9171394166085822]}]}, {\"name\": \"AUC_micro\", \"run_id\": \"AutoML_edc30558-b27c-4168-a13d-a7caec7264ff\", \"categories\": [0], \"series\": [{\"data\": [0.9518189169654863]}]}, {\"name\": \"recall_score_micro\", \"run_id\": \"AutoML_edc30558-b27c-4168-a13d-a7caec7264ff\", \"categories\": [0], \"series\": [{\"data\": [0.8744817490326472]}]}, {\"name\": \"average_precision_score_micro\", \"run_id\": \"AutoML_edc30558-b27c-4168-a13d-a7caec7264ff\", \"categories\": [0], \"series\": [{\"data\": [0.9534680223614549]}]}, {\"name\": \"precision_score_macro\", \"run_id\": \"AutoML_edc30558-b27c-4168-a13d-a7caec7264ff\", \"categories\": [0], \"series\": [{\"data\": [0.8414581203348735]}]}, {\"name\": \"average_precision_score_weighted\", \"run_id\": \"AutoML_edc30558-b27c-4168-a13d-a7caec7264ff\", \"categories\": [0], \"series\": [{\"data\": [0.9401598990812576]}]}, {\"name\": \"log_loss\", \"run_id\": \"AutoML_edc30558-b27c-4168-a13d-a7caec7264ff\", \"categories\": [0], \"series\": [{\"data\": [0.2965249686581428]}]}], \"run_logs\": \"\\nRun is completed.\", \"graph\": {}, \"widget_settings\": {\"childWidgetDisplay\": \"popup\", \"send_telemetry\": false, \"log_level\": \"INFO\", \"sdk_version\": \"1.42.0\"}, \"loading\": false}"
     },
     "metadata": {},
     "output_type": "display_data"
    },
    {
     "data": {
      "text/html": [
       "<table style=\"width:100%\"><tr><th>Experiment</th><th>Id</th><th>Type</th><th>Status</th><th>Details Page</th><th>Docs Page</th></tr><tr><td>adult-automl</td><td>AutoML_edc30558-b27c-4168-a13d-a7caec7264ff</td><td>automl</td><td>NotStarted</td><td><a href=\"https://ml.azure.com/runs/AutoML_edc30558-b27c-4168-a13d-a7caec7264ff?wsid=/subscriptions/48a74bb7-9950-4cc1-9caa-5d50f995cc55/resourcegroups/aml-quickstarts-199863/workspaces/quick-starts-ws-199863&amp;tid=660b3398-b80e-49d2-bc5b-ac1dc93b5254\" target=\"_blank\" rel=\"noopener\">Link to Azure Machine Learning studio</a></td><td><a href=\"https://docs.microsoft.com/en-us/python/api/overview/azure/ml/intro?view=azure-ml-py\" target=\"_blank\" rel=\"noopener\">Link to Documentation</a></td></tr></table>"
      ],
      "text/plain": [
       "<IPython.core.display.HTML object>"
      ]
     },
     "metadata": {},
     "output_type": "display_data"
    },
    {
     "name": "stdout",
     "output_type": "stream",
     "text": [
      "\n",
      "Current status: FeaturesGeneration. Generating features for the dataset.\n",
      "Current status: DatasetFeaturization. Beginning to fit featurizers and featurize the dataset.\n",
      "Current status: DatasetCrossValidationSplit. Generating individually featurized CV splits.\n",
      "Current status: ModelSelection. Beginning model selection.\n",
      "\n",
      "********************************************************************************************\n",
      "DATA GUARDRAILS: \n",
      "\n",
      "TYPE:         Class balancing detection\n",
      "STATUS:       PASSED\n",
      "DESCRIPTION:  Your inputs were analyzed, and all classes are balanced in your training data.\n",
      "              Learn more about imbalanced data: https://aka.ms/AutomatedMLImbalancedData\n",
      "\n",
      "********************************************************************************************\n",
      "\n",
      "TYPE:         Missing feature values imputation\n",
      "STATUS:       PASSED\n",
      "DESCRIPTION:  No feature missing values were detected in the training data.\n",
      "              Learn more about missing value imputation: https://aka.ms/AutomatedMLFeaturization\n",
      "\n",
      "********************************************************************************************\n",
      "\n",
      "TYPE:         High cardinality feature detection\n",
      "STATUS:       PASSED\n",
      "DESCRIPTION:  Your inputs were analyzed, and no high cardinality features were detected.\n",
      "              Learn more about high cardinality feature handling: https://aka.ms/AutomatedMLFeaturization\n",
      "\n",
      "********************************************************************************************\n",
      "\n",
      "********************************************************************************************\n",
      "ITER: The iteration being evaluated.\n",
      "PIPELINE: A summary description of the pipeline being evaluated.\n",
      "DURATION: Time taken for the current iteration.\n",
      "METRIC: The result of computing score on the fitted pipeline.\n",
      "BEST: The best observed score thus far.\n",
      "********************************************************************************************\n",
      "\n",
      " ITER   PIPELINE                                       DURATION            METRIC      BEST\n",
      "    0   MaxAbsScaler LightGBM                          0:00:14             0.8727    0.8727\n",
      "    1   MaxAbsScaler XGBoostClassifier                 0:00:27             0.8698    0.8727\n",
      "    2   MaxAbsScaler ExtremeRandomTrees                0:00:15             0.7214    0.8727\n",
      "    3   SparseNormalizer XGBoostClassifier             0:00:20             0.8421    0.8727\n",
      "    4   MaxAbsScaler LightGBM                          0:00:15             0.8614    0.8727\n",
      "    5   MaxAbsScaler LightGBM                          0:00:14             0.8007    0.8727\n",
      "    6   StandardScalerWrapper XGBoostClassifier        0:00:11             0.8660    0.8727\n",
      "    7   MaxAbsScaler LogisticRegression                0:00:16             0.8516    0.8727\n",
      "    8   StandardScalerWrapper ExtremeRandomTrees       0:00:09             0.8021    0.8727\n",
      "    9   StandardScalerWrapper XGBoostClassifier        0:00:12             0.8645    0.8727\n",
      "   10   SparseNormalizer LightGBM                      0:00:10             0.8295    0.8727\n",
      "   11   StandardScalerWrapper XGBoostClassifier        0:00:12             0.8621    0.8727\n",
      "   12   MaxAbsScaler LogisticRegression                0:00:20             0.8519    0.8727\n",
      "   13   MaxAbsScaler SGD                               0:00:15             0.7951    0.8727\n",
      "   14   StandardScalerWrapper XGBoostClassifier        0:00:14             0.8663    0.8727\n",
      "   15   SparseNormalizer RandomForest                  0:00:26             0.7283    0.8727\n",
      "   16   StandardScalerWrapper LogisticRegression       0:00:10             0.7967    0.8727\n",
      "   17   StandardScalerWrapper RandomForest             0:00:15             0.8397    0.8727\n",
      "   18   StandardScalerWrapper XGBoostClassifier        0:00:14             0.8674    0.8727\n",
      "   19   TruncatedSVDWrapper RandomForest               0:02:23             0.7756    0.8727\n",
      "   20   TruncatedSVDWrapper RandomForest               0:01:53             0.8037    0.8727\n",
      "   21   StandardScalerWrapper XGBoostClassifier        0:00:04             0.8680    0.8727\n",
      "   22   StandardScalerWrapper XGBoostClassifier        0:00:13             0.8502    0.8727\n",
      "   23   MaxAbsScaler LightGBM                          0:00:04             0.7942    0.8727\n",
      "   24   StandardScalerWrapper XGBoostClassifier        0:00:04             0.8728    0.8728\n",
      "   25   TruncatedSVDWrapper XGBoostClassifier          0:00:04             0.7592    0.8728\n",
      "   26   StandardScalerWrapper XGBoostClassifier        0:00:04             0.8218    0.8728\n",
      "   27   StandardScalerWrapper XGBoostClassifier        0:00:04             0.8591    0.8728\n",
      "   28   StandardScalerWrapper XGBoostClassifier        0:00:04             0.8542    0.8728\n",
      "   29   StandardScalerWrapper ExtremeRandomTrees       0:00:04             0.7903    0.8728\n",
      "   30   StandardScalerWrapper XGBoostClassifier        0:00:04             0.8579    0.8728\n",
      "   31   StandardScalerWrapper XGBoostClassifier        0:00:33             0.8640    0.8728\n",
      "ERROR: {\n",
      "    \"additional_properties\": {},\n",
      "    \"error\": {\n",
      "        \"additional_properties\": {\n",
      "            \"debugInfo\": null\n",
      "        },\n",
      "        \"code\": \"UserError\",\n",
      "        \"severity\": null,\n",
      "        \"message\": \"Experiment timeout reached, please consider increasing your experiment timeout.\",\n",
      "        \"message_format\": \"Experiment timeout reached, please consider increasing your experiment timeout.\",\n",
      "        \"message_parameters\": {},\n",
      "        \"reference_code\": null,\n",
      "        \"details_uri\": null,\n",
      "        \"target\": null,\n",
      "        \"details\": [],\n",
      "        \"inner_error\": {\n",
      "            \"additional_properties\": {},\n",
      "            \"code\": \"ResourceExhausted\",\n",
      "            \"inner_error\": {\n",
      "                \"additional_properties\": {},\n",
      "                \"code\": \"Timeout\",\n",
      "                \"inner_error\": {\n",
      "                    \"additional_properties\": {},\n",
      "                    \"code\": \"ExperimentTimeoutForIterations\",\n",
      "                    \"inner_error\": null\n",
      "                }\n",
      "            }\n",
      "        },\n",
      "        \"additional_info\": null\n",
      "    },\n",
      "    \"correlation\": null,\n",
      "    \"environment\": null,\n",
      "    \"location\": null,\n",
      "    \"time\": {},\n",
      "    \"component_name\": null\n",
      "}\n",
      "   32    VotingEnsemble                                0:00:04             0.8745    0.8745\n",
      "   33    StackEnsemble                                 0:00:04             0.8743    0.8745\n",
      "Best run ID: AutoML_edc30558-b27c-4168-a13d-a7caec7264ff_32\n",
      "Accuracy: 0.8744817490326472\n"
     ]
    }
   ],
   "source": [
    "from azureml.train.automl import AutoMLConfig\n",
    "\n",
    "automl_config = AutoMLConfig(\n",
    "    experiment_timeout_minutes=30,\n",
    "    task='classification',\n",
    "    primary_metric='accuracy',\n",
    "    training_data=train_ds,\n",
    "    label_column_name='income',\n",
    "    n_cross_validations=5,\n",
    "    compute_target=get_compute_cluster())\n",
    "\n",
    "run_automl(automl_config)"
   ]
  },
  {
   "cell_type": "markdown",
   "id": "90ab646e",
   "metadata": {},
   "source": [
    "## Best Model\n",
    "\n",
    "The function `show_and_test_local_automl_model` loads the best model from the AutoML run, prints its properties and assesses performance on an independent test set. For details, see the file `functions.py`."
   ]
  },
  {
   "cell_type": "code",
   "execution_count": 4,
   "id": "9b3ba035",
   "metadata": {
    "scrolled": true
   },
   "outputs": [
    {
     "name": "stdout",
     "output_type": "stream",
     "text": [
      "datatransformer\n",
      "{'enable_dnn': False,\n",
      " 'enable_feature_sweeping': True,\n",
      " 'feature_sweeping_config': {},\n",
      " 'feature_sweeping_timeout': 86400,\n",
      " 'featurization_config': None,\n",
      " 'force_text_dnn': False,\n",
      " 'is_cross_validation': True,\n",
      " 'is_onnx_compatible': False,\n",
      " 'observer': None,\n",
      " 'task': 'classification',\n",
      " 'working_dir': '/mnt/batch/tasks/shared/LS_root/mounts/clusters/ndeg-prj3-inst/code/Users/odl_user_199863'}\n",
      "\n",
      "prefittedsoftvotingclassifier\n",
      "{'estimators': ['24', '0', '1', '21', '18', '6', '20'],\n",
      " 'weights': [0.125, 0.25, 0.125, 0.125, 0.125, 0.125, 0.125]}\n",
      "\n",
      "24 - standardscalerwrapper\n",
      "{'class_name': 'StandardScaler',\n",
      " 'copy': True,\n",
      " 'module_name': 'sklearn.preprocessing._data',\n",
      " 'with_mean': False,\n",
      " 'with_std': False}\n",
      "\n",
      "24 - xgboostclassifier\n",
      "{'base_score': 0.5,\n",
      " 'booster': 'gbtree',\n",
      " 'colsample_bylevel': 1,\n",
      " 'colsample_bynode': 1,\n",
      " 'colsample_bytree': 1,\n",
      " 'eta': 0.05,\n",
      " 'gamma': 0,\n",
      " 'gpu_id': -1,\n",
      " 'importance_type': 'gain',\n",
      " 'interaction_constraints': '',\n",
      " 'learning_rate': 0.0500000007,\n",
      " 'max_delta_step': 0,\n",
      " 'max_depth': 6,\n",
      " 'max_leaves': 0,\n",
      " 'min_child_weight': 1,\n",
      " 'missing': nan,\n",
      " 'monotone_constraints': '()',\n",
      " 'n_estimators': 200,\n",
      " 'n_jobs': 1,\n",
      " 'num_parallel_tree': 1,\n",
      " 'objective': 'reg:logistic',\n",
      " 'random_state': 0,\n",
      " 'reg_alpha': 0.625,\n",
      " 'reg_lambda': 0.8333333333333334,\n",
      " 'scale_pos_weight': 1,\n",
      " 'subsample': 0.8,\n",
      " 'tree_method': 'auto',\n",
      " 'use_label_encoder': True,\n",
      " 'validate_parameters': 1,\n",
      " 'verbose': -10,\n",
      " 'verbosity': 0}\n",
      "\n",
      "0 - maxabsscaler\n",
      "{'copy': True}\n",
      "\n",
      "0 - lightgbmclassifier\n",
      "{'min_data_in_leaf': 20,\n",
      " 'n_jobs': 1,\n",
      " 'problem_info': ProblemInfo(gpu_training_param_dict={'processing_unit_type': 'cpu'}),\n",
      " 'random_state': None}\n",
      "\n",
      "1 - maxabsscaler\n",
      "{'copy': True}\n",
      "\n",
      "1 - xgboostclassifier\n",
      "{'base_score': 0.5,\n",
      " 'booster': 'gbtree',\n",
      " 'colsample_bylevel': 1,\n",
      " 'colsample_bynode': 1,\n",
      " 'colsample_bytree': 1,\n",
      " 'gamma': 0,\n",
      " 'gpu_id': -1,\n",
      " 'importance_type': 'gain',\n",
      " 'interaction_constraints': '',\n",
      " 'learning_rate': 0.300000012,\n",
      " 'max_delta_step': 0,\n",
      " 'max_depth': 6,\n",
      " 'min_child_weight': 1,\n",
      " 'missing': nan,\n",
      " 'monotone_constraints': '()',\n",
      " 'n_estimators': 100,\n",
      " 'n_jobs': 1,\n",
      " 'num_parallel_tree': 1,\n",
      " 'objective': 'binary:logistic',\n",
      " 'random_state': 0,\n",
      " 'reg_alpha': 0,\n",
      " 'reg_lambda': 1,\n",
      " 'scale_pos_weight': 1,\n",
      " 'subsample': 1,\n",
      " 'tree_method': 'auto',\n",
      " 'use_label_encoder': True,\n",
      " 'validate_parameters': 1,\n",
      " 'verbose': -10,\n",
      " 'verbosity': 0}\n",
      "\n",
      "21 - standardscalerwrapper\n",
      "{'class_name': 'StandardScaler',\n",
      " 'copy': True,\n",
      " 'module_name': 'sklearn.preprocessing._data',\n",
      " 'with_mean': False,\n",
      " 'with_std': False}\n",
      "\n",
      "21 - xgboostclassifier\n",
      "{'base_score': 0.5,\n",
      " 'booster': 'gbtree',\n",
      " 'colsample_bylevel': 1,\n",
      " 'colsample_bynode': 1,\n",
      " 'colsample_bytree': 0.5,\n",
      " 'eta': 0.2,\n",
      " 'gamma': 0,\n",
      " 'gpu_id': -1,\n",
      " 'importance_type': 'gain',\n",
      " 'interaction_constraints': '',\n",
      " 'learning_rate': 0.200000003,\n",
      " 'max_delta_step': 0,\n",
      " 'max_depth': 7,\n",
      " 'max_leaves': 7,\n",
      " 'min_child_weight': 1,\n",
      " 'missing': nan,\n",
      " 'monotone_constraints': '()',\n",
      " 'n_estimators': 25,\n",
      " 'n_jobs': 1,\n",
      " 'num_parallel_tree': 1,\n",
      " 'objective': 'reg:logistic',\n",
      " 'random_state': 0,\n",
      " 'reg_alpha': 0,\n",
      " 'reg_lambda': 0.20833333333333334,\n",
      " 'scale_pos_weight': 1,\n",
      " 'subsample': 1,\n",
      " 'tree_method': 'auto',\n",
      " 'use_label_encoder': True,\n",
      " 'validate_parameters': 1,\n",
      " 'verbose': -10,\n",
      " 'verbosity': 0}\n",
      "\n",
      "18 - standardscalerwrapper\n",
      "{'class_name': 'StandardScaler',\n",
      " 'copy': True,\n",
      " 'module_name': 'sklearn.preprocessing._data',\n",
      " 'with_mean': False,\n",
      " 'with_std': False}\n",
      "\n",
      "18 - xgboostclassifier\n",
      "{'base_score': 0.5,\n",
      " 'booster': 'gbtree',\n",
      " 'colsample_bylevel': 1,\n",
      " 'colsample_bynode': 1,\n",
      " 'colsample_bytree': 0.7,\n",
      " 'eta': 0.1,\n",
      " 'gamma': 0.1,\n",
      " 'gpu_id': -1,\n",
      " 'importance_type': 'gain',\n",
      " 'interaction_constraints': '',\n",
      " 'learning_rate': 0.100000001,\n",
      " 'max_delta_step': 0,\n",
      " 'max_depth': 9,\n",
      " 'max_leaves': 511,\n",
      " 'min_child_weight': 1,\n",
      " 'missing': nan,\n",
      " 'monotone_constraints': '()',\n",
      " 'n_estimators': 25,\n",
      " 'n_jobs': 1,\n",
      " 'num_parallel_tree': 1,\n",
      " 'objective': 'reg:logistic',\n",
      " 'random_state': 0,\n",
      " 'reg_alpha': 0,\n",
      " 'reg_lambda': 1.7708333333333335,\n",
      " 'scale_pos_weight': 1,\n",
      " 'subsample': 0.9,\n",
      " 'tree_method': 'auto',\n",
      " 'use_label_encoder': True,\n",
      " 'validate_parameters': 1,\n",
      " 'verbose': -10,\n",
      " 'verbosity': 0}\n",
      "\n",
      "6 - standardscalerwrapper\n",
      "{'class_name': 'StandardScaler',\n",
      " 'copy': True,\n",
      " 'module_name': 'sklearn.preprocessing._data',\n",
      " 'with_mean': False,\n",
      " 'with_std': False}\n",
      "\n",
      "6 - xgboostclassifier\n",
      "{'base_score': 0.5,\n",
      " 'booster': 'gbtree',\n",
      " 'colsample_bylevel': 1,\n",
      " 'colsample_bynode': 1,\n",
      " 'colsample_bytree': 0.5,\n",
      " 'eta': 0.3,\n",
      " 'gamma': 0,\n",
      " 'gpu_id': -1,\n",
      " 'importance_type': 'gain',\n",
      " 'interaction_constraints': '',\n",
      " 'learning_rate': 0.300000012,\n",
      " 'max_delta_step': 0,\n",
      " 'max_depth': 10,\n",
      " 'max_leaves': 255,\n",
      " 'min_child_weight': 1,\n",
      " 'missing': nan,\n",
      " 'monotone_constraints': '()',\n",
      " 'n_estimators': 10,\n",
      " 'n_jobs': 1,\n",
      " 'num_parallel_tree': 1,\n",
      " 'objective': 'reg:logistic',\n",
      " 'random_state': 0,\n",
      " 'reg_alpha': 0,\n",
      " 'reg_lambda': 0.10416666666666667,\n",
      " 'scale_pos_weight': 1,\n",
      " 'subsample': 0.7,\n",
      " 'tree_method': 'auto',\n",
      " 'use_label_encoder': True,\n",
      " 'validate_parameters': 1,\n",
      " 'verbose': -10,\n",
      " 'verbosity': 0}\n",
      "\n",
      "20 - truncatedsvdwrapper\n",
      "{'n_components': 0.7026315789473684, 'random_state': None}\n",
      "\n",
      "20 - randomforestclassifier\n",
      "{'bootstrap': False,\n",
      " 'ccp_alpha': 0.0,\n",
      " 'class_weight': 'balanced',\n",
      " 'criterion': 'gini',\n",
      " 'max_depth': None,\n",
      " 'max_features': 'log2',\n",
      " 'max_leaf_nodes': None,\n",
      " 'max_samples': None,\n",
      " 'min_impurity_decrease': 0.0,\n",
      " 'min_samples_leaf': 0.01,\n",
      " 'min_samples_split': 0.01,\n",
      " 'min_weight_fraction_leaf': 0.0,\n",
      " 'n_estimators': 200,\n",
      " 'n_jobs': 1,\n",
      " 'oob_score': False,\n",
      " 'random_state': None,\n",
      " 'verbose': 0,\n",
      " 'warm_start': False}\n",
      "\n",
      "0.8756218905472637\n"
     ]
    },
    {
     "data": {
      "text/html": [
       "<style  type=\"text/css\" >\n",
       "#T_0766251e_f886_11ec_8cf9_002248a97a04row0_col0,#T_0766251e_f886_11ec_8cf9_002248a97a04row1_col1{\n",
       "            background-color:  #63a8d3;\n",
       "            color:  #000000;\n",
       "        }#T_0766251e_f886_11ec_8cf9_002248a97a04row0_col1,#T_0766251e_f886_11ec_8cf9_002248a97a04row1_col0{\n",
       "            background-color:  #f7fbff;\n",
       "            color:  #000000;\n",
       "        }</style><table id=\"T_0766251e_f886_11ec_8cf9_002248a97a04\" ><thead>    <tr>        <th class=\"blank level0\" ></th>        <th class=\"col_heading level0 col0\" >0</th>        <th class=\"col_heading level0 col1\" >1</th>    </tr></thead><tbody>\n",
       "                <tr>\n",
       "                        <th id=\"T_0766251e_f886_11ec_8cf9_002248a97a04level0_row0\" class=\"row_heading level0 row0\" >0</th>\n",
       "                        <td id=\"T_0766251e_f886_11ec_8cf9_002248a97a04row0_col0\" class=\"data row0 col0\" >11746</td>\n",
       "                        <td id=\"T_0766251e_f886_11ec_8cf9_002248a97a04row0_col1\" class=\"data row0 col1\" >689</td>\n",
       "            </tr>\n",
       "            <tr>\n",
       "                        <th id=\"T_0766251e_f886_11ec_8cf9_002248a97a04level0_row1\" class=\"row_heading level0 row1\" >1</th>\n",
       "                        <td id=\"T_0766251e_f886_11ec_8cf9_002248a97a04row1_col0\" class=\"data row1 col0\" >1336</td>\n",
       "                        <td id=\"T_0766251e_f886_11ec_8cf9_002248a97a04row1_col1\" class=\"data row1 col1\" >2510</td>\n",
       "            </tr>\n",
       "    </tbody></table>"
      ],
      "text/plain": [
       "<pandas.io.formats.style.Styler at 0x7f0a29c06a90>"
      ]
     },
     "execution_count": 4,
     "metadata": {},
     "output_type": "execute_result"
    }
   ],
   "source": [
    "show_and_test_local_automl_model(test_ds)"
   ]
  },
  {
   "cell_type": "markdown",
   "id": "4581d89c",
   "metadata": {},
   "source": [
    "## Model Deployment\n",
    "\n",
    "The `register_and_deploy_automl_model()` function registers and deploys the best model found by AutoML on a compute instance. For more details, see the file `functions.py`."
   ]
  },
  {
   "cell_type": "code",
   "execution_count": null,
   "id": "b446a088",
   "metadata": {},
   "outputs": [],
   "source": [
    "register_and_deploy_automl_model()"
   ]
  },
  {
   "cell_type": "markdown",
   "id": "eadba2c0",
   "metadata": {},
   "source": [
    "The `test_deployed_automl_model()` function takes a row from the test set, encodes it as JSON string and sends an according HTTP request to test the endpoint. In the following, we are getting predictions for the first ten samples in the test set. For more details, see the file `functions.py`."
   ]
  },
  {
   "cell_type": "code",
   "execution_count": null,
   "id": "1dc4d951",
   "metadata": {},
   "outputs": [],
   "source": [
    "for row in range(0, 10):\n",
    "    test_deployed_automl_model(test_ds, row)"
   ]
  },
  {
   "cell_type": "markdown",
   "id": "02b56cf0",
   "metadata": {},
   "source": [
    "Finally, some clean up is performed, i.e. the compute cluster, web service and registered model are deleted from the current workspace. For details, see the file `functions.py`."
   ]
  },
  {
   "cell_type": "code",
   "execution_count": null,
   "id": "890f1d82",
   "metadata": {},
   "outputs": [],
   "source": [
    "clean_up(automl=True)"
   ]
  }
 ],
 "metadata": {
  "kernelspec": {
   "display_name": "Python 3.8 - AzureML",
   "language": "python",
   "name": "python38-azureml"
  },
  "language_info": {
   "codemirror_mode": {
    "name": "ipython",
    "version": 3
   },
   "file_extension": ".py",
   "mimetype": "text/x-python",
   "name": "python",
   "nbconvert_exporter": "python",
   "pygments_lexer": "ipython3",
   "version": "3.8.5"
  }
 },
 "nbformat": 4,
 "nbformat_minor": 5
}
