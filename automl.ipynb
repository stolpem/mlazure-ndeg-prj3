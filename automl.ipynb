{
 "cells": [
  {
   "cell_type": "code",
   "execution_count": 1,
   "id": "bea09bca",
   "metadata": {},
   "outputs": [
    {
     "name": "stdout",
     "output_type": "stream",
     "text": [
      "SDK version: 1.42.0\n"
     ]
    }
   ],
   "source": [
    "import azureml.core\n",
    "from preprocessing import get_workspace, get_data, run_automl, \\\n",
    "    test_local_automl_model, register_and_deploy_automl_model, \\\n",
    "    test_deployed_automl_model\n",
    "\n",
    "# Check core SDK version number\n",
    "print(\"SDK version:\", azureml.core.VERSION)"
   ]
  },
  {
   "cell_type": "code",
   "execution_count": 2,
   "id": "edef2cfe",
   "metadata": {},
   "outputs": [
    {
     "name": "stdout",
     "output_type": "stream",
     "text": [
      "quick-starts-ws-199654\n",
      "aml-quickstarts-199654\n",
      "westeurope\n",
      "3d1a56d2-7c81-4118-9790-f85d1acf0c77\n"
     ]
    }
   ],
   "source": [
    "ws = get_workspace()\n",
    "print(ws.name, ws.resource_group, ws.location, ws.subscription_id, sep = '\\n')"
   ]
  },
  {
   "cell_type": "code",
   "execution_count": 3,
   "id": "304a30ec",
   "metadata": {},
   "outputs": [
    {
     "name": "stdout",
     "output_type": "stream",
     "text": [
      "Loading datasets from workspace ...\n"
     ]
    }
   ],
   "source": [
    "_, test_ds = get_data()"
   ]
  },
  {
   "cell_type": "code",
   "execution_count": null,
   "id": "469a6d8d",
   "metadata": {},
   "outputs": [],
   "source": [
    "run_automl()"
   ]
  },
  {
   "cell_type": "code",
   "execution_count": 4,
   "id": "9b3ba035",
   "metadata": {
    "scrolled": true
   },
   "outputs": [
    {
     "name": "stdout",
     "output_type": "stream",
     "text": [
      "Pipeline(memory=None,\n",
      "         steps=[('datatransformer',\n",
      "                 DataTransformer(enable_dnn=False, enable_feature_sweeping=True, feature_sweeping_config={}, feature_sweeping_timeout=86400, featurization_config=None, force_text_dnn=False, is_cross_validation=True, is_onnx_compatible=False, observer=None, task='classification', working_dir='/mnt/batch/tasks/shared/LS_root/mount...\n",
      "                 PreFittedSoftVotingClassifier(classification_labels=array([0, 1]), estimators=[('0', Pipeline(memory=None, steps=[('maxabsscaler', MaxAbsScaler(copy=True)), ('lightgbmclassifier', LightGBMClassifier(min_data_in_leaf=20, n_jobs=1, problem_info=ProblemInfo(gpu_training_param_dict={'processing_unit_type': 'cpu'}), random_state=None))], verbose=False)), ('1', Pipeline(memory=None, steps=[('maxabsscaler', MaxAbsScaler(copy=True)), ('xgboostclassifier', XGBoostClassifier(n_jobs=1, problem_info=ProblemInfo(gpu_training_param_dict={'processing_unit_type': 'cpu'}), random_state=0, tree_method='auto'))], verbose=False)), ('21', Pipeline(memory=None, steps=[('standardscalerwrapper', StandardScalerWrapper(copy=True, with_mean=False, with_std=False)), ('xgboostclassifier', XGBoostClassifier(booster='gbtree', colsample_bytree=0.5, eta=0.2, gamma=0, max_depth=7, max_leaves=7, n_estimators=25, n_jobs=1, objective='reg:logistic', problem_info=ProblemInfo(gpu_training_param_dict={'processing_unit_type': 'cpu'}), random_state=0, reg_alpha=0, reg_lambda=0.20833333333333334, subsample=1, tree_method='auto'))], verbose=False)), ('18', Pipeline(memory=None, steps=[('standardscalerwrapper', StandardScalerWrapper(copy=True, with_mean=False, with_std=False)), ('xgboostclassifier', XGBoostClassifier(booster='gbtree', colsample_bytree=0.7, eta=0.1, gamma=0.1, max_depth=9, max_leaves=511, n_estimators=25, n_jobs=1, objective='reg:logistic', problem_info=ProblemInfo(gpu_training_param_dict={'processing_unit_type': 'cpu'}), random_state=0, reg_alpha=0, reg_lambda=1.7708333333333335, subsample=0.9, tree_method='auto'))], verbose=False)), ('14', Pipeline(memory=None, steps=[('standardscalerwrapper', StandardScalerWrapper(copy=True, with_mean=False, with_std=False)), ('xgboostclassifier', XGBoostClassifier(booster='gbtree', colsample_bytree=1, eta=0.3, gamma=0, max_depth=10, max_leaves=511, n_estimators=10, n_jobs=1, objective='reg:logistic', problem_info=ProblemInfo(gpu_training_param_dict={'processing_unit_type': 'cpu'}), random_state=0, reg_alpha=2.1875, reg_lambda=0.4166666666666667, subsample=0.5, tree_method='auto'))], verbose=False)), ('6', Pipeline(memory=None, steps=[('standardscalerwrapper', StandardScalerWrapper(copy=True, with_mean=False, with_std=False)), ('xgboostclassifier', XGBoostClassifier(booster='gbtree', colsample_bytree=0.5, eta=0.3, gamma=0, max_depth=10, max_leaves=255, n_estimators=10, n_jobs=1, objective='reg:logistic', problem_info=ProblemInfo(gpu_training_param_dict={'processing_unit_type': 'cpu'}), random_state=0, reg_alpha=0, reg_lambda=0.10416666666666667, subsample=0.7, tree_method='auto'))], verbose=False)), ('24', Pipeline(memory=None, steps=[('standardscalerwrapper', StandardScalerWrapper(copy=True, with_mean=False, with_std=False)), ('xgboostclassifier', XGBoostClassifier(booster='gbtree', colsample_bytree=0.8, eta=0.001, gamma=0, max_depth=5, max_leaves=3, n_estimators=400, n_jobs=1, objective='reg:logistic', problem_info=ProblemInfo(gpu_training_param_dict={'processing_unit_type': 'cpu'}), random_state=0, reg_alpha=0, reg_lambda=0.20833333333333334, subsample=0.6, tree_method='auto'))], verbose=False)), ('20', Pipeline(memory=None, steps=[('truncatedsvdwrapper', TruncatedSVDWrapper(n_components=0.7026315789473684, random_state=None)), ('randomforestclassifier', RandomForestClassifier(bootstrap=False, ccp_alpha=0.0, class_weight='balanced', criterion='gini', max_depth=None, max_features='log2', max_leaf_nodes=None, max_samples=None, min_impurity_decrease=0.0, min_impurity_split=None, min_samples_leaf=0.01, min_samples_split=0.01, min_weight_fraction_leaf=0.0, n_estimators=200, n_jobs=1, oob_score=False, random_state=None, verbose=0, warm_start=False))], verbose=False)), ('19', Pipeline(memory=None, steps=[('truncatedsvdwrapper', TruncatedSVDWrapper(n_components=0.8015789473684211, random_state=None)), ('randomforestclassifier', RandomForestClassifier(bootstrap=False, ccp_alpha=0.0, class_weight='balanced', criterion='entropy', max_depth=None, max_features='sqrt', max_leaf_nodes=None, max_samples=None, min_impurity_decrease=0.0, min_impurity_split=None, min_samples_leaf=0.035789473684210524, min_samples_split=0.15052631578947367, min_weight_fraction_leaf=0.0, n_estimators=100, n_jobs=1, oob_score=False, random_state=None, verbose=0, warm_start=False))], verbose=False))], flatten_transform=None, weights=[0.26666666666666666, 0.2, 0.06666666666666667, 0.06666666666666667, 0.06666666666666667, 0.13333333333333333, 0.06666666666666667, 0.06666666666666667, 0.06666666666666667]))],\n",
      "         verbose=False)\n",
      "Y_transformer(['LabelEncoder', LabelEncoder()])\n",
      "0.8755604692586451\n"
     ]
    },
    {
     "data": {
      "text/plain": [
       "0.8755604692586451"
      ]
     },
     "execution_count": 4,
     "metadata": {},
     "output_type": "execute_result"
    }
   ],
   "source": [
    "test_local_automl_model(test_ds)"
   ]
  },
  {
   "cell_type": "code",
   "execution_count": 5,
   "id": "b446a088",
   "metadata": {},
   "outputs": [
    {
     "name": "stderr",
     "output_type": "stream",
     "text": [
      "2022-06-28:08:28:37,489 INFO     [workspace.py:291] Found the config file in: /config.json\n",
      "2022-06-28:08:28:37,514 INFO     [_universal.py:475] Request URL: 'https://management.azure.com/subscriptions?api-version=REDACTED'/nRequest method: 'GET'/nRequest headers:/n    'Accept': 'application/json'/n    'x-ms-client-request-id': '4ea154ec-f6bc-11ec-a77a-6045bd90c571'/n    'User-Agent': 'azsdk-python-azure-mgmt-resource/21.0.0 Python/3.8.5 (Linux-5.4.0-1083-azure-x86_64-with-glibc2.10)'/n    'Authorization': 'REDACTED'/nNo body was attached to the request\n",
      "2022-06-28:08:28:37,576 INFO     [_universal.py:503] Response status: 200/nResponse headers:/n    'Cache-Control': 'no-cache'/n    'Pragma': 'no-cache'/n    'Content-Type': 'application/json; charset=utf-8'/n    'Content-Encoding': 'REDACTED'/n    'Expires': '-1'/n    'Vary': 'REDACTED'/n    'x-ms-ratelimit-remaining-tenant-reads': '11991'/n    'x-ms-request-id': '7d8a6296-8ca9-48b0-8948-a2ab7770c07a'/n    'x-ms-correlation-request-id': 'REDACTED'/n    'x-ms-routing-request-id': 'REDACTED'/n    'Strict-Transport-Security': 'REDACTED'/n    'X-Content-Type-Options': 'REDACTED'/n    'Date': 'Tue, 28 Jun 2022 08:28:36 GMT'/n    'Content-Length': '434'\n",
      "2022-06-28:08:28:37,742 INFO     [clientbase.py:192] Created a worker pool for first use\n"
     ]
    },
    {
     "name": "stdout",
     "output_type": "stream",
     "text": [
      "Registering model adult-automl-model\n",
      "Tips: You can try get_logs(): https://aka.ms/debugimage#dockerlog or local deployment: https://aka.ms/debugimage#debug-locally to debug if deployment takes longer than 10 minutes.\n",
      "Running\n",
      "2022-06-28 08:28:43+00:00 Creating Container Registry if not exists.\n",
      "2022-06-28 08:28:43+00:00 Registering the environment.\n",
      "2022-06-28 08:28:44+00:00 Use the existing image.\n",
      "2022-06-28 08:28:44+00:00 Generating deployment configuration.\n",
      "2022-06-28 08:28:46+00:00 Submitting deployment to compute.\n",
      "2022-06-28 08:28:52+00:00 Checking the status of deployment adult-automl-service..\n",
      "2022-06-28 08:31:44+00:00 Checking the status of inference endpoint adult-automl-service.\n",
      "Succeeded\n",
      "ACI service creation operation finished, operation \"Succeeded\"\n",
      "/bin/bash: /azureml-envs/azureml_7becf92bd9d8786204e7278bb441885c/lib/libtinfo.so.6: no version information available (required by /bin/bash)\n",
      "/bin/bash: /azureml-envs/azureml_7becf92bd9d8786204e7278bb441885c/lib/libtinfo.so.6: no version information available (required by /bin/bash)\n",
      "/bin/bash: /azureml-envs/azureml_7becf92bd9d8786204e7278bb441885c/lib/libtinfo.so.6: no version information available (required by /bin/bash)\n",
      "/bin/bash: /azureml-envs/azureml_7becf92bd9d8786204e7278bb441885c/lib/libtinfo.so.6: no version information available (required by /bin/bash)\n",
      "2022-06-28T08:31:21,865558100+00:00 - iot-server/run \n",
      "2022-06-28T08:31:21,880506200+00:00 - rsyslog/run \n",
      "bash: /azureml-envs/azureml_7becf92bd9d8786204e7278bb441885c/lib/libtinfo.so.6: no version information available (required by bash)\n",
      "2022-06-28T08:31:21,846972600+00:00 - gunicorn/run \n",
      "2022-06-28T08:31:21,901508900+00:00 | gunicorn/run | \n",
      "2022-06-28T08:31:21,924888000+00:00 | gunicorn/run | ###############################################\n",
      "2022-06-28T08:31:21,970335400+00:00 - nginx/run \n",
      "2022-06-28T08:31:21,971198800+00:00 | gunicorn/run | AzureML Container Runtime Information\n",
      "2022-06-28T08:31:21,986047500+00:00 | gunicorn/run | ###############################################\n",
      "2022-06-28T08:31:22,009047600+00:00 | gunicorn/run | \n",
      "2022-06-28T08:31:22,010541300+00:00 | gunicorn/run | \n",
      "2022-06-28T08:31:22,051296100+00:00 | gunicorn/run | PATH environment variable: /azureml-envs/azureml_7becf92bd9d8786204e7278bb441885c/bin:/opt/miniconda/bin:/usr/local/sbin:/usr/local/bin:/usr/sbin:/usr/bin:/sbin:/bin\n",
      "2022-06-28T08:31:22,052768100+00:00 | gunicorn/run | PYTHONPATH environment variable: \n",
      "2022-06-28T08:31:22,070693800+00:00 | gunicorn/run | \n",
      "2022-06-28T08:31:22,090128300+00:00 | gunicorn/run | Pip Dependencies (before dynamic installation)\n",
      "\n",
      "EdgeHubConnectionString and IOTEDGE_IOTHUBHOSTNAME are not set. Exiting...\n",
      "/bin/bash: /azureml-envs/azureml_7becf92bd9d8786204e7278bb441885c/lib/libtinfo.so.6: no version information available (required by /bin/bash)\n",
      "2022-06-28T08:31:22,651955200+00:00 - iot-server/finish 1 0\n",
      "2022-06-28T08:31:22,659013000+00:00 - Exit code 1 is normal. Not restarting iot-server.\n",
      "adal==1.2.7\n",
      "aiofiles==0.8.0\n",
      "aiohttp==3.7.4.post0\n",
      "aiotask-context==0.6.1\n",
      "applicationinsights==0.11.10\n",
      "argcomplete==2.0.0\n",
      "arviz @ file:///tmp/build/80754af9/arviz_1614019183254/work\n",
      "async-timeout==3.0.1\n",
      "attrs==21.4.0\n",
      "azure-common==1.1.28\n",
      "azure-core==1.22.1\n",
      "azure-graphrbac==0.61.1\n",
      "azure-identity==1.7.0\n",
      "azure-mgmt-authorization==2.0.0\n",
      "azure-mgmt-containerregistry==9.1.0\n",
      "azure-mgmt-core==1.3.0\n",
      "azure-mgmt-keyvault==9.3.0\n",
      "azure-mgmt-resource==21.0.0\n",
      "azure-mgmt-storage==20.0.0\n",
      "azure-storage-queue==12.2.0\n",
      "azureml-automl-core==1.42.0.post1\n",
      "azureml-automl-runtime==1.42.0.post1\n",
      "azureml-core==1.42.0.post1\n",
      "azureml-dataprep==4.0.4\n",
      "azureml-dataprep-native==38.0.0\n",
      "azureml-dataprep-rslex==2.6.3\n",
      "azureml-dataset-runtime==1.42.0\n",
      "azureml-defaults==1.42.0\n",
      "azureml-inference-server-http==0.4.9\n",
      "azureml-interpret==1.42.0\n",
      "azureml-mlflow==1.42.0\n",
      "azureml-telemetry==1.42.0\n",
      "azureml-train-automl-client==1.42.0.post1\n",
      "azureml-train-automl-runtime==1.42.0.post1\n",
      "azureml-train-core==1.42.0\n",
      "azureml-train-restclients-hyperdrive==1.42.0\n",
      "azureml-training-tabular==1.42.0.post1\n",
      "backports.tempfile==1.0\n",
      "backports.weakref==1.0.post1\n",
      "bcrypt==3.2.2\n",
      "bokeh==2.4.3\n",
      "boto==2.49.0\n",
      "boto3==1.20.19\n",
      "botocore==1.23.19\n",
      "Brotli==1.0.9\n",
      "cachetools==5.2.0\n",
      "certifi @ file:///opt/conda/conda-bld/certifi_1655968806487/work/certifi\n",
      "cffi==1.15.0\n",
      "cftime @ file:///tmp/build/80754af9/cftime_1638345281172/work\n",
      "chardet==4.0.0\n",
      "charset-normalizer==2.0.12\n",
      "click==8.1.3\n",
      "cloudpickle==2.1.0\n",
      "configparser==3.7.4\n",
      "contextlib2==21.6.0\n",
      "convertdate @ file:///tmp/build/80754af9/convertdate_1634070773133/work\n",
      "cryptography==36.0.2\n",
      "cycler @ file:///tmp/build/80754af9/cycler_1637851556182/work\n",
      "Cython==0.29.17\n",
      "dask==2.30.0\n",
      "databricks-cli==0.17.0\n",
      "dataclasses==0.6\n",
      "dill==0.3.5.1\n",
      "distributed==2.30.1\n",
      "distro==1.7.0\n",
      "docker==5.0.3\n",
      "dotnetcore2==3.1.23\n",
      "entrypoints==0.4\n",
      "ephem @ file:///tmp/build/80754af9/ephem_1638960312619/work\n",
      "fbprophet @ file:///home/conda/feedstock_root/build_artifacts/fbprophet_1599365534439/work\n",
      "fire==0.4.0\n",
      "Flask==1.0.3\n",
      "flatbuffers==2.0\n",
      "fonttools==4.25.0\n",
      "fsspec==2022.5.0\n",
      "fusepy==3.0.1\n",
      "gensim==3.8.3\n",
      "gevent==21.12.0\n",
      "geventhttpclient==1.5.5\n",
      "gitdb==4.0.9\n",
      "GitPython==3.1.27\n",
      "google-api-core==2.8.2\n",
      "google-auth==2.8.0\n",
      "googleapis-common-protos==1.56.3\n",
      "greenlet==1.1.2\n",
      "grpcio==1.47.0\n",
      "grpcio-tools==1.38.1\n",
      "gunicorn==20.1.0\n",
      "HeapDict==1.0.1\n",
      "holidays @ file:///home/conda/feedstock_root/build_artifacts/holidays_1595448845196/work\n",
      "httptools==0.4.0\n",
      "humanfriendly==10.0\n",
      "idna==3.3\n",
      "importlib-metadata==4.12.0\n",
      "importlib-resources==5.8.0\n",
      "inference-schema==1.3.2\n",
      "interpret-community==0.25.0\n",
      "interpret-core==0.2.7\n",
      "isodate==0.6.1\n",
      "itsdangerous==1.1.0\n",
      "jeepney==0.8.0\n",
      "Jinja2==2.11.2\n",
      "jmespath==0.10.0\n",
      "joblib==0.14.1\n",
      "json-logging-py==0.2\n",
      "jsonpickle==2.2.0\n",
      "jsonschema==4.6.0\n",
      "keras2onnx==1.6.0\n",
      "kiwisolver @ file:///opt/conda/conda-bld/kiwisolver_1653292039266/work\n",
      "knack==0.9.0\n",
      "korean-lunar-calendar @ file:///tmp/build/80754af9/korean_lunar_calendar_1634063020401/work\n",
      "lightgbm==3.2.1\n",
      "llvmlite==0.36.0\n",
      "locket==1.0.0\n",
      "LunarCalendar @ file:///tmp/build/80754af9/lunarcalendar_1646383991234/work\n",
      "MarkupSafe==2.0.1\n",
      "matplotlib @ file:///tmp/build/80754af9/matplotlib-suite_1634667019719/work\n",
      "mkl-fft==1.3.0\n",
      "mkl-random==1.1.0\n",
      "mkl-service==2.3.0\n",
      "ml-wrappers==0.1.0\n",
      "mlflow-skinny==1.26.1\n",
      "msal==1.18.0\n",
      "msal-extensions==0.3.1\n",
      "msgpack==1.0.4\n",
      "msrest==0.6.21\n",
      "msrestazure==0.6.4\n",
      "multidict==5.2.0\n",
      "munkres==1.1.4\n",
      "ndg-httpsclient==0.5.1\n",
      "netCDF4==1.5.7\n",
      "nimbusml==1.8.0\n",
      "numba==0.53.1\n",
      "numpy==1.19.5\n",
      "oauthlib==3.2.0\n",
      "onnx==1.7.0\n",
      "onnxconverter-common==1.6.0\n",
      "onnxmltools==1.4.1\n",
      "onnxruntime==1.8.1\n",
      "opencensus==0.9.0\n",
      "opencensus-context==0.1.2\n",
      "opencensus-ext-azure==1.1.4\n",
      "packaging @ file:///tmp/build/80754af9/packaging_1637314298585/work\n",
      "pandas==1.1.5\n",
      "paramiko==2.11.0\n",
      "partd==1.2.0\n",
      "pathspec==0.9.0\n",
      "patsy==0.5.2\n",
      "Pillow==9.0.1\n",
      "pkginfo==1.8.3\n",
      "pmdarima==1.7.1\n",
      "portalocker==2.4.0\n",
      "protobuf==3.17.3\n",
      "psutil @ file:///tmp/build/80754af9/psutil_1612298016854/work\n",
      "pyarrow==3.0.0\n",
      "pyasn1==0.4.8\n",
      "pyasn1-modules==0.2.8\n",
      "pycparser==2.21\n",
      "Pygments==2.12.0\n",
      "PyJWT==2.4.0\n",
      "PyMeeus @ file:///tmp/build/80754af9/pymeeus_1634069098549/work\n",
      "PyNaCl==1.5.0\n",
      "pyOpenSSL==22.0.0\n",
      "pyparsing @ file:///tmp/build/80754af9/pyparsing_1635766073266/work\n",
      "pyrsistent==0.18.1\n",
      "PySocks==1.7.1\n",
      "pystan @ file:///tmp/build/80754af9/pystan_1613565226242/work\n",
      "python-dateutil @ file:///tmp/build/80754af9/python-dateutil_1626374649649/work\n",
      "python-rapidjson==1.6\n",
      "pytz @ file:///opt/conda/conda-bld/pytz_1654762638606/work\n",
      "PyYAML==6.0\n",
      "requests==2.28.0\n",
      "requests-oauthlib==1.3.1\n",
      "rsa==4.8\n",
      "s3transfer==0.5.2\n",
      "sanic==21.6.2\n",
      "Sanic-Cors==1.0.1\n",
      "sanic-plugin-toolkit==1.2.1\n",
      "sanic-routing==0.7.2\n",
      "scikit-learn==0.22.1\n",
      "scipy==1.5.2\n",
      "SecretStorage==3.3.2\n",
      "shap==0.39.0\n",
      "six @ file:///tmp/build/80754af9/six_1644875935023/work\n",
      "skl2onnx==1.4.9\n",
      "sklearn-pandas==1.7.0\n",
      "slicer==0.0.7\n",
      "smart-open==1.9.0\n",
      "smmap==5.0.0\n",
      "sortedcontainers==2.4.0\n",
      "statsmodels==0.11.1\n",
      "tabulate==0.8.10\n",
      "tblib==1.7.0\n",
      "termcolor==1.1.0\n",
      "toolz==0.11.2\n",
      "tornado @ file:///tmp/build/80754af9/tornado_1606942283357/work\n",
      "tqdm @ file:///opt/conda/conda-bld/tqdm_1650891076910/work\n",
      "tritonclient==2.11.0\n",
      "typing_extensions @ file:///opt/conda/conda-bld/typing_extensions_1647553014482/work\n",
      "ujson==5.3.0\n",
      "urllib3==1.26.9\n",
      "uvloop==0.16.0\n",
      "websocket-client==1.3.3\n",
      "websockets==10.3\n",
      "Werkzeug==2.1.2\n",
      "wrapt==1.12.1\n",
      "xarray @ file:///opt/conda/conda-bld/xarray_1639166117697/work\n",
      "xgboost==1.3.3\n",
      "yarl==1.7.2\n",
      "zict==2.2.0\n",
      "zipp==3.8.0\n",
      "zope.event==4.5.0\n",
      "zope.interface==5.4.0\n",
      "\n",
      "2022-06-28T08:31:23,886080800+00:00 | gunicorn/run | \n",
      "2022-06-28T08:31:23,888475000+00:00 | gunicorn/run | ###############################################\n",
      "2022-06-28T08:31:23,892600000+00:00 | gunicorn/run | AzureML Inference Server\n",
      "2022-06-28T08:31:23,893965500+00:00 | gunicorn/run | ###############################################\n",
      "2022-06-28T08:31:23,895476600+00:00 | gunicorn/run | \n",
      "2022-06-28T08:31:23,896970800+00:00 | gunicorn/run | \n",
      "2022-06-28T08:31:23,899636300+00:00 | gunicorn/run | Starting HTTP server\n",
      "2022-06-28T08:31:23,903032600+00:00 | gunicorn/run | \n",
      "Starting gunicorn 20.1.0\n",
      "Listening at: http://127.0.0.1:31311 (65)\n",
      "Using worker: sync\n",
      "worker timeout is set to 300\n",
      "Booting worker with pid: 109\n",
      "SPARK_HOME not set. Skipping PySpark Initialization.\n",
      "Initializing logger\n",
      "2022-06-28 08:31:25,413 | root | INFO | Starting up app insights client\n",
      "logging socket was found. logging is available.\n",
      "logging socket was found. logging is available.\n",
      "2022-06-28 08:31:25,414 | root | INFO | Starting up request id generator\n",
      "2022-06-28 08:31:25,414 | root | INFO | Starting up app insight hooks\n",
      "2022-06-28 08:31:25,415 | root | INFO | Invoking user's init function\n",
      "00000000-0000-0000-0000-000000000000,This is init\n",
      "00000000-0000-0000-0000-000000000000,Pipeline(memory=None,\n",
      "         steps=[('datatransformer',\n",
      "                 DataTransformer(enable_dnn=False, enable_feature_sweeping=True, feature_sweeping_config={}, feature_sweeping_timeout=86400, featurization_config=None, force_text_dnn=False, is_cross_validation=True, is_onnx_compatible=False, observer=None, task='classification', working_dir='/var/azureml-app')),\n",
      "                ('prefittedsoftvo...\n",
      "                 PreFittedSoftVotingClassifier(classification_labels=array([0, 1]), estimators=[('0', Pipeline(memory=None, steps=[('maxabsscaler', MaxAbsScaler(copy=True)), ('lightgbmclassifier', LightGBMClassifier(min_data_in_leaf=20, n_jobs=1, problem_info=ProblemInfo(gpu_training_param_dict={'processing_unit_type': 'cpu'}), random_state=None))], verbose=False)), ('1', Pipeline(memory=None, steps=[('maxabsscaler', MaxAbsScaler(copy=True)), ('xgboostclassifier', XGBoostClassifier(n_jobs=1, problem_info=ProblemInfo(gpu_training_param_dict={'processing_unit_type': 'cpu'}), random_state=0, tree_method='auto'))], verbose=False)), ('21', Pipeline(memory=None, steps=[('standardscalerwrapper', StandardScalerWrapper(copy=True, with_mean=False, with_std=False)), ('xgboostclassifier', XGBoostClassifier(booster='gbtree', colsample_bytree=0.5, eta=0.2, gamma=0, max_depth=7, max_leaves=7, n_estimators=25, n_jobs=1, objective='reg:logistic', problem_info=ProblemInfo(gpu_training_param_dict={'processing_unit_type': 'cpu'}), random_state=0, reg_alpha=0, reg_lambda=0.20833333333333334, subsample=1, tree_method='auto'))], verbose=False)), ('18', Pipeline(memory=None, steps=[('standardscalerwrapper', StandardScalerWrapper(copy=True, with_mean=False, with_std=False)), ('xgboostclassifier', XGBoostClassifier(booster='gbtree', colsample_bytree=0.7, eta=0.1, gamma=0.1, max_depth=9, max_leaves=511, n_estimators=25, n_jobs=1, objective='reg:logistic', problem_info=ProblemInfo(gpu_training_param_dict={'processing_unit_type': 'cpu'}), random_state=0, reg_alpha=0, reg_lambda=1.7708333333333335, subsample=0.9, tree_method='auto'))], verbose=False)), ('14', Pipeline(memory=None, steps=[('standardscalerwrapper', StandardScalerWrapper(copy=True, with_mean=False, with_std=False)), ('xgboostclassifier', XGBoostClassifier(booster='gbtree', colsample_bytree=1, eta=0.3, gamma=0, max_depth=10, max_leaves=511, n_estimators=10, n_jobs=1, objective='reg:logistic', problem_info=ProblemInfo(gpu_training_param_dict={'processing_unit_type': 'cpu'}), random_state=0, reg_alpha=2.1875, reg_lambda=0.4166666666666667, subsample=0.5, tree_method='auto'))], verbose=False)), ('6', Pipeline(memory=None, steps=[('standardscalerwrapper', StandardScalerWrapper(copy=True, with_mean=False, with_std=False)), ('xgboostclassifier', XGBoostClassifier(booster='gbtree', colsample_bytree=0.5, eta=0.3, gamma=0, max_depth=10, max_leaves=255, n_estimators=10, n_jobs=1, objective='reg:logistic', problem_info=ProblemInfo(gpu_training_param_dict={'processing_unit_type': 'cpu'}), random_state=0, reg_alpha=0, reg_lambda=0.10416666666666667, subsample=0.7, tree_method='auto'))], verbose=False)), ('24', Pipeline(memory=None, steps=[('standardscalerwrapper', StandardScalerWrapper(copy=True, with_mean=False, with_std=False)), ('xgboostclassifier', XGBoostClassifier(booster='gbtree', colsample_bytree=0.8, eta=0.001, gamma=0, max_depth=5, max_leaves=3, n_estimators=400, n_jobs=1, objective='reg:logistic', problem_info=ProblemInfo(gpu_training_param_dict={'processing_unit_type': 'cpu'}), random_state=0, reg_alpha=0, reg_lambda=0.20833333333333334, subsample=0.6, tree_method='auto'))], verbose=False)), ('20', Pipeline(memory=None, steps=[('truncatedsvdwrapper', TruncatedSVDWrapper(n_components=0.7026315789473684, random_state=None)), ('randomforestclassifier', RandomForestClassifier(bootstrap=False, ccp_alpha=0.0, class_weight='balanced', criterion='gini', max_depth=None, max_features='log2', max_leaf_nodes=None, max_samples=None, min_impurity_decrease=0.0, min_impurity_split=None, min_samples_leaf=0.01, min_samples_split=0.01, min_weight_fraction_leaf=0.0, n_estimators=200, n_jobs=1, oob_score=False, random_state=None, verbose=0, warm_start=False))], verbose=False)), ('19', Pipeline(memory=None, steps=[('truncatedsvdwrapper', TruncatedSVDWrapper(n_components=0.8015789473684211, random_state=None)), ('randomforestclassifier', RandomForestClassifier(bootstrap=False, ccp_alpha=0.0, class_weight='balanced', criterion='entropy', max_depth=None, max_features='sqrt', max_leaf_nodes=None, max_samples=None, min_impurity_decrease=0.0, min_impurity_split=None, min_samples_leaf=0.035789473684210524, min_samples_split=0.15052631578947367, min_weight_fraction_leaf=0.0, n_estimators=100, n_jobs=1, oob_score=False, random_state=None, verbose=0, warm_start=False))], verbose=False))], flatten_transform=None, weights=[0.26666666666666666, 0.2, 0.06666666666666667, 0.06666666666666667, 0.06666666666666667, 0.13333333333333333, 0.06666666666666667, 0.06666666666666667, 0.06666666666666667]))],\n",
      "         verbose=False)\n",
      "Y_transformer(['LabelEncoder', LabelEncoder()])\n",
      "2022-06-28 08:31:31,280 | root | INFO | Users's init has completed successfully\n",
      "2022-06-28 08:31:31,292 | root | INFO | Skipping middleware: dbg_model_info as it's not enabled.\n",
      "2022-06-28 08:31:31,292 | root | INFO | Skipping middleware: dbg_resource_usage as it's not enabled.\n",
      "2022-06-28 08:31:31,296 | root | INFO | Scoring timeout is found from os.environ: 60000 ms\n",
      "2022-06-28 08:31:44,645 | root | INFO | Swagger file not present\n",
      "2022-06-28 08:31:44,645 | root | INFO | 404\n",
      "127.0.0.1 - - [28/Jun/2022:08:31:44 +0000] \"GET /swagger.json HTTP/1.0\" 404 19 \"-\" \"Go-http-client/1.1\"\n",
      "2022-06-28 08:31:46,418 | root | INFO | Swagger file not present\n",
      "2022-06-28 08:31:46,419 | root | INFO | 404\n",
      "127.0.0.1 - - [28/Jun/2022:08:31:46 +0000] \"GET /swagger.json HTTP/1.0\" 404 19 \"-\" \"Go-http-client/1.1\"\n",
      "\n"
     ]
    },
    {
     "data": {
      "text/plain": [
       "AciWebservice(workspace=Workspace.create(name='quick-starts-ws-199654', subscription_id='3d1a56d2-7c81-4118-9790-f85d1acf0c77', resource_group='aml-quickstarts-199654'), name=adult-automl-service, image_id=None, image_digest=None, compute_type=ACI, state=Healthy, scoring_uri=http://c9f439b5-2e59-47d1-a0ba-a9159cd46459.westeurope.azurecontainer.io/score, tags={}, properties={'hasInferenceSchema': 'False', 'hasHttps': 'False', 'authEnabled': 'True'}, created_by={'userObjectId': '4bfddace-dfe3-4cf1-bf45-41368a24defb', 'userPuId': '100320020A4058C5', 'userIdp': None, 'userAltSecId': None, 'userIss': 'https://sts.windows.net/660b3398-b80e-49d2-bc5b-ac1dc93b5254/', 'userTenantId': '660b3398-b80e-49d2-bc5b-ac1dc93b5254', 'userName': 'ODL_User 199654', 'upn': 'odl_user_199654@udacitylabs.onmicrosoft.com'})"
      ]
     },
     "execution_count": 5,
     "metadata": {},
     "output_type": "execute_result"
    }
   ],
   "source": [
    "register_and_deploy_automl_model()"
   ]
  },
  {
   "cell_type": "code",
   "execution_count": null,
   "id": "1dc4d951",
   "metadata": {},
   "outputs": [
    {
     "name": "stderr",
     "output_type": "stream",
     "text": [
      "2022-06-28:08:32:12,905 INFO     [workspace.py:291] Found the config file in: /config.json\n",
      "2022-06-28:08:32:12,933 INFO     [_universal.py:475] Request URL: 'https://management.azure.com/subscriptions?api-version=REDACTED'/nRequest method: 'GET'/nRequest headers:/n    'Accept': 'application/json'/n    'x-ms-client-request-id': 'cf07a884-f6bc-11ec-a77a-6045bd90c571'/n    'User-Agent': 'azsdk-python-azure-mgmt-resource/21.0.0 Python/3.8.5 (Linux-5.4.0-1083-azure-x86_64-with-glibc2.10)'/n    'Authorization': 'REDACTED'/nNo body was attached to the request\n",
      "2022-06-28:08:32:14,125 INFO     [_universal.py:503] Response status: 200/nResponse headers:/n    'Cache-Control': 'no-cache'/n    'Pragma': 'no-cache'/n    'Content-Type': 'application/json; charset=utf-8'/n    'Expires': '-1'/n    'x-ms-ratelimit-remaining-tenant-reads': '11998'/n    'x-ms-request-id': '8360c46d-3246-4121-ba01-a1ace7106e61'/n    'x-ms-correlation-request-id': 'REDACTED'/n    'x-ms-routing-request-id': 'REDACTED'/n    'Strict-Transport-Security': 'REDACTED'/n    'X-Content-Type-Options': 'REDACTED'/n    'Date': 'Tue, 28 Jun 2022 08:32:13 GMT'/n    'Content-Length': '446'\n",
      "2022-06-28:08:32:16,238 INFO     [workspace.py:291] Found the config file in: /config.json\n",
      "2022-06-28:08:32:16,262 INFO     [_universal.py:475] Request URL: 'https://management.azure.com/subscriptions?api-version=REDACTED'/nRequest method: 'GET'/nRequest headers:/n    'Accept': 'application/json'/n    'x-ms-client-request-id': 'd103be84-f6bc-11ec-a77a-6045bd90c571'/n    'User-Agent': 'azsdk-python-azure-mgmt-resource/21.0.0 Python/3.8.5 (Linux-5.4.0-1083-azure-x86_64-with-glibc2.10)'/n    'Authorization': 'REDACTED'/nNo body was attached to the request\n"
     ]
    },
    {
     "name": "stdout",
     "output_type": "stream",
     "text": [
      "label: <=50K , prediction: <=50K\n"
     ]
    },
    {
     "name": "stderr",
     "output_type": "stream",
     "text": [
      "2022-06-28:08:32:16,680 INFO     [_universal.py:503] Response status: 200/nResponse headers:/n    'Cache-Control': 'no-cache'/n    'Pragma': 'no-cache'/n    'Content-Type': 'application/json; charset=utf-8'/n    'Expires': '-1'/n    'x-ms-ratelimit-remaining-tenant-reads': '11996'/n    'x-ms-request-id': '485baef2-f3ed-41b3-9f2a-791a414e32d7'/n    'x-ms-correlation-request-id': 'REDACTED'/n    'x-ms-routing-request-id': 'REDACTED'/n    'Strict-Transport-Security': 'REDACTED'/n    'X-Content-Type-Options': 'REDACTED'/n    'Date': 'Tue, 28 Jun 2022 08:32:16 GMT'/n    'Content-Length': '446'\n",
      "2022-06-28:08:32:17,734 INFO     [workspace.py:291] Found the config file in: /config.json\n",
      "2022-06-28:08:32:17,758 INFO     [_universal.py:475] Request URL: 'https://management.azure.com/subscriptions?api-version=REDACTED'/nRequest method: 'GET'/nRequest headers:/n    'Accept': 'application/json'/n    'x-ms-client-request-id': 'd103be85-f6bc-11ec-a77a-6045bd90c571'/n    'User-Agent': 'azsdk-python-azure-mgmt-resource/21.0.0 Python/3.8.5 (Linux-5.4.0-1083-azure-x86_64-with-glibc2.10)'/n    'Authorization': 'REDACTED'/nNo body was attached to the request\n"
     ]
    },
    {
     "name": "stdout",
     "output_type": "stream",
     "text": [
      "label: <=50K , prediction: <=50K\n"
     ]
    },
    {
     "name": "stderr",
     "output_type": "stream",
     "text": [
      "2022-06-28:08:32:18,103 INFO     [_universal.py:503] Response status: 200/nResponse headers:/n    'Cache-Control': 'no-cache'/n    'Pragma': 'no-cache'/n    'Content-Type': 'application/json; charset=utf-8'/n    'Expires': '-1'/n    'x-ms-ratelimit-remaining-tenant-reads': '11999'/n    'x-ms-request-id': '85598bad-67cb-42ad-8e7e-8a1ce19fcfb8'/n    'x-ms-correlation-request-id': 'REDACTED'/n    'x-ms-routing-request-id': 'REDACTED'/n    'Strict-Transport-Security': 'REDACTED'/n    'X-Content-Type-Options': 'REDACTED'/n    'Date': 'Tue, 28 Jun 2022 08:32:17 GMT'/n    'Content-Length': '446'\n",
      "2022-06-28:08:32:19,126 INFO     [workspace.py:291] Found the config file in: /config.json\n",
      "2022-06-28:08:32:19,144 INFO     [_universal.py:475] Request URL: 'https://management.azure.com/subscriptions?api-version=REDACTED'/nRequest method: 'GET'/nRequest headers:/n    'Accept': 'application/json'/n    'x-ms-client-request-id': 'd2bb5d18-f6bc-11ec-a77a-6045bd90c571'/n    'User-Agent': 'azsdk-python-azure-mgmt-resource/21.0.0 Python/3.8.5 (Linux-5.4.0-1083-azure-x86_64-with-glibc2.10)'/n    'Authorization': 'REDACTED'/nNo body was attached to the request\n",
      "2022-06-28:08:32:19,225 INFO     [_universal.py:503] Response status: 200/nResponse headers:/n    'Cache-Control': 'no-cache'/n    'Pragma': 'no-cache'/n    'Content-Type': 'application/json; charset=utf-8'/n    'Content-Encoding': 'REDACTED'/n    'Expires': '-1'/n    'Vary': 'REDACTED'/n    'x-ms-ratelimit-remaining-tenant-reads': '11998'/n    'x-ms-request-id': '5616a81e-81af-4f23-bbe7-8af3603dc49e'/n    'x-ms-correlation-request-id': 'REDACTED'/n    'x-ms-routing-request-id': 'REDACTED'/n    'Strict-Transport-Security': 'REDACTED'/n    'X-Content-Type-Options': 'REDACTED'/n    'Date': 'Tue, 28 Jun 2022 08:32:18 GMT'/n    'Content-Length': '434'\n"
     ]
    },
    {
     "name": "stdout",
     "output_type": "stream",
     "text": [
      "label: >50K , prediction: <=50K\n"
     ]
    },
    {
     "name": "stderr",
     "output_type": "stream",
     "text": [
      "2022-06-28:08:32:22,8 INFO     [workspace.py:291] Found the config file in: /config.json\n",
      "2022-06-28:08:32:22,33 INFO     [_universal.py:475] Request URL: 'https://management.azure.com/subscriptions?api-version=REDACTED'/nRequest method: 'GET'/nRequest headers:/n    'Accept': 'application/json'/n    'x-ms-client-request-id': 'd474363e-f6bc-11ec-a77a-6045bd90c571'/n    'User-Agent': 'azsdk-python-azure-mgmt-resource/21.0.0 Python/3.8.5 (Linux-5.4.0-1083-azure-x86_64-with-glibc2.10)'/n    'Authorization': 'REDACTED'/nNo body was attached to the request\n",
      "2022-06-28:08:32:22,90 INFO     [_universal.py:503] Response status: 200/nResponse headers:/n    'Cache-Control': 'no-cache'/n    'Pragma': 'no-cache'/n    'Content-Type': 'application/json; charset=utf-8'/n    'Content-Encoding': 'REDACTED'/n    'Expires': '-1'/n    'Vary': 'REDACTED'/n    'x-ms-ratelimit-remaining-tenant-reads': '11996'/n    'x-ms-request-id': '38795bb8-aa64-4299-bf6a-27a80bdafdcb'/n    'x-ms-correlation-request-id': 'REDACTED'/n    'x-ms-routing-request-id': 'REDACTED'/n    'Strict-Transport-Security': 'REDACTED'/n    'X-Content-Type-Options': 'REDACTED'/n    'Date': 'Tue, 28 Jun 2022 08:32:21 GMT'/n    'Content-Length': '434'\n"
     ]
    },
    {
     "name": "stdout",
     "output_type": "stream",
     "text": [
      "label: >50K , prediction: >50K\n"
     ]
    },
    {
     "name": "stderr",
     "output_type": "stream",
     "text": [
      "2022-06-28:08:32:30,509 INFO     [workspace.py:291] Found the config file in: /config.json\n",
      "2022-06-28:08:32:30,536 INFO     [_universal.py:475] Request URL: 'https://management.azure.com/subscriptions?api-version=REDACTED'/nRequest method: 'GET'/nRequest headers:/n    'Accept': 'application/json'/n    'x-ms-client-request-id': 'd985a766-f6bc-11ec-a77a-6045bd90c571'/n    'User-Agent': 'azsdk-python-azure-mgmt-resource/21.0.0 Python/3.8.5 (Linux-5.4.0-1083-azure-x86_64-with-glibc2.10)'/n    'Authorization': 'REDACTED'/nNo body was attached to the request\n",
      "2022-06-28:08:32:30,597 INFO     [_universal.py:503] Response status: 200/nResponse headers:/n    'Cache-Control': 'no-cache'/n    'Pragma': 'no-cache'/n    'Content-Type': 'application/json; charset=utf-8'/n    'Expires': '-1'/n    'x-ms-ratelimit-remaining-tenant-reads': '11989'/n    'x-ms-request-id': '5cb0eafb-a318-4f21-a0d4-df9576439e66'/n    'x-ms-correlation-request-id': 'REDACTED'/n    'x-ms-routing-request-id': 'REDACTED'/n    'Strict-Transport-Security': 'REDACTED'/n    'X-Content-Type-Options': 'REDACTED'/n    'Date': 'Tue, 28 Jun 2022 08:32:29 GMT'/n    'Content-Length': '446'\n"
     ]
    },
    {
     "name": "stdout",
     "output_type": "stream",
     "text": [
      "label: <=50K , prediction: <=50K\n"
     ]
    },
    {
     "name": "stderr",
     "output_type": "stream",
     "text": [
      "2022-06-28:08:32:31,617 INFO     [workspace.py:291] Found the config file in: /config.json\n",
      "2022-06-28:08:32:31,636 INFO     [_universal.py:475] Request URL: 'https://management.azure.com/subscriptions?api-version=REDACTED'/nRequest method: 'GET'/nRequest headers:/n    'Accept': 'application/json'/n    'x-ms-client-request-id': 'd985a767-f6bc-11ec-a77a-6045bd90c571'/n    'User-Agent': 'azsdk-python-azure-mgmt-resource/21.0.0 Python/3.8.5 (Linux-5.4.0-1083-azure-x86_64-with-glibc2.10)'/n    'Authorization': 'REDACTED'/nNo body was attached to the request\n",
      "2022-06-28:08:32:31,690 INFO     [_universal.py:503] Response status: 200/nResponse headers:/n    'Cache-Control': 'no-cache'/n    'Pragma': 'no-cache'/n    'Content-Type': 'application/json; charset=utf-8'/n    'Content-Encoding': 'REDACTED'/n    'Expires': '-1'/n    'Vary': 'REDACTED'/n    'x-ms-ratelimit-remaining-tenant-reads': '11995'/n    'x-ms-request-id': 'a1169a19-78df-4207-ac79-6406b833b487'/n    'x-ms-correlation-request-id': 'REDACTED'/n    'x-ms-routing-request-id': 'REDACTED'/n    'Strict-Transport-Security': 'REDACTED'/n    'X-Content-Type-Options': 'REDACTED'/n    'Date': 'Tue, 28 Jun 2022 08:32:30 GMT'/n    'Content-Length': '434'\n"
     ]
    },
    {
     "name": "stdout",
     "output_type": "stream",
     "text": [
      "label: <=50K , prediction: <=50K\n"
     ]
    },
    {
     "name": "stderr",
     "output_type": "stream",
     "text": [
      "2022-06-28:08:32:32,790 INFO     [workspace.py:291] Found the config file in: /config.json\n",
      "2022-06-28:08:32:32,815 INFO     [_universal.py:475] Request URL: 'https://management.azure.com/subscriptions?api-version=REDACTED'/nRequest method: 'GET'/nRequest headers:/n    'Accept': 'application/json'/n    'x-ms-client-request-id': 'dae17964-f6bc-11ec-a77a-6045bd90c571'/n    'User-Agent': 'azsdk-python-azure-mgmt-resource/21.0.0 Python/3.8.5 (Linux-5.4.0-1083-azure-x86_64-with-glibc2.10)'/n    'Authorization': 'REDACTED'/nNo body was attached to the request\n"
     ]
    },
    {
     "name": "stdout",
     "output_type": "stream",
     "text": [
      "label: <=50K , prediction: <=50K\n"
     ]
    },
    {
     "name": "stderr",
     "output_type": "stream",
     "text": [
      "2022-06-28:08:32:32,986 INFO     [_universal.py:503] Response status: 200/nResponse headers:/n    'Cache-Control': 'no-cache'/n    'Pragma': 'no-cache'/n    'Content-Type': 'application/json; charset=utf-8'/n    'Content-Encoding': 'REDACTED'/n    'Expires': '-1'/n    'Vary': 'REDACTED'/n    'x-ms-ratelimit-remaining-tenant-reads': '11996'/n    'x-ms-request-id': '9cf8d870-137d-4d7e-bfed-33e6b0481f14'/n    'x-ms-correlation-request-id': 'REDACTED'/n    'x-ms-routing-request-id': 'REDACTED'/n    'Strict-Transport-Security': 'REDACTED'/n    'X-Content-Type-Options': 'REDACTED'/n    'Date': 'Tue, 28 Jun 2022 08:32:32 GMT'/n    'Content-Length': '434'\n",
      "2022-06-28:08:32:33,916 INFO     [workspace.py:291] Found the config file in: /config.json\n",
      "2022-06-28:08:32:33,935 INFO     [_universal.py:475] Request URL: 'https://management.azure.com/subscriptions?api-version=REDACTED'/nRequest method: 'GET'/nRequest headers:/n    'Accept': 'application/json'/n    'x-ms-client-request-id': 'dae17965-f6bc-11ec-a77a-6045bd90c571'/n    'User-Agent': 'azsdk-python-azure-mgmt-resource/21.0.0 Python/3.8.5 (Linux-5.4.0-1083-azure-x86_64-with-glibc2.10)'/n    'Authorization': 'REDACTED'/nNo body was attached to the request\n",
      "2022-06-28:08:32:33,997 INFO     [_universal.py:503] Response status: 200/nResponse headers:/n    'Cache-Control': 'no-cache'/n    'Pragma': 'no-cache'/n    'Content-Type': 'application/json; charset=utf-8'/n    'Content-Encoding': 'REDACTED'/n    'Expires': '-1'/n    'Vary': 'REDACTED'/n    'x-ms-ratelimit-remaining-tenant-reads': '11998'/n    'x-ms-request-id': 'c0ecb02a-6f0f-4218-80ae-414a8fcd21a3'/n    'x-ms-correlation-request-id': 'REDACTED'/n    'x-ms-routing-request-id': 'REDACTED'/n    'Strict-Transport-Security': 'REDACTED'/n    'X-Content-Type-Options': 'REDACTED'/n    'Date': 'Tue, 28 Jun 2022 08:32:33 GMT'/n    'Content-Length': '434'\n"
     ]
    },
    {
     "name": "stdout",
     "output_type": "stream",
     "text": [
      "label: >50K , prediction: >50K\n"
     ]
    }
   ],
   "source": [
    "for row in range(0, 10):\n",
    "    test_deployed_automl_model(test_ds, row)"
   ]
  },
  {
   "cell_type": "code",
   "execution_count": null,
   "id": "890f1d82",
   "metadata": {},
   "outputs": [],
   "source": []
  }
 ],
 "metadata": {
  "kernelspec": {
   "display_name": "Python 3.8 - AzureML",
   "language": "python",
   "name": "python38-azureml"
  },
  "language_info": {
   "codemirror_mode": {
    "name": "ipython",
    "version": 3
   },
   "file_extension": ".py",
   "mimetype": "text/x-python",
   "name": "python",
   "nbconvert_exporter": "python",
   "pygments_lexer": "ipython3",
   "version": "3.8.5"
  }
 },
 "nbformat": 4,
 "nbformat_minor": 5
}
