{
 "cells": [
  {
   "cell_type": "markdown",
   "id": "6b73f439",
   "metadata": {},
   "source": [
    "# Automated ML\n",
    "\n",
    "All relevant steps for AutoML have been implemented as Python functions in the file `functions.py`. Thereby this notebook becomes less cluttered. For imported dependencies for scikit-learn and Azure, please see the file `functions.py`."
   ]
  },
  {
   "cell_type": "code",
   "execution_count": 1,
   "id": "bea09bca",
   "metadata": {},
   "outputs": [
    {
     "name": "stdout",
     "output_type": "stream",
     "text": [
      "SDK version: 1.42.0\n"
     ]
    }
   ],
   "source": [
    "import azureml.core\n",
    "from functions import get_workspace, get_data, run_automl, \\\n",
    "    show_and_test_local_automl_model, register_and_deploy_automl_model, \\\n",
    "    test_deployed_automl_model, clean_up\n",
    "\n",
    "# Check core SDK version number\n",
    "print(\"SDK version:\", azureml.core.VERSION)"
   ]
  },
  {
   "cell_type": "code",
   "execution_count": 2,
   "id": "edef2cfe",
   "metadata": {},
   "outputs": [
    {
     "name": "stdout",
     "output_type": "stream",
     "text": [
      "quick-starts-ws-199745\n",
      "aml-quickstarts-199745\n",
      "southcentralus\n",
      "1b944a9b-fdae-4f97-aeb1-b7eea0beac53\n"
     ]
    }
   ],
   "source": [
    "ws = get_workspace()\n",
    "print(ws.name, ws.resource_group, ws.location, ws.subscription_id, sep = '\\n')"
   ]
  },
  {
   "cell_type": "markdown",
   "id": "ee57d21e",
   "metadata": {},
   "source": [
    "## Dataset\n",
    "\n",
    "As dataset the Adult dataset from the UCI machine learning repository is used. The task is to predict the income class (over 50k or below) based on an individual person's features. For a more thorough description of the dataset, please see the `README.md` file. The function `get_data()` called in the following downloads the training and test data, does some preprocessing and stores the data in a blobstore of the current workspace. For details, please see the comments in the file `functions.py`."
   ]
  },
  {
   "cell_type": "code",
   "execution_count": 3,
   "id": "304a30ec",
   "metadata": {},
   "outputs": [
    {
     "name": "stdout",
     "output_type": "stream",
     "text": [
      "Loading datasets from workspace ...\n"
     ]
    }
   ],
   "source": [
    "_, test_ds = get_data()"
   ]
  },
  {
   "cell_type": "markdown",
   "id": "ab69e3a7",
   "metadata": {},
   "source": [
    "## AutoML \n",
    "\n",
    "Since the target variable `income` is categorical, the function `run_automl()` called in the following configures the run as a classification task with the `income` column being the label. We want to get results in a reasonable time, so the maximum running time for AutoML is specified as 30 minutes. Cross validation usually gets a better estimate of performance than using a single validation set, so 5-fold cross validation is used. As primary performance metric `accuracy` has been chosen for easier comparison with already published results on the dataset. The function `run_automl()` stores the best model found under `./outputs/best_model_automl.pkl`. For more details, please see the file `functions.py`. "
   ]
  },
  {
   "cell_type": "code",
   "execution_count": 5,
   "id": "469a6d8d",
   "metadata": {},
   "outputs": [
    {
     "name": "stdout",
     "output_type": "stream",
     "text": [
      "Found existing cluster, use it.\n",
      "Succeeded\n",
      "AmlCompute wait for completion finished\n",
      "\n",
      "Minimum number of nodes requested have been provisioned\n",
      "Loading datasets from workspace ...\n",
      "Submitting remote run.\n"
     ]
    },
    {
     "data": {
      "text/html": [
       "<table style=\"width:100%\"><tr><th>Experiment</th><th>Id</th><th>Type</th><th>Status</th><th>Details Page</th><th>Docs Page</th></tr><tr><td>adult-automl</td><td>AutoML_5472f2fb-5307-449c-8892-7c5f0b4d66a6</td><td>automl</td><td>NotStarted</td><td><a href=\"https://ml.azure.com/runs/AutoML_5472f2fb-5307-449c-8892-7c5f0b4d66a6?wsid=/subscriptions/1b944a9b-fdae-4f97-aeb1-b7eea0beac53/resourcegroups/aml-quickstarts-199745/workspaces/quick-starts-ws-199745&amp;tid=660b3398-b80e-49d2-bc5b-ac1dc93b5254\" target=\"_blank\" rel=\"noopener\">Link to Azure Machine Learning studio</a></td><td><a href=\"https://docs.microsoft.com/en-us/python/api/overview/azure/ml/intro?view=azure-ml-py\" target=\"_blank\" rel=\"noopener\">Link to Documentation</a></td></tr></table>"
      ],
      "text/plain": [
       "<IPython.core.display.HTML object>"
      ]
     },
     "metadata": {},
     "output_type": "display_data"
    },
    {
     "data": {
      "application/vnd.jupyter.widget-view+json": {
       "model_id": "b68ea807c88343c38260088ae83ab590",
       "version_major": 2,
       "version_minor": 0
      },
      "text/plain": [
       "_AutoMLWidget(widget_settings={'childWidgetDisplay': 'popup', 'send_telemetry': False, 'log_level': 'INFO', 's…"
      ]
     },
     "metadata": {},
     "output_type": "display_data"
    },
    {
     "data": {
      "application/aml.mini.widget.v1": "{\"status\": \"Completed\", \"workbench_run_details_uri\": \"https://ml.azure.com/runs/AutoML_5472f2fb-5307-449c-8892-7c5f0b4d66a6?wsid=/subscriptions/1b944a9b-fdae-4f97-aeb1-b7eea0beac53/resourcegroups/aml-quickstarts-199745/workspaces/quick-starts-ws-199745&tid=660b3398-b80e-49d2-bc5b-ac1dc93b5254\", \"run_id\": \"AutoML_5472f2fb-5307-449c-8892-7c5f0b4d66a6\", \"run_properties\": {\"run_id\": \"AutoML_5472f2fb-5307-449c-8892-7c5f0b4d66a6\", \"created_utc\": \"2022-06-29T12:25:08.970022Z\", \"properties\": {\"num_iterations\": \"1000\", \"training_type\": \"TrainFull\", \"acquisition_function\": \"EI\", \"primary_metric\": \"accuracy\", \"train_split\": \"0\", \"acquisition_parameter\": \"0\", \"num_cross_validation\": \"5\", \"target\": \"ndeg-prj3-clust\", \"AMLSettingsJsonString\": \"{\\\"path\\\":null,\\\"name\\\":\\\"adult-automl\\\",\\\"subscription_id\\\":\\\"1b944a9b-fdae-4f97-aeb1-b7eea0beac53\\\",\\\"resource_group\\\":\\\"aml-quickstarts-199745\\\",\\\"workspace_name\\\":\\\"quick-starts-ws-199745\\\",\\\"region\\\":\\\"southcentralus\\\",\\\"compute_target\\\":\\\"ndeg-prj3-clust\\\",\\\"spark_service\\\":null,\\\"azure_service\\\":\\\"remote\\\",\\\"many_models\\\":false,\\\"pipeline_fetch_max_batch_size\\\":1,\\\"enable_batch_run\\\":true,\\\"enable_run_restructure\\\":false,\\\"start_auxiliary_runs_before_parent_complete\\\":false,\\\"enable_code_generation\\\":true,\\\"iterations\\\":1000,\\\"primary_metric\\\":\\\"accuracy\\\",\\\"task_type\\\":\\\"classification\\\",\\\"positive_label\\\":null,\\\"data_script\\\":null,\\\"test_size\\\":0.0,\\\"test_include_predictions_only\\\":false,\\\"validation_size\\\":0.0,\\\"n_cross_validations\\\":5,\\\"y_min\\\":null,\\\"y_max\\\":null,\\\"num_classes\\\":null,\\\"featurization\\\":\\\"auto\\\",\\\"_ignore_package_version_incompatibilities\\\":false,\\\"is_timeseries\\\":false,\\\"max_cores_per_iteration\\\":1,\\\"max_concurrent_iterations\\\":1,\\\"iteration_timeout_minutes\\\":null,\\\"mem_in_mb\\\":null,\\\"enforce_time_on_windows\\\":false,\\\"experiment_timeout_minutes\\\":30,\\\"experiment_exit_score\\\":null,\\\"partition_column_names\\\":null,\\\"whitelist_models\\\":null,\\\"blacklist_algos\\\":[\\\"TensorFlowLinearClassifier\\\",\\\"TensorFlowDNN\\\"],\\\"supported_models\\\":[\\\"TensorFlowLinearClassifier\\\",\\\"AveragedPerceptronClassifier\\\",\\\"RandomForest\\\",\\\"SVM\\\",\\\"SGD\\\",\\\"LinearSVM\\\",\\\"XGBoostClassifier\\\",\\\"LightGBM\\\",\\\"BernoulliNaiveBayes\\\",\\\"GradientBoosting\\\",\\\"TensorFlowDNN\\\",\\\"KNN\\\",\\\"TabnetClassifier\\\",\\\"LogisticRegression\\\",\\\"MultinomialNaiveBayes\\\",\\\"DecisionTree\\\",\\\"ExtremeRandomTrees\\\"],\\\"private_models\\\":[],\\\"auto_blacklist\\\":true,\\\"blacklist_samples_reached\\\":false,\\\"exclude_nan_labels\\\":true,\\\"verbosity\\\":20,\\\"_debug_log\\\":\\\"azureml_automl.log\\\",\\\"show_warnings\\\":false,\\\"model_explainability\\\":true,\\\"service_url\\\":null,\\\"sdk_url\\\":null,\\\"sdk_packages\\\":null,\\\"enable_onnx_compatible_models\\\":false,\\\"enable_split_onnx_featurizer_estimator_models\\\":false,\\\"vm_type\\\":\\\"STANDARD_D2_V2\\\",\\\"telemetry_verbosity\\\":20,\\\"send_telemetry\\\":true,\\\"enable_dnn\\\":false,\\\"scenario\\\":\\\"SDK-1.13.0\\\",\\\"environment_label\\\":null,\\\"save_mlflow\\\":false,\\\"enable_categorical_indicators\\\":false,\\\"force_text_dnn\\\":false,\\\"enable_feature_sweeping\\\":true,\\\"enable_early_stopping\\\":true,\\\"early_stopping_n_iters\\\":10,\\\"arguments\\\":null,\\\"dataset_id\\\":\\\"dea0a4e0-b23a-4e35-94ec-ac3b6e1b7253\\\",\\\"hyperdrive_config\\\":null,\\\"validation_dataset_id\\\":null,\\\"run_source\\\":null,\\\"metrics\\\":null,\\\"enable_metric_confidence\\\":false,\\\"enable_ensembling\\\":true,\\\"enable_stack_ensembling\\\":true,\\\"ensemble_iterations\\\":15,\\\"enable_tf\\\":false,\\\"enable_subsampling\\\":null,\\\"subsample_seed\\\":null,\\\"enable_nimbusml\\\":false,\\\"enable_streaming\\\":false,\\\"force_streaming\\\":false,\\\"track_child_runs\\\":true,\\\"allowed_private_models\\\":[],\\\"label_column_name\\\":\\\"income\\\",\\\"weight_column_name\\\":null,\\\"cv_split_column_names\\\":null,\\\"enable_local_managed\\\":false,\\\"_local_managed_run_id\\\":null,\\\"cost_mode\\\":1,\\\"lag_length\\\":0,\\\"metric_operation\\\":\\\"maximize\\\",\\\"preprocess\\\":true}\", \"DataPrepJsonString\": \"{\\\\\\\"training_data\\\\\\\": {\\\\\\\"datasetId\\\\\\\": \\\\\\\"dea0a4e0-b23a-4e35-94ec-ac3b6e1b7253\\\\\\\"}, \\\\\\\"datasets\\\\\\\": 0}\", \"EnableSubsampling\": null, \"runTemplate\": \"AutoML\", \"azureml.runsource\": \"automl\", \"display_task_type\": \"classification\", \"dependencies_versions\": \"{\\\"azureml-dataprep-native\\\": \\\"38.0.0\\\", \\\"azureml-dataprep\\\": \\\"4.0.1\\\", \\\"azureml-dataprep-rslex\\\": \\\"2.6.1\\\", \\\"azureml-pipeline\\\": \\\"1.42.0\\\", \\\"azureml-accel-models\\\": \\\"1.42.0\\\", \\\"azureml-cli-common\\\": \\\"1.42.0\\\", \\\"azureml-tensorboard\\\": \\\"1.42.0\\\", \\\"azureml-train\\\": \\\"1.42.0\\\", \\\"azureml-contrib-services\\\": \\\"1.42.0\\\", \\\"azureml-defaults\\\": \\\"1.42.0\\\", \\\"azureml-contrib-reinforcementlearning\\\": \\\"1.42.0\\\", \\\"azureml-train-core\\\": \\\"1.42.0\\\", \\\"azureml-pipeline-core\\\": \\\"1.42.0\\\", \\\"azureml-dataset-runtime\\\": \\\"1.42.0\\\", \\\"azureml-train-automl-runtime\\\": \\\"1.42.0\\\", \\\"azureml-contrib-notebook\\\": \\\"1.42.0\\\", \\\"azureml-explain-model\\\": \\\"1.42.0\\\", \\\"azureml-opendatasets\\\": \\\"1.42.0\\\", \\\"azureml-responsibleai\\\": \\\"1.42.0\\\", \\\"azureml-contrib-automl-pipeline-steps\\\": \\\"1.42.0\\\", \\\"azureml-core\\\": \\\"1.42.0\\\", \\\"azureml-widgets\\\": \\\"1.42.0\\\", \\\"azureml-automl-core\\\": \\\"1.42.0\\\", \\\"azureml-train-restclients-hyperdrive\\\": \\\"1.42.0\\\", \\\"azureml-train-automl\\\": \\\"1.42.0\\\", \\\"azureml-contrib-dataset\\\": \\\"1.42.0\\\", \\\"azureml-telemetry\\\": \\\"1.42.0\\\", \\\"azureml-sdk\\\": \\\"1.42.0\\\", \\\"azureml-automl-dnn-nlp\\\": \\\"1.42.0\\\", \\\"azureml-contrib-fairness\\\": \\\"1.42.0\\\", \\\"azureml-contrib-server\\\": \\\"1.42.0\\\", \\\"azureml-datadrift\\\": \\\"1.42.0\\\", \\\"azureml-training-tabular\\\": \\\"1.42.0\\\", \\\"azureml-contrib-pipeline-steps\\\": \\\"1.42.0\\\", \\\"azureml-train-automl-client\\\": \\\"1.42.0\\\", \\\"azureml-pipeline-steps\\\": \\\"1.42.0\\\", \\\"azureml-interpret\\\": \\\"1.42.0\\\", \\\"azureml-automl-runtime\\\": \\\"1.42.0\\\", \\\"azureml-mlflow\\\": \\\"1.42.0\\\", \\\"azureml-inference-server-http\\\": \\\"0.4.13\\\", \\\"azureml-samples\\\": \\\"0+unknown\\\"}\", \"_aml_system_scenario_identification\": \"Remote.Parent\", \"ClientType\": \"SDK\", \"environment_cpu_name\": \"AzureML-AutoML\", \"environment_cpu_label\": \"prod\", \"environment_gpu_name\": \"AzureML-AutoML-GPU\", \"environment_gpu_label\": \"prod\", \"root_attribution\": \"automl\", \"attribution\": \"AutoML\", \"Orchestrator\": \"AutoML\", \"CancelUri\": \"https://southcentralus.api.azureml.ms/jasmine/v1.0/subscriptions/1b944a9b-fdae-4f97-aeb1-b7eea0beac53/resourceGroups/aml-quickstarts-199745/providers/Microsoft.MachineLearningServices/workspaces/quick-starts-ws-199745/experimentids/03dc7716-d542-4e50-9000-7f89a237b1c1/cancel/AutoML_5472f2fb-5307-449c-8892-7c5f0b4d66a6\", \"ClientSdkVersion\": \"1.42.0.post1\", \"snapshotId\": \"00000000-0000-0000-0000-000000000000\", \"SetupRunId\": \"AutoML_5472f2fb-5307-449c-8892-7c5f0b4d66a6_setup\", \"SetupRunContainerId\": \"dcid.AutoML_5472f2fb-5307-449c-8892-7c5f0b4d66a6_setup\", \"FeaturizationRunJsonPath\": \"featurizer_container.json\", \"FeaturizationRunId\": \"AutoML_5472f2fb-5307-449c-8892-7c5f0b4d66a6_featurize\", \"ProblemInfoJsonString\": \"{\\\"dataset_num_categorical\\\": 0, \\\"is_sparse\\\": true, \\\"subsampling\\\": false, \\\"has_extra_col\\\": true, \\\"dataset_classes\\\": 2, \\\"dataset_features\\\": 122, \\\"dataset_samples\\\": 32561, \\\"single_frequency_class_detected\\\": false}\", \"ModelExplainRunId\": \"AutoML_5472f2fb-5307-449c-8892-7c5f0b4d66a6_ModelExplain\"}, \"tags\": {\"model_explain_run\": \"best_run\", \"_aml_system_automl_run_workspace_id\": \"4aa49d92-bfbc-4dda-a253-d653edb9a481\", \"_aml_system_azureml.automlComponent\": \"AutoML\", \"pipeline_id\": \"\", \"score\": \"\", \"predicted_cost\": \"\", \"fit_time\": \"\", \"training_percent\": \"\", \"iteration\": \"\", \"run_preprocessor\": \"\", \"run_algorithm\": \"\", \"dynamic_allowlisting_iterations\": \"<25>;\", \"_aml_system_azureml.automl_early_exit_message\": \"Experiment timeout reached, hence experiment stopped. Current experiment timeout: 0 hour(s) 30 minute(s)\", \"automl_best_child_run_id\": \"AutoML_5472f2fb-5307-449c-8892-7c5f0b4d66a6_29\", \"model_explain_best_run_child_id\": \"AutoML_5472f2fb-5307-449c-8892-7c5f0b4d66a6_29\"}, \"end_time_utc\": \"2022-06-29T13:05:39.870487Z\", \"status\": \"Completed\", \"log_files\": {}, \"log_groups\": [], \"run_duration\": \"0:40:30\", \"run_number\": \"1656505508\", \"run_queued_details\": {\"status\": \"Completed\", \"details\": null}}, \"child_runs\": [{\"run_id\": \"AutoML_5472f2fb-5307-449c-8892-7c5f0b4d66a6_setup\", \"run_number\": 1656505520, \"metric\": null, \"status\": \"Completed\", \"run_type\": \"azureml.scriptrun\", \"training_percent\": null, \"start_time\": \"2022-06-29T12:29:25.76426Z\", \"end_time\": \"2022-06-29T12:30:12.739219Z\", \"created_time\": \"2022-06-29T12:25:20.953909Z\", \"created_time_dt\": \"2022-06-29T12:25:20.953909Z\", \"duration\": \"0:04:51\", \"iteration\": null, \"goal\": null, \"run_name\": \"Completed\", \"run_properties\": null}, {\"run_id\": \"AutoML_5472f2fb-5307-449c-8892-7c5f0b4d66a6_featurize\", \"run_number\": 1656505813, \"metric\": null, \"status\": \"Completed\", \"run_type\": \"automl.featurization\", \"training_percent\": null, \"start_time\": \"2022-06-29T12:30:13.469682Z\", \"end_time\": \"2022-06-29T12:32:27.890427Z\", \"created_time\": \"2022-06-29T12:30:13.139298Z\", \"created_time_dt\": \"2022-06-29T12:30:13.139298Z\", \"duration\": \"0:02:14\", \"iteration\": null, \"goal\": null, \"run_name\": \"Completed\", \"run_properties\": null}, {\"run_id\": \"AutoML_5472f2fb-5307-449c-8892-7c5f0b4d66a6_0\", \"run_number\": 1656505949, \"metric\": null, \"status\": \"Completed\", \"run_type\": null, \"training_percent\": \"100\", \"start_time\": \"2022-06-29T12:32:56.105816Z\", \"end_time\": \"2022-06-29T12:33:08.244469Z\", \"created_time\": \"2022-06-29T12:32:29.42803Z\", \"created_time_dt\": \"2022-06-29T12:32:29.42803Z\", \"duration\": \"0:00:38\", \"iteration\": \"0\", \"goal\": \"accuracy_max\", \"run_name\": \"MaxAbsScaler, LightGBM\", \"run_properties\": \"copy=True\", \"primary_metric\": 0.87266974, \"best_metric\": 0.87266974}, {\"run_id\": \"AutoML_5472f2fb-5307-449c-8892-7c5f0b4d66a6_2\", \"run_number\": 1656505950, \"metric\": null, \"status\": \"Completed\", \"run_type\": null, \"training_percent\": \"100\", \"start_time\": \"2022-06-29T12:33:38.542604Z\", \"end_time\": \"2022-06-29T12:33:53.996439Z\", \"created_time\": \"2022-06-29T12:32:30.152087Z\", \"created_time_dt\": \"2022-06-29T12:32:30.152087Z\", \"duration\": \"0:01:23\", \"iteration\": \"2\", \"goal\": \"accuracy_max\", \"run_name\": \"MaxAbsScaler, ExtremeRandomTrees\", \"run_properties\": \"copy=True\", \"primary_metric\": 0.72500839, \"best_metric\": 0.87266974}, {\"run_id\": \"AutoML_5472f2fb-5307-449c-8892-7c5f0b4d66a6_5\", \"run_number\": 1656505951, \"metric\": null, \"status\": \"Completed\", \"run_type\": null, \"training_percent\": \"100\", \"start_time\": \"2022-06-29T12:34:20.976322Z\", \"end_time\": \"2022-06-29T12:34:34.807685Z\", \"created_time\": \"2022-06-29T12:32:31.236692Z\", \"created_time_dt\": \"2022-06-29T12:32:31.236692Z\", \"duration\": \"0:02:03\", \"iteration\": \"5\", \"goal\": \"accuracy_max\", \"run_name\": \"MaxAbsScaler, LightGBM\", \"run_properties\": \"copy=True\", \"primary_metric\": 0.80068189, \"best_metric\": 0.87266974}, {\"run_id\": \"AutoML_5472f2fb-5307-449c-8892-7c5f0b4d66a6_8\", \"run_number\": 1656505952, \"metric\": null, \"status\": \"Completed\", \"run_type\": null, \"training_percent\": \"100\", \"start_time\": \"2022-06-29T12:35:02.470442Z\", \"end_time\": \"2022-06-29T12:35:13.796805Z\", \"created_time\": \"2022-06-29T12:32:32.279186Z\", \"created_time_dt\": \"2022-06-29T12:32:32.279186Z\", \"duration\": \"0:02:41\", \"iteration\": \"8\", \"goal\": \"accuracy_max\", \"run_name\": \"StandardScalerWrapper, ExtremeRandomTrees\", \"run_properties\": \"copy=True, with_mean=False, with_std=False\", \"primary_metric\": 0.80255522, \"best_metric\": 0.87266974}, {\"run_id\": \"AutoML_5472f2fb-5307-449c-8892-7c5f0b4d66a6_11\", \"run_number\": 1656505953, \"metric\": null, \"status\": \"Completed\", \"run_type\": null, \"training_percent\": \"100\", \"start_time\": \"2022-06-29T12:35:39.750878Z\", \"end_time\": \"2022-06-29T12:35:50.340965Z\", \"created_time\": \"2022-06-29T12:32:33.258598Z\", \"created_time_dt\": \"2022-06-29T12:32:33.258598Z\", \"duration\": \"0:03:17\", \"iteration\": \"11\", \"goal\": \"accuracy_max\", \"run_name\": \"StandardScalerWrapper, XGBoostClassifier\", \"run_properties\": \"copy=True, with_mean=False, with_std=False\", \"primary_metric\": 0.86210505, \"best_metric\": 0.87266974}, {\"run_id\": \"AutoML_5472f2fb-5307-449c-8892-7c5f0b4d66a6_14\", \"run_number\": 1656505954, \"metric\": null, \"status\": \"Completed\", \"run_type\": null, \"training_percent\": \"100\", \"start_time\": \"2022-06-29T12:36:21.209865Z\", \"end_time\": \"2022-06-29T12:36:38.797983Z\", \"created_time\": \"2022-06-29T12:32:34.291832Z\", \"created_time_dt\": \"2022-06-29T12:32:34.291832Z\", \"duration\": \"0:04:04\", \"iteration\": \"14\", \"goal\": \"accuracy_max\", \"run_name\": \"StandardScalerWrapper, XGBoostClassifier\", \"run_properties\": \"copy=True, with_mean=False, with_std=False\", \"primary_metric\": 0.86631257, \"best_metric\": 0.87266974}, {\"run_id\": \"AutoML_5472f2fb-5307-449c-8892-7c5f0b4d66a6_16\", \"run_number\": 1656505955, \"metric\": null, \"status\": \"Completed\", \"run_type\": null, \"training_percent\": \"100\", \"start_time\": \"2022-06-29T12:37:05.114208Z\", \"end_time\": \"2022-06-29T12:37:15.342067Z\", \"created_time\": \"2022-06-29T12:32:35.049218Z\", \"created_time_dt\": \"2022-06-29T12:32:35.049218Z\", \"duration\": \"0:04:40\", \"iteration\": \"16\", \"goal\": \"accuracy_max\", \"run_name\": \"StandardScalerWrapper, LogisticRegression\", \"run_properties\": \"copy=True, with_mean=False, with_std=False\", \"primary_metric\": 0.79668927, \"best_metric\": 0.87266974}, {\"run_id\": \"AutoML_5472f2fb-5307-449c-8892-7c5f0b4d66a6_worker_0\", \"run_number\": 1656505956, \"metric\": null, \"status\": \"Completed\", \"run_type\": \"azureml.scriptrun\", \"training_percent\": null, \"start_time\": \"2022-06-29T12:34:40.859932Z\", \"end_time\": \"2022-06-29T12:40:32.042451Z\", \"created_time\": \"2022-06-29T12:32:36.229372Z\", \"created_time_dt\": \"2022-06-29T12:32:36.229372Z\", \"duration\": \"0:07:55\", \"iteration\": null, \"goal\": null, \"run_name\": \"Completed\", \"run_properties\": null}, {\"run_id\": \"AutoML_5472f2fb-5307-449c-8892-7c5f0b4d66a6_20\", \"run_number\": 1656506712, \"metric\": null, \"status\": \"Completed\", \"run_type\": \"azureml.scriptrun\", \"training_percent\": \"100\", \"start_time\": \"2022-06-29T12:47:16.828152Z\", \"end_time\": \"2022-06-29T12:49:24.3032Z\", \"created_time\": \"2022-06-29T12:45:12.093677Z\", \"created_time_dt\": \"2022-06-29T12:45:12.093677Z\", \"duration\": \"0:04:12\", \"iteration\": \"20\", \"goal\": \"accuracy_max\", \"run_name\": \"TruncatedSVDWrapper, RandomForest\", \"run_properties\": \"n_components=0.7026315789473684, random_state=None\", \"primary_metric\": 0.80249376, \"best_metric\": 0.87266974}, {\"run_id\": \"AutoML_5472f2fb-5307-449c-8892-7c5f0b4d66a6_21\", \"run_number\": 1656506965, \"metric\": null, \"status\": \"Completed\", \"run_type\": \"azureml.scriptrun\", \"training_percent\": \"100\", \"start_time\": \"2022-06-29T12:49:55.578119Z\", \"end_time\": \"2022-06-29T12:49:59.375428Z\", \"created_time\": \"2022-06-29T12:49:25.940022Z\", \"created_time_dt\": \"2022-06-29T12:49:25.940022Z\", \"duration\": \"0:00:33\", \"iteration\": \"21\", \"goal\": \"accuracy_max\", \"run_name\": \"StandardScalerWrapper, XGBoostClassifier\", \"run_properties\": \"copy=True, with_mean=False, with_std=False\", \"primary_metric\": 0.86797093, \"best_metric\": 0.87266974}, {\"run_id\": \"AutoML_5472f2fb-5307-449c-8892-7c5f0b4d66a6_22\", \"run_number\": 1656507000, \"metric\": null, \"status\": \"Completed\", \"run_type\": \"azureml.scriptrun\", \"training_percent\": \"100\", \"start_time\": \"2022-06-29T12:53:44.185085Z\", \"end_time\": \"2022-06-29T12:54:09.211322Z\", \"created_time\": \"2022-06-29T12:50:00.957813Z\", \"created_time_dt\": \"2022-06-29T12:50:00.957813Z\", \"duration\": \"0:04:08\", \"iteration\": \"22\", \"goal\": \"accuracy_max\", \"run_name\": \"StandardScalerWrapper, XGBoostClassifier\", \"run_properties\": \"copy=True, with_mean=False, with_std=False\", \"primary_metric\": 0.85021965, \"best_metric\": 0.87266974}, {\"run_id\": \"AutoML_5472f2fb-5307-449c-8892-7c5f0b4d66a6_23\", \"run_number\": 1656507251, \"metric\": null, \"status\": \"Completed\", \"run_type\": \"azureml.scriptrun\", \"training_percent\": \"100\", \"start_time\": \"2022-06-29T12:54:45.258064Z\", \"end_time\": \"2022-06-29T12:54:49.140011Z\", \"created_time\": \"2022-06-29T12:54:10.99245Z\", \"created_time_dt\": \"2022-06-29T12:54:10.99245Z\", \"duration\": \"0:00:38\", \"iteration\": \"23\", \"goal\": \"accuracy_max\", \"run_name\": \"StandardScalerWrapper, LightGBM\", \"run_properties\": \"copy=True, with_mean=False, with_std=False\", \"primary_metric\": 0.80025181, \"best_metric\": 0.87266974}, {\"run_id\": \"AutoML_5472f2fb-5307-449c-8892-7c5f0b4d66a6_24\", \"run_number\": 1656507290, \"metric\": null, \"status\": \"Completed\", \"run_type\": \"azureml.scriptrun\", \"training_percent\": \"100\", \"start_time\": \"2022-06-29T12:56:11.55254Z\", \"end_time\": \"2022-06-29T12:56:15.399003Z\", \"created_time\": \"2022-06-29T12:54:50.728827Z\", \"created_time_dt\": \"2022-06-29T12:54:50.728827Z\", \"duration\": \"0:01:24\", \"iteration\": \"24\", \"goal\": \"accuracy_max\", \"run_name\": \"StandardScalerWrapper, XGBoostClassifier\", \"run_properties\": \"copy=True, with_mean=False, with_std=False\", \"primary_metric\": 0.85399717, \"best_metric\": 0.87266974}, {\"run_id\": \"AutoML_5472f2fb-5307-449c-8892-7c5f0b4d66a6_25\", \"run_number\": 1656507378, \"metric\": null, \"status\": \"Completed\", \"run_type\": \"azureml.scriptrun\", \"training_percent\": \"100\", \"start_time\": \"2022-06-29T12:58:34.890876Z\", \"end_time\": \"2022-06-29T12:58:38.705592Z\", \"created_time\": \"2022-06-29T12:56:18.149788Z\", \"created_time_dt\": \"2022-06-29T12:56:18.149788Z\", \"duration\": \"0:02:20\", \"iteration\": \"25\", \"goal\": \"accuracy_max\", \"run_name\": \"StandardScalerWrapper, LightGBM\", \"run_properties\": \"copy=True, with_mean=False, with_std=True\", \"primary_metric\": 0.75919052, \"best_metric\": 0.87266974}, {\"run_id\": \"AutoML_5472f2fb-5307-449c-8892-7c5f0b4d66a6_26\", \"run_number\": 1656507520, \"metric\": null, \"status\": \"Completed\", \"run_type\": \"azureml.scriptrun\", \"training_percent\": \"100\", \"start_time\": \"2022-06-29T13:00:09.318534Z\", \"end_time\": \"2022-06-29T13:00:13.218789Z\", \"created_time\": \"2022-06-29T12:58:40.365201Z\", \"created_time_dt\": \"2022-06-29T12:58:40.365201Z\", \"duration\": \"0:01:32\", \"iteration\": \"26\", \"goal\": \"accuracy_max\", \"run_name\": \"StandardScalerWrapper, XGBoostClassifier\", \"run_properties\": \"copy=True, with_mean=False, with_std=False\", \"primary_metric\": 0.86238141, \"best_metric\": 0.87266974}, {\"run_id\": \"AutoML_5472f2fb-5307-449c-8892-7c5f0b4d66a6_27\", \"run_number\": 1656507614, \"metric\": null, \"status\": \"Completed\", \"run_type\": \"azureml.scriptrun\", \"training_percent\": \"100\", \"start_time\": \"2022-06-29T13:01:15.46308Z\", \"end_time\": \"2022-06-29T13:01:19.295373Z\", \"created_time\": \"2022-06-29T13:00:14.890359Z\", \"created_time_dt\": \"2022-06-29T13:00:14.890359Z\", \"duration\": \"0:01:04\", \"iteration\": \"27\", \"goal\": \"accuracy_max\", \"run_name\": \"StandardScalerWrapper, ExtremeRandomTrees\", \"run_properties\": \"copy=True, with_mean=False, with_std=False\", \"primary_metric\": 0.81560755, \"best_metric\": 0.87266974}, {\"run_id\": \"AutoML_5472f2fb-5307-449c-8892-7c5f0b4d66a6_28\", \"run_number\": 1656507680, \"metric\": null, \"status\": \"Completed\", \"run_type\": \"azureml.scriptrun\", \"training_percent\": \"100\", \"start_time\": \"2022-06-29T13:02:27.142735Z\", \"end_time\": \"2022-06-29T13:02:30.958906Z\", \"created_time\": \"2022-06-29T13:01:20.953735Z\", \"created_time_dt\": \"2022-06-29T13:01:20.953735Z\", \"duration\": \"0:01:10\", \"iteration\": \"28\", \"goal\": \"accuracy_max\", \"run_name\": \"StandardScalerWrapper, XGBoostClassifier\", \"run_properties\": \"copy=True, with_mean=False, with_std=False\", \"primary_metric\": 0.85639256, \"best_metric\": 0.87266974}, {\"run_id\": \"AutoML_5472f2fb-5307-449c-8892-7c5f0b4d66a6_29\", \"run_number\": 1656507751, \"metric\": null, \"status\": \"Completed\", \"run_type\": \"azureml.scriptrun\", \"training_percent\": \"100\", \"start_time\": \"2022-06-29T13:03:45.025069Z\", \"end_time\": \"2022-06-29T13:03:49.104246Z\", \"created_time\": \"2022-06-29T13:02:31.655067Z\", \"created_time_dt\": \"2022-06-29T13:02:31.655067Z\", \"duration\": \"0:01:17\", \"iteration\": \"29\", \"goal\": \"accuracy_max\", \"run_name\": \"VotingEnsemble\", \"run_properties\": \"classification_labels=numpy.array([0, 1]\", \"primary_metric\": 0.87417466, \"best_metric\": 0.87417466}, {\"run_id\": \"AutoML_5472f2fb-5307-449c-8892-7c5f0b4d66a6_30\", \"run_number\": 1656507829, \"metric\": null, \"status\": \"Completed\", \"run_type\": \"azureml.scriptrun\", \"training_percent\": \"100\", \"start_time\": \"2022-06-29T13:05:34.764273Z\", \"end_time\": \"2022-06-29T13:05:38.563744Z\", \"created_time\": \"2022-06-29T13:03:49.677421Z\", \"created_time_dt\": \"2022-06-29T13:03:49.677421Z\", \"duration\": \"0:01:48\", \"iteration\": \"30\", \"goal\": \"accuracy_max\", \"run_name\": \"StackEnsemble\", \"run_properties\": \"base_learners=[('0', Pipeline(memory=None, steps=[('maxabsscaler', MaxAbsScaler(copy=True\", \"primary_metric\": 0.87306904, \"best_metric\": 0.87417466}], \"children_metrics\": {\"categories\": [0], \"series\": {\"AUC_micro\": [{\"categories\": [\"0\", \"2\", \"5\", \"8\", \"11\", \"14\", \"16\", \"20\", \"21\", \"22\", \"23\", \"24\", \"25\", \"26\", \"27\", \"28\", \"29\", \"30\"], \"mode\": \"markers\", \"name\": \"AUC_micro\", \"stepped\": false, \"type\": \"scatter\", \"data\": [0.9520225653300857, 0.8492162943529387, 0.9109573839451602, 0.8992387557068785, 0.9435330643979194, 0.9466409870267507, 0.8167002957586617, 0.8870915577657869, 0.9493595026737705, 0.9363883774318325, 0.8965029192792879, 0.934868124208948, 0.8859874613451171, 0.9451574478293946, 0.9008273875072803, 0.9396796621189075, 0.9514700666992004, 0.9513040994379336]}, {\"categories\": [\"0\", \"2\", \"5\", \"8\", \"11\", \"14\", \"16\", \"20\", \"21\", \"22\", \"23\", \"24\", \"25\", \"26\", \"27\", \"28\", \"29\", \"30\"], \"mode\": \"lines\", \"name\": \"AUC_micro_max\", \"stepped\": true, \"type\": \"scatter\", \"data\": [0.9520225653300857, 0.9520225653300857, 0.9520225653300857, 0.9520225653300857, 0.9520225653300857, 0.9520225653300857, 0.9520225653300857, 0.9520225653300857, 0.9520225653300857, 0.9520225653300857, 0.9520225653300857, 0.9520225653300857, 0.9520225653300857, 0.9520225653300857, 0.9520225653300857, 0.9520225653300857, 0.9520225653300857, 0.9520225653300857]}], \"f1_score_micro\": [{\"categories\": [\"0\", \"2\", \"5\", \"8\", \"11\", \"14\", \"16\", \"20\", \"21\", \"22\", \"23\", \"24\", \"25\", \"26\", \"27\", \"28\", \"29\", \"30\"], \"mode\": \"markers\", \"name\": \"f1_score_micro\", \"stepped\": false, \"type\": \"scatter\", \"data\": [0.8726697380140493, 0.725008389005395, 0.8006818908016514, 0.8025552231390554, 0.8621050518505609, 0.8663125695311324, 0.7966892665245959, 0.8024937556374683, 0.8679709283002696, 0.8502196467016827, 0.800251811629057, 0.8539971653744107, 0.7591905208671677, 0.8623814080400907, 0.8156075535566553, 0.8563925635781924, 0.874174656734537, 0.8730690433534745]}, {\"categories\": [\"0\", \"2\", \"5\", \"8\", \"11\", \"14\", \"16\", \"20\", \"21\", \"22\", \"23\", \"24\", \"25\", \"26\", \"27\", \"28\", \"29\", \"30\"], \"mode\": \"lines\", \"name\": \"f1_score_micro_max\", \"stepped\": true, \"type\": \"scatter\", \"data\": [0.8726697380140493, 0.8726697380140493, 0.8726697380140493, 0.8726697380140493, 0.8726697380140493, 0.8726697380140493, 0.8726697380140493, 0.8726697380140493, 0.8726697380140493, 0.8726697380140493, 0.8726697380140493, 0.8726697380140493, 0.8726697380140493, 0.8726697380140493, 0.8726697380140493, 0.8726697380140493, 0.874174656734537, 0.874174656734537]}], \"weighted_accuracy\": [{\"categories\": [\"0\", \"2\", \"5\", \"8\", \"11\", \"14\", \"16\", \"20\", \"21\", \"22\", \"23\", \"24\", \"25\", \"26\", \"27\", \"28\", \"29\", \"30\"], \"mode\": \"markers\", \"name\": \"weighted_accuracy\", \"stepped\": false, \"type\": \"scatter\", \"data\": [0.914971440664319, 0.702736043113428, 0.9238172497952648, 0.9132568894443718, 0.9200926119484863, 0.9165246192071524, 0.8982175097522903, 0.7971562288044984, 0.9208149094090554, 0.892345227471556, 0.9060518088162818, 0.9175484660583804, 0.9085786321332501, 0.9092554722425523, 0.8898231945130277, 0.8975282793715115, 0.9146635417369022, 0.9150988037531622]}, {\"categories\": [\"0\", \"2\", \"5\", \"8\", \"11\", \"14\", \"16\", \"20\", \"21\", \"22\", \"23\", \"24\", \"25\", \"26\", \"27\", \"28\", \"29\", \"30\"], \"mode\": \"lines\", \"name\": \"weighted_accuracy_max\", \"stepped\": true, \"type\": \"scatter\", \"data\": [0.914971440664319, 0.914971440664319, 0.9238172497952648, 0.9238172497952648, 0.9238172497952648, 0.9238172497952648, 0.9238172497952648, 0.9238172497952648, 0.9238172497952648, 0.9238172497952648, 0.9238172497952648, 0.9238172497952648, 0.9238172497952648, 0.9238172497952648, 0.9238172497952648, 0.9238172497952648, 0.9238172497952648, 0.9238172497952648]}], \"average_precision_score_macro\": [{\"categories\": [\"0\", \"2\", \"5\", \"8\", \"11\", \"14\", \"16\", \"20\", \"21\", \"22\", \"23\", \"24\", \"25\", \"26\", \"27\", \"28\", \"29\", \"30\"], \"mode\": \"markers\", \"name\": \"average_precision_score_macro\", \"stepped\": false, \"type\": \"scatter\", \"data\": [0.9025078085389404, 0.8026138940964632, 0.8707711240215092, 0.8134779198455865, 0.8872624851648417, 0.8921118056533869, 0.6525070995822135, 0.8364087209543293, 0.8981804068623125, 0.8738410810561039, 0.7934916586525507, 0.8721223455062876, 0.7735885984234219, 0.8878733675413581, 0.781581517208398, 0.8793308513906652, 0.9017811649437256, 0.9016307456207666]}, {\"categories\": [\"0\", \"2\", \"5\", \"8\", \"11\", \"14\", \"16\", \"20\", \"21\", \"22\", \"23\", \"24\", \"25\", \"26\", \"27\", \"28\", \"29\", \"30\"], \"mode\": \"lines\", \"name\": \"average_precision_score_macro_max\", \"stepped\": true, \"type\": \"scatter\", \"data\": [0.9025078085389404, 0.9025078085389404, 0.9025078085389404, 0.9025078085389404, 0.9025078085389404, 0.9025078085389404, 0.9025078085389404, 0.9025078085389404, 0.9025078085389404, 0.9025078085389404, 0.9025078085389404, 0.9025078085389404, 0.9025078085389404, 0.9025078085389404, 0.9025078085389404, 0.9025078085389404, 0.9025078085389404, 0.9025078085389404]}], \"recall_score_weighted\": [{\"categories\": [\"0\", \"2\", \"5\", \"8\", \"11\", \"14\", \"16\", \"20\", \"21\", \"22\", \"23\", \"24\", \"25\", \"26\", \"27\", \"28\", \"29\", \"30\"], \"mode\": \"markers\", \"name\": \"recall_score_weighted\", \"stepped\": false, \"type\": \"scatter\", \"data\": [0.8726697380140493, 0.725008389005395, 0.8006818908016513, 0.8025552231390554, 0.8621050518505609, 0.8663125695311324, 0.7966892665245959, 0.8024937556374683, 0.8679709283002696, 0.8502196467016827, 0.800251811629057, 0.853997165374411, 0.7591905208671677, 0.8623814080400907, 0.8156075535566553, 0.8563925635781923, 0.874174656734537, 0.8730690433534745]}, {\"categories\": [\"0\", \"2\", \"5\", \"8\", \"11\", \"14\", \"16\", \"20\", \"21\", \"22\", \"23\", \"24\", \"25\", \"26\", \"27\", \"28\", \"29\", \"30\"], \"mode\": \"lines\", \"name\": \"recall_score_weighted_max\", \"stepped\": true, \"type\": \"scatter\", \"data\": [0.8726697380140493, 0.8726697380140493, 0.8726697380140493, 0.8726697380140493, 0.8726697380140493, 0.8726697380140493, 0.8726697380140493, 0.8726697380140493, 0.8726697380140493, 0.8726697380140493, 0.8726697380140493, 0.8726697380140493, 0.8726697380140493, 0.8726697380140493, 0.8726697380140493, 0.8726697380140493, 0.874174656734537, 0.874174656734537]}], \"recall_score_micro\": [{\"categories\": [\"0\", \"2\", \"5\", \"8\", \"11\", \"14\", \"16\", \"20\", \"21\", \"22\", \"23\", \"24\", \"25\", \"26\", \"27\", \"28\", \"29\", \"30\"], \"mode\": \"markers\", \"name\": \"recall_score_micro\", \"stepped\": false, \"type\": \"scatter\", \"data\": [0.8726697380140493, 0.725008389005395, 0.8006818908016513, 0.8025552231390554, 0.8621050518505609, 0.8663125695311324, 0.7966892665245959, 0.8024937556374683, 0.8679709283002696, 0.8502196467016827, 0.800251811629057, 0.853997165374411, 0.7591905208671677, 0.8623814080400907, 0.8156075535566553, 0.8563925635781923, 0.874174656734537, 0.8730690433534745]}, {\"categories\": [\"0\", \"2\", \"5\", \"8\", \"11\", \"14\", \"16\", \"20\", \"21\", \"22\", \"23\", \"24\", \"25\", \"26\", \"27\", \"28\", \"29\", \"30\"], \"mode\": \"lines\", \"name\": \"recall_score_micro_max\", \"stepped\": true, \"type\": \"scatter\", \"data\": [0.8726697380140493, 0.8726697380140493, 0.8726697380140493, 0.8726697380140493, 0.8726697380140493, 0.8726697380140493, 0.8726697380140493, 0.8726697380140493, 0.8726697380140493, 0.8726697380140493, 0.8726697380140493, 0.8726697380140493, 0.8726697380140493, 0.8726697380140493, 0.8726697380140493, 0.8726697380140493, 0.874174656734537, 0.874174656734537]}], \"balanced_accuracy\": [{\"categories\": [\"0\", \"2\", \"5\", \"8\", \"11\", \"14\", \"16\", \"20\", \"21\", \"22\", \"23\", \"24\", \"25\", \"26\", \"27\", \"28\", \"29\", \"30\"], \"mode\": \"markers\", \"name\": \"balanced_accuracy\", \"stepped\": false, \"type\": \"scatter\", \"data\": [0.7992764743158827, 0.7636720577387643, 0.587066483471363, 0.6104597776640033, 0.7614984563388956, 0.7791835532105591, 0.6205603393559048, 0.8117575567310471, 0.7762869871577674, 0.7771274922152742, 0.6166774433456548, 0.7437151405026805, 0.5, 0.7810572889105856, 0.6868276647658174, 0.7850079858016372, 0.8039268038017017, 0.800141921502514]}, {\"categories\": [\"0\", \"2\", \"5\", \"8\", \"11\", \"14\", \"16\", \"20\", \"21\", \"22\", \"23\", \"24\", \"25\", \"26\", \"27\", \"28\", \"29\", \"30\"], \"mode\": \"lines\", \"name\": \"balanced_accuracy_max\", \"stepped\": true, \"type\": \"scatter\", \"data\": [0.7992764743158827, 0.7992764743158827, 0.7992764743158827, 0.7992764743158827, 0.7992764743158827, 0.7992764743158827, 0.7992764743158827, 0.8117575567310471, 0.8117575567310471, 0.8117575567310471, 0.8117575567310471, 0.8117575567310471, 0.8117575567310471, 0.8117575567310471, 0.8117575567310471, 0.8117575567310471, 0.8117575567310471, 0.8117575567310471]}], \"average_precision_score_micro\": [{\"categories\": [\"0\", \"2\", \"5\", \"8\", \"11\", \"14\", \"16\", \"20\", \"21\", \"22\", \"23\", \"24\", \"25\", \"26\", \"27\", \"28\", \"29\", \"30\"], \"mode\": \"markers\", \"name\": \"average_precision_score_micro\", \"stepped\": false, \"type\": \"scatter\", \"data\": [0.9537644330261535, 0.8590599856470723, 0.9149308307343423, 0.9035367078559314, 0.9449465087867986, 0.9482867311781451, 0.7917154368893348, 0.8855967977490342, 0.9511004701398779, 0.9385261018597187, 0.9019367736111443, 0.9363255646182361, 0.8920205340375986, 0.9473611706610182, 0.9033509201276952, 0.9417456575445966, 0.9531768366437126, 0.9528327516370668]}, {\"categories\": [\"0\", \"2\", \"5\", \"8\", \"11\", \"14\", \"16\", \"20\", \"21\", \"22\", \"23\", \"24\", \"25\", \"26\", \"27\", \"28\", \"29\", \"30\"], \"mode\": \"lines\", \"name\": \"average_precision_score_micro_max\", \"stepped\": true, \"type\": \"scatter\", \"data\": [0.9537644330261535, 0.9537644330261535, 0.9537644330261535, 0.9537644330261535, 0.9537644330261535, 0.9537644330261535, 0.9537644330261535, 0.9537644330261535, 0.9537644330261535, 0.9537644330261535, 0.9537644330261535, 0.9537644330261535, 0.9537644330261535, 0.9537644330261535, 0.9537644330261535, 0.9537644330261535, 0.9537644330261535, 0.9537644330261535]}], \"precision_score_macro\": [{\"categories\": [\"0\", \"2\", \"5\", \"8\", \"11\", \"14\", \"16\", \"20\", \"21\", \"22\", \"23\", \"24\", \"25\", \"26\", \"27\", \"28\", \"29\", \"30\"], \"mode\": \"markers\", \"name\": \"precision_score_macro\", \"stepped\": false, \"type\": \"scatter\", \"data\": [0.8378463740553066, 0.695841403723777, 0.8892939270334723, 0.8035598412636393, 0.8382819443712257, 0.8354936954486798, 0.7537942048611072, 0.748520911663717, 0.8423631236369818, 0.7998867839201956, 0.7743252194652449, 0.8303065235834314, 0.3795952604335838, 0.8243548254494065, 0.7621966466612751, 0.8091971740243687, 0.8385854773453462, 0.8382529242072261]}, {\"categories\": [\"0\", \"2\", \"5\", \"8\", \"11\", \"14\", \"16\", \"20\", \"21\", \"22\", \"23\", \"24\", \"25\", \"26\", \"27\", \"28\", \"29\", \"30\"], \"mode\": \"lines\", \"name\": \"precision_score_macro_max\", \"stepped\": true, \"type\": \"scatter\", \"data\": [0.8378463740553066, 0.8378463740553066, 0.8892939270334723, 0.8892939270334723, 0.8892939270334723, 0.8892939270334723, 0.8892939270334723, 0.8892939270334723, 0.8892939270334723, 0.8892939270334723, 0.8892939270334723, 0.8892939270334723, 0.8892939270334723, 0.8892939270334723, 0.8892939270334723, 0.8892939270334723, 0.8892939270334723, 0.8892939270334723]}], \"accuracy\": [{\"categories\": [\"0\", \"2\", \"5\", \"8\", \"11\", \"14\", \"16\", \"20\", \"21\", \"22\", \"23\", \"24\", \"25\", \"26\", \"27\", \"28\", \"29\", \"30\"], \"mode\": \"markers\", \"name\": \"accuracy\", \"stepped\": false, \"type\": \"scatter\", \"data\": [0.8726697380140493, 0.725008389005395, 0.8006818908016513, 0.8025552231390554, 0.8621050518505609, 0.8663125695311324, 0.7966892665245959, 0.8024937556374683, 0.8679709283002696, 0.8502196467016827, 0.800251811629057, 0.853997165374411, 0.7591905208671677, 0.8623814080400907, 0.8156075535566553, 0.8563925635781923, 0.874174656734537, 0.8730690433534745]}, {\"categories\": [\"0\", \"2\", \"5\", \"8\", \"11\", \"14\", \"16\", \"20\", \"21\", \"22\", \"23\", \"24\", \"25\", \"26\", \"27\", \"28\", \"29\", \"30\"], \"mode\": \"lines\", \"name\": \"accuracy_max\", \"stepped\": true, \"type\": \"scatter\", \"data\": [0.8726697380140493, 0.8726697380140493, 0.8726697380140493, 0.8726697380140493, 0.8726697380140493, 0.8726697380140493, 0.8726697380140493, 0.8726697380140493, 0.8726697380140493, 0.8726697380140493, 0.8726697380140493, 0.8726697380140493, 0.8726697380140493, 0.8726697380140493, 0.8726697380140493, 0.8726697380140493, 0.874174656734537, 0.874174656734537]}], \"norm_macro_recall\": [{\"categories\": [\"0\", \"2\", \"5\", \"8\", \"11\", \"14\", \"16\", \"20\", \"21\", \"22\", \"23\", \"24\", \"25\", \"26\", \"27\", \"28\", \"29\", \"30\"], \"mode\": \"markers\", \"name\": \"norm_macro_recall\", \"stepped\": false, \"type\": \"scatter\", \"data\": [0.5985529486317652, 0.5273441154775287, 0.1741329669427262, 0.22091955532800633, 0.522996912677791, 0.5583671064211182, 0.2411206787118096, 0.6235151134620941, 0.5525739743155349, 0.5542549844305484, 0.23335488669130927, 0.487430281005361, 0.0, 0.5621145778211714, 0.37365532953163466, 0.5700159716032747, 0.6078536076034033, 0.600283843005028]}, {\"categories\": [\"0\", \"2\", \"5\", \"8\", \"11\", \"14\", \"16\", \"20\", \"21\", \"22\", \"23\", \"24\", \"25\", \"26\", \"27\", \"28\", \"29\", \"30\"], \"mode\": \"lines\", \"name\": \"norm_macro_recall_max\", \"stepped\": true, \"type\": \"scatter\", \"data\": [0.5985529486317652, 0.5985529486317652, 0.5985529486317652, 0.5985529486317652, 0.5985529486317652, 0.5985529486317652, 0.5985529486317652, 0.6235151134620941, 0.6235151134620941, 0.6235151134620941, 0.6235151134620941, 0.6235151134620941, 0.6235151134620941, 0.6235151134620941, 0.6235151134620941, 0.6235151134620941, 0.6235151134620941, 0.6235151134620941]}], \"f1_score_macro\": [{\"categories\": [\"0\", \"2\", \"5\", \"8\", \"11\", \"14\", \"16\", \"20\", \"21\", \"22\", \"23\", \"24\", \"25\", \"26\", \"27\", \"28\", \"29\", \"30\"], \"mode\": \"markers\", \"name\": \"f1_score_macro\", \"stepped\": false, \"type\": \"scatter\", \"data\": [0.815716367441432, 0.6933459218164224, 0.5903081437883173, 0.623662931044976, 0.7889222864563974, 0.8012924137021888, 0.6378502394014556, 0.7642042287671444, 0.801290435298848, 0.7873107865604961, 0.6340069846233978, 0.7725450354005579, 0.43155623541447274, 0.7989166586050749, 0.7085891418596725, 0.7958224527646764, 0.8189591624457535, 0.8164287563520205]}, {\"categories\": [\"0\", \"2\", \"5\", \"8\", \"11\", \"14\", \"16\", \"20\", \"21\", \"22\", \"23\", \"24\", \"25\", \"26\", \"27\", \"28\", \"29\", \"30\"], \"mode\": \"lines\", \"name\": \"f1_score_macro_max\", \"stepped\": true, \"type\": \"scatter\", \"data\": [0.815716367441432, 0.815716367441432, 0.815716367441432, 0.815716367441432, 0.815716367441432, 0.815716367441432, 0.815716367441432, 0.815716367441432, 0.815716367441432, 0.815716367441432, 0.815716367441432, 0.815716367441432, 0.815716367441432, 0.815716367441432, 0.815716367441432, 0.815716367441432, 0.8189591624457535, 0.8189591624457535]}], \"log_loss\": [{\"categories\": [\"0\", \"2\", \"5\", \"8\", \"11\", \"14\", \"16\", \"20\", \"21\", \"22\", \"23\", \"24\", \"25\", \"26\", \"27\", \"28\", \"29\", \"30\"], \"mode\": \"markers\", \"name\": \"log_loss\", \"stepped\": false, \"type\": \"scatter\", \"data\": [0.2784184548460938, 0.5029930686650037, 0.4184177652420362, 0.4099329017288521, 0.3162350543447294, 0.30202640885944687, 0.5015954903108242, 0.45751725197127974, 0.2905128901290001, 0.4169620547477944, 0.4140722540076693, 0.5355068604125648, 0.5519523155098293, 0.2963739578363694, 0.3998855322867857, 0.3487502491884327, 0.3094546215173362, 0.28925673823786824]}, {\"categories\": [\"0\", \"2\", \"5\", \"8\", \"11\", \"14\", \"16\", \"20\", \"21\", \"22\", \"23\", \"24\", \"25\", \"26\", \"27\", \"28\", \"29\", \"30\"], \"mode\": \"lines\", \"name\": \"log_loss_min\", \"stepped\": true, \"type\": \"scatter\", \"data\": [0.2784184548460938, 0.2784184548460938, 0.2784184548460938, 0.2784184548460938, 0.2784184548460938, 0.2784184548460938, 0.2784184548460938, 0.2784184548460938, 0.2784184548460938, 0.2784184548460938, 0.2784184548460938, 0.2784184548460938, 0.2784184548460938, 0.2784184548460938, 0.2784184548460938, 0.2784184548460938, 0.2784184548460938, 0.2784184548460938]}], \"recall_score_macro\": [{\"categories\": [\"0\", \"2\", \"5\", \"8\", \"11\", \"14\", \"16\", \"20\", \"21\", \"22\", \"23\", \"24\", \"25\", \"26\", \"27\", \"28\", \"29\", \"30\"], \"mode\": \"markers\", \"name\": \"recall_score_macro\", \"stepped\": false, \"type\": \"scatter\", \"data\": [0.7992764743158827, 0.7636720577387643, 0.587066483471363, 0.6104597776640033, 0.7614984563388956, 0.7791835532105591, 0.6205603393559048, 0.8117575567310471, 0.7762869871577674, 0.7771274922152742, 0.6166774433456548, 0.7437151405026805, 0.5, 0.7810572889105856, 0.6868276647658174, 0.7850079858016372, 0.8039268038017017, 0.800141921502514]}, {\"categories\": [\"0\", \"2\", \"5\", \"8\", \"11\", \"14\", \"16\", \"20\", \"21\", \"22\", \"23\", \"24\", \"25\", \"26\", \"27\", \"28\", \"29\", \"30\"], \"mode\": \"lines\", \"name\": \"recall_score_macro_max\", \"stepped\": true, \"type\": \"scatter\", \"data\": [0.7992764743158827, 0.7992764743158827, 0.7992764743158827, 0.7992764743158827, 0.7992764743158827, 0.7992764743158827, 0.7992764743158827, 0.8117575567310471, 0.8117575567310471, 0.8117575567310471, 0.8117575567310471, 0.8117575567310471, 0.8117575567310471, 0.8117575567310471, 0.8117575567310471, 0.8117575567310471, 0.8117575567310471, 0.8117575567310471]}], \"matthews_correlation\": [{\"categories\": [\"0\", \"2\", \"5\", \"8\", \"11\", \"14\", \"16\", \"20\", \"21\", \"22\", \"23\", \"24\", \"25\", \"26\", \"27\", \"28\", \"29\", \"30\"], \"mode\": \"markers\", \"name\": \"matthews_correlation\", \"stepped\": false, \"type\": \"scatter\", \"data\": [0.6359495682475611, 0.4544772824103106, 0.36772790194703886, 0.36246440105772404, 0.5948388255296642, 0.6120762823083672, 0.3488638070434465, 0.5566964232698125, 0.615107506901553, 0.5765564229660753, 0.3575206243110725, 0.5673501930299649, 0.0, 0.6038451896882868, 0.4419961027338388, 0.593708788740311, 0.6415736192595057, 0.6372537751073557]}, {\"categories\": [\"0\", \"2\", \"5\", \"8\", \"11\", \"14\", \"16\", \"20\", \"21\", \"22\", \"23\", \"24\", \"25\", \"26\", \"27\", \"28\", \"29\", \"30\"], \"mode\": \"lines\", \"name\": \"matthews_correlation_max\", \"stepped\": true, \"type\": \"scatter\", \"data\": [0.6359495682475611, 0.6359495682475611, 0.6359495682475611, 0.6359495682475611, 0.6359495682475611, 0.6359495682475611, 0.6359495682475611, 0.6359495682475611, 0.6359495682475611, 0.6359495682475611, 0.6359495682475611, 0.6359495682475611, 0.6359495682475611, 0.6359495682475611, 0.6359495682475611, 0.6359495682475611, 0.6415736192595057, 0.6415736192595057]}], \"AUC_weighted\": [{\"categories\": [\"0\", \"2\", \"5\", \"8\", \"11\", \"14\", \"16\", \"20\", \"21\", \"22\", \"23\", \"24\", \"25\", \"26\", \"27\", \"28\", \"29\", \"30\"], \"mode\": \"markers\", \"name\": \"AUC_weighted\", \"stepped\": false, \"type\": \"scatter\", \"data\": [0.9281315093870829, 0.8587542185303173, 0.9027190216721712, 0.8660268818372063, 0.9151835180336638, 0.9194459857743711, 0.6286677576511515, 0.8909597810838734, 0.9242524118908285, 0.9047824379871614, 0.8566523412035016, 0.9005867696569403, 0.84679068403874, 0.91851452102108, 0.8531590282807648, 0.9099873566004373, 0.9274643726045151, 0.9275794826097064]}, {\"categories\": [\"0\", \"2\", \"5\", \"8\", \"11\", \"14\", \"16\", \"20\", \"21\", \"22\", \"23\", \"24\", \"25\", \"26\", \"27\", \"28\", \"29\", \"30\"], \"mode\": \"lines\", \"name\": \"AUC_weighted_max\", \"stepped\": true, \"type\": \"scatter\", \"data\": [0.9281315093870829, 0.9281315093870829, 0.9281315093870829, 0.9281315093870829, 0.9281315093870829, 0.9281315093870829, 0.9281315093870829, 0.9281315093870829, 0.9281315093870829, 0.9281315093870829, 0.9281315093870829, 0.9281315093870829, 0.9281315093870829, 0.9281315093870829, 0.9281315093870829, 0.9281315093870829, 0.9281315093870829, 0.9281315093870829]}], \"average_precision_score_weighted\": [{\"categories\": [\"0\", \"2\", \"5\", \"8\", \"11\", \"14\", \"16\", \"20\", \"21\", \"22\", \"23\", \"24\", \"25\", \"26\", \"27\", \"28\", \"29\", \"30\"], \"mode\": \"markers\", \"name\": \"average_precision_score_weighted\", \"stepped\": false, \"type\": \"scatter\", \"data\": [0.9402729161521275, 0.8797527234303126, 0.9197866867895629, 0.8859034141201366, 0.9302730603058006, 0.9334741740458039, 0.7356508303219964, 0.9019956398114202, 0.9374542384071892, 0.9219405380184241, 0.875564241028683, 0.9200467078862887, 0.8636535959137908, 0.9316817774272254, 0.867957182230036, 0.9256261634613864, 0.9397963875305635, 0.9397291449073328]}, {\"categories\": [\"0\", \"2\", \"5\", \"8\", \"11\", \"14\", \"16\", \"20\", \"21\", \"22\", \"23\", \"24\", \"25\", \"26\", \"27\", \"28\", \"29\", \"30\"], \"mode\": \"lines\", \"name\": \"average_precision_score_weighted_max\", \"stepped\": true, \"type\": \"scatter\", \"data\": [0.9402729161521275, 0.9402729161521275, 0.9402729161521275, 0.9402729161521275, 0.9402729161521275, 0.9402729161521275, 0.9402729161521275, 0.9402729161521275, 0.9402729161521275, 0.9402729161521275, 0.9402729161521275, 0.9402729161521275, 0.9402729161521275, 0.9402729161521275, 0.9402729161521275, 0.9402729161521275, 0.9402729161521275, 0.9402729161521275]}], \"precision_score_weighted\": [{\"categories\": [\"0\", \"2\", \"5\", \"8\", \"11\", \"14\", \"16\", \"20\", \"21\", \"22\", \"23\", \"24\", \"25\", \"26\", \"27\", \"28\", \"29\", \"30\"], \"mode\": \"markers\", \"name\": \"precision_score_weighted\", \"stepped\": false, \"type\": \"scatter\", \"data\": [0.8682796555193143, 0.8175898294870929, 0.8391114739476612, 0.8032461278964064, 0.8570236372160414, 0.8610463212879942, 0.7820053321228261, 0.8458525038906988, 0.8631055851549322, 0.8457396307336544, 0.7906781031596554, 0.8485036653528818, 0.5763729761569271, 0.8569521818235148, 0.8026647572518039, 0.8520611960385928, 0.8700711475414111, 0.8687176305951748]}, {\"categories\": [\"0\", \"2\", \"5\", \"8\", \"11\", \"14\", \"16\", \"20\", \"21\", \"22\", \"23\", \"24\", \"25\", \"26\", \"27\", \"28\", \"29\", \"30\"], \"mode\": \"lines\", \"name\": \"precision_score_weighted_max\", \"stepped\": true, \"type\": \"scatter\", \"data\": [0.8682796555193143, 0.8682796555193143, 0.8682796555193143, 0.8682796555193143, 0.8682796555193143, 0.8682796555193143, 0.8682796555193143, 0.8682796555193143, 0.8682796555193143, 0.8682796555193143, 0.8682796555193143, 0.8682796555193143, 0.8682796555193143, 0.8682796555193143, 0.8682796555193143, 0.8682796555193143, 0.8700711475414111, 0.8700711475414111]}], \"AUC_macro\": [{\"categories\": [\"0\", \"2\", \"5\", \"8\", \"11\", \"14\", \"16\", \"20\", \"21\", \"22\", \"23\", \"24\", \"25\", \"26\", \"27\", \"28\", \"29\", \"30\"], \"mode\": \"markers\", \"name\": \"AUC_macro\", \"stepped\": false, \"type\": \"scatter\", \"data\": [0.9281315093870827, 0.8587542185303173, 0.9027190216721712, 0.8660268818372063, 0.9151835045759038, 0.9194459857743711, 0.6286677576511515, 0.8909597810838734, 0.9242524118908285, 0.9047824675994717, 0.8566523412035016, 0.9005867696569403, 0.84679068403874, 0.91851452102108, 0.8531590282807647, 0.9099873599683512, 0.927464366033154, 0.9275794826097062]}, {\"categories\": [\"0\", \"2\", \"5\", \"8\", \"11\", \"14\", \"16\", \"20\", \"21\", \"22\", \"23\", \"24\", \"25\", \"26\", \"27\", \"28\", \"29\", \"30\"], \"mode\": \"lines\", \"name\": \"AUC_macro_max\", \"stepped\": true, \"type\": \"scatter\", \"data\": [0.9281315093870827, 0.9281315093870827, 0.9281315093870827, 0.9281315093870827, 0.9281315093870827, 0.9281315093870827, 0.9281315093870827, 0.9281315093870827, 0.9281315093870827, 0.9281315093870827, 0.9281315093870827, 0.9281315093870827, 0.9281315093870827, 0.9281315093870827, 0.9281315093870827, 0.9281315093870827, 0.9281315093870827, 0.9281315093870827]}], \"f1_score_weighted\": [{\"categories\": [\"0\", \"2\", \"5\", \"8\", \"11\", \"14\", \"16\", \"20\", \"21\", \"22\", \"23\", \"24\", \"25\", \"26\", \"27\", \"28\", \"29\", \"30\"], \"mode\": \"markers\", \"name\": \"f1_score_weighted\", \"stepped\": false, \"type\": \"scatter\", \"data\": [0.8688259411002214, 0.7444205597978113, 0.742464897858229, 0.7581316795131866, 0.8533483381044349, 0.8602153004314049, 0.7621301397855877, 0.8134604665180902, 0.8609603756080315, 0.8472741266243172, 0.7618728045401313, 0.8431015232685496, 0.6552685709053898, 0.8574736524274723, 0.8000842723434577, 0.853474572462264, 0.8707886923159384, 0.8692891804288945]}, {\"categories\": [\"0\", \"2\", \"5\", \"8\", \"11\", \"14\", \"16\", \"20\", \"21\", \"22\", \"23\", \"24\", \"25\", \"26\", \"27\", \"28\", \"29\", \"30\"], \"mode\": \"lines\", \"name\": \"f1_score_weighted_max\", \"stepped\": true, \"type\": \"scatter\", \"data\": [0.8688259411002214, 0.8688259411002214, 0.8688259411002214, 0.8688259411002214, 0.8688259411002214, 0.8688259411002214, 0.8688259411002214, 0.8688259411002214, 0.8688259411002214, 0.8688259411002214, 0.8688259411002214, 0.8688259411002214, 0.8688259411002214, 0.8688259411002214, 0.8688259411002214, 0.8688259411002214, 0.8707886923159384, 0.8707886923159384]}], \"precision_score_micro\": [{\"categories\": [\"0\", \"2\", \"5\", \"8\", \"11\", \"14\", \"16\", \"20\", \"21\", \"22\", \"23\", \"24\", \"25\", \"26\", \"27\", \"28\", \"29\", \"30\"], \"mode\": \"markers\", \"name\": \"precision_score_micro\", \"stepped\": false, \"type\": \"scatter\", \"data\": [0.8726697380140493, 0.725008389005395, 0.8006818908016513, 0.8025552231390554, 0.8621050518505609, 0.8663125695311324, 0.7966892665245959, 0.8024937556374683, 0.8679709283002696, 0.8502196467016827, 0.800251811629057, 0.853997165374411, 0.7591905208671677, 0.8623814080400907, 0.8156075535566553, 0.8563925635781923, 0.874174656734537, 0.8730690433534745]}, {\"categories\": [\"0\", \"2\", \"5\", \"8\", \"11\", \"14\", \"16\", \"20\", \"21\", \"22\", \"23\", \"24\", \"25\", \"26\", \"27\", \"28\", \"29\", \"30\"], \"mode\": \"lines\", \"name\": \"precision_score_micro_max\", \"stepped\": true, \"type\": \"scatter\", \"data\": [0.8726697380140493, 0.8726697380140493, 0.8726697380140493, 0.8726697380140493, 0.8726697380140493, 0.8726697380140493, 0.8726697380140493, 0.8726697380140493, 0.8726697380140493, 0.8726697380140493, 0.8726697380140493, 0.8726697380140493, 0.8726697380140493, 0.8726697380140493, 0.8726697380140493, 0.8726697380140493, 0.874174656734537, 0.874174656734537]}]}, \"metricName\": null, \"primaryMetricName\": \"accuracy\", \"showLegend\": false}, \"run_metrics\": [{\"name\": \"experiment_status\", \"run_id\": \"AutoML_5472f2fb-5307-449c-8892-7c5f0b4d66a6\", \"categories\": [0, 1, 2, 3, 4, 5, 6, 7, 8, 9, 10, 11, 12, 13], \"series\": [{\"data\": [\"DatasetEvaluation\", \"FeaturesGeneration\", \"DatasetFeaturization\", \"DatasetFeaturizationCompleted\", \"DatasetCrossValidationSplit\", \"ModelSelection\", \"BestRunExplainModel\", \"ModelExplanationDataSetSetup\", \"PickSurrogateModel\", \"EngineeredFeatureExplanations\", \"EngineeredFeatureExplanations\", \"RawFeaturesExplanations\", \"RawFeaturesExplanations\", \"BestRunExplainModel\"]}]}, {\"name\": \"experiment_status_description\", \"run_id\": \"AutoML_5472f2fb-5307-449c-8892-7c5f0b4d66a6\", \"categories\": [0, 1, 2, 3, 4, 5, 6, 7, 8, 9, 10, 11, 12, 13], \"series\": [{\"data\": [\"Gathering dataset statistics.\", \"Generating features for the dataset.\", \"Beginning to fit featurizers and featurize the dataset.\", \"Completed fit featurizers and featurizing the dataset.\", \"Generating individually featurized CV splits.\", \"Beginning model selection.\", \"Best run model explanations started\", \"Model explanations data setup completed\", \"Choosing LightGBM as the surrogate model for explanations\", \"Computation of engineered features started\", \"Computation of engineered features completed\", \"Computation of raw features started\", \"Computation of raw features completed\", \"Best run model explanations completed\"]}]}, {\"name\": \"log_loss\", \"run_id\": \"AutoML_5472f2fb-5307-449c-8892-7c5f0b4d66a6\", \"categories\": [0], \"series\": [{\"data\": [0.3094546215173362]}]}, {\"name\": \"weighted_accuracy\", \"run_id\": \"AutoML_5472f2fb-5307-449c-8892-7c5f0b4d66a6\", \"categories\": [0], \"series\": [{\"data\": [0.9146635417369022]}]}, {\"name\": \"matthews_correlation\", \"run_id\": \"AutoML_5472f2fb-5307-449c-8892-7c5f0b4d66a6\", \"categories\": [0], \"series\": [{\"data\": [0.6415736192595057]}]}, {\"name\": \"AUC_weighted\", \"run_id\": \"AutoML_5472f2fb-5307-449c-8892-7c5f0b4d66a6\", \"categories\": [0], \"series\": [{\"data\": [0.9274643726045151]}]}, {\"name\": \"accuracy\", \"run_id\": \"AutoML_5472f2fb-5307-449c-8892-7c5f0b4d66a6\", \"categories\": [0], \"series\": [{\"data\": [0.874174656734537]}]}, {\"name\": \"f1_score_macro\", \"run_id\": \"AutoML_5472f2fb-5307-449c-8892-7c5f0b4d66a6\", \"categories\": [0], \"series\": [{\"data\": [0.8189591624457535]}]}, {\"name\": \"average_precision_score_macro\", \"run_id\": \"AutoML_5472f2fb-5307-449c-8892-7c5f0b4d66a6\", \"categories\": [0], \"series\": [{\"data\": [0.9017811649437256]}]}, {\"name\": \"f1_score_weighted\", \"run_id\": \"AutoML_5472f2fb-5307-449c-8892-7c5f0b4d66a6\", \"categories\": [0], \"series\": [{\"data\": [0.8707886923159384]}]}, {\"name\": \"norm_macro_recall\", \"run_id\": \"AutoML_5472f2fb-5307-449c-8892-7c5f0b4d66a6\", \"categories\": [0], \"series\": [{\"data\": [0.6078536076034033]}]}, {\"name\": \"AUC_micro\", \"run_id\": \"AutoML_5472f2fb-5307-449c-8892-7c5f0b4d66a6\", \"categories\": [0], \"series\": [{\"data\": [0.9514700666992004]}]}, {\"name\": \"precision_score_macro\", \"run_id\": \"AutoML_5472f2fb-5307-449c-8892-7c5f0b4d66a6\", \"categories\": [0], \"series\": [{\"data\": [0.8385854773453462]}]}, {\"name\": \"precision_score_micro\", \"run_id\": \"AutoML_5472f2fb-5307-449c-8892-7c5f0b4d66a6\", \"categories\": [0], \"series\": [{\"data\": [0.874174656734537]}]}, {\"name\": \"balanced_accuracy\", \"run_id\": \"AutoML_5472f2fb-5307-449c-8892-7c5f0b4d66a6\", \"categories\": [0], \"series\": [{\"data\": [0.8039268038017017]}]}, {\"name\": \"recall_score_macro\", \"run_id\": \"AutoML_5472f2fb-5307-449c-8892-7c5f0b4d66a6\", \"categories\": [0], \"series\": [{\"data\": [0.8039268038017017]}]}, {\"name\": \"recall_score_weighted\", \"run_id\": \"AutoML_5472f2fb-5307-449c-8892-7c5f0b4d66a6\", \"categories\": [0], \"series\": [{\"data\": [0.874174656734537]}]}, {\"name\": \"recall_score_micro\", \"run_id\": \"AutoML_5472f2fb-5307-449c-8892-7c5f0b4d66a6\", \"categories\": [0], \"series\": [{\"data\": [0.874174656734537]}]}, {\"name\": \"average_precision_score_micro\", \"run_id\": \"AutoML_5472f2fb-5307-449c-8892-7c5f0b4d66a6\", \"categories\": [0], \"series\": [{\"data\": [0.9531768366437126]}]}, {\"name\": \"f1_score_micro\", \"run_id\": \"AutoML_5472f2fb-5307-449c-8892-7c5f0b4d66a6\", \"categories\": [0], \"series\": [{\"data\": [0.874174656734537]}]}, {\"name\": \"average_precision_score_weighted\", \"run_id\": \"AutoML_5472f2fb-5307-449c-8892-7c5f0b4d66a6\", \"categories\": [0], \"series\": [{\"data\": [0.9397963875305635]}]}, {\"name\": \"precision_score_weighted\", \"run_id\": \"AutoML_5472f2fb-5307-449c-8892-7c5f0b4d66a6\", \"categories\": [0], \"series\": [{\"data\": [0.8700711475414111]}]}, {\"name\": \"AUC_macro\", \"run_id\": \"AutoML_5472f2fb-5307-449c-8892-7c5f0b4d66a6\", \"categories\": [0], \"series\": [{\"data\": [0.927464366033154]}]}], \"run_logs\": \"\\nRun is completed.\", \"graph\": {}, \"widget_settings\": {\"childWidgetDisplay\": \"popup\", \"send_telemetry\": false, \"log_level\": \"INFO\", \"sdk_version\": \"1.42.0\"}, \"loading\": false}"
     },
     "metadata": {},
     "output_type": "display_data"
    },
    {
     "data": {
      "text/html": [
       "<table style=\"width:100%\"><tr><th>Experiment</th><th>Id</th><th>Type</th><th>Status</th><th>Details Page</th><th>Docs Page</th></tr><tr><td>adult-automl</td><td>AutoML_5472f2fb-5307-449c-8892-7c5f0b4d66a6</td><td>automl</td><td>NotStarted</td><td><a href=\"https://ml.azure.com/runs/AutoML_5472f2fb-5307-449c-8892-7c5f0b4d66a6?wsid=/subscriptions/1b944a9b-fdae-4f97-aeb1-b7eea0beac53/resourcegroups/aml-quickstarts-199745/workspaces/quick-starts-ws-199745&amp;tid=660b3398-b80e-49d2-bc5b-ac1dc93b5254\" target=\"_blank\" rel=\"noopener\">Link to Azure Machine Learning studio</a></td><td><a href=\"https://docs.microsoft.com/en-us/python/api/overview/azure/ml/intro?view=azure-ml-py\" target=\"_blank\" rel=\"noopener\">Link to Documentation</a></td></tr></table>"
      ],
      "text/plain": [
       "<IPython.core.display.HTML object>"
      ]
     },
     "metadata": {},
     "output_type": "display_data"
    },
    {
     "name": "stdout",
     "output_type": "stream",
     "text": [
      "\n",
      "Current status: FeaturesGeneration. Generating features for the dataset.\n",
      "Current status: DatasetFeaturization. Beginning to fit featurizers and featurize the dataset.\n",
      "Current status: DatasetCrossValidationSplit. Generating individually featurized CV splits.\n",
      "Current status: ModelSelection. Beginning model selection.\n",
      "\n",
      "********************************************************************************************\n",
      "DATA GUARDRAILS: \n",
      "\n",
      "TYPE:         Class balancing detection\n",
      "STATUS:       PASSED\n",
      "DESCRIPTION:  Your inputs were analyzed, and all classes are balanced in your training data.\n",
      "              Learn more about imbalanced data: https://aka.ms/AutomatedMLImbalancedData\n",
      "\n",
      "********************************************************************************************\n",
      "\n",
      "TYPE:         Missing feature values imputation\n",
      "STATUS:       PASSED\n",
      "DESCRIPTION:  No feature missing values were detected in the training data.\n",
      "              Learn more about missing value imputation: https://aka.ms/AutomatedMLFeaturization\n",
      "\n",
      "********************************************************************************************\n",
      "\n",
      "TYPE:         High cardinality feature detection\n",
      "STATUS:       PASSED\n",
      "DESCRIPTION:  Your inputs were analyzed, and no high cardinality features were detected.\n",
      "              Learn more about high cardinality feature handling: https://aka.ms/AutomatedMLFeaturization\n",
      "\n",
      "********************************************************************************************\n",
      "\n",
      "********************************************************************************************\n",
      "ITER: The iteration being evaluated.\n",
      "PIPELINE: A summary description of the pipeline being evaluated.\n",
      "DURATION: Time taken for the current iteration.\n",
      "METRIC: The result of computing score on the fitted pipeline.\n",
      "BEST: The best observed score thus far.\n",
      "********************************************************************************************\n",
      "\n",
      " ITER   PIPELINE                                       DURATION            METRIC      BEST\n",
      "    0   MaxAbsScaler LightGBM                          0:00:12             0.8727    0.8727\n",
      "    1   MaxAbsScaler XGBoostClassifier                 0:00:29             0.8698    0.8727\n",
      "    2   MaxAbsScaler ExtremeRandomTrees                0:00:15             0.7250    0.8727\n",
      "    3   SparseNormalizer XGBoostClassifier             0:00:16             0.8421    0.8727\n",
      "    4   MaxAbsScaler LightGBM                          0:00:10             0.8614    0.8727\n",
      "    5   MaxAbsScaler LightGBM                          0:00:14             0.8007    0.8727\n",
      "    6   StandardScalerWrapper XGBoostClassifier        0:00:11             0.8660    0.8727\n",
      "    7   MaxAbsScaler LogisticRegression                0:00:15             0.8516    0.8727\n",
      "    8   StandardScalerWrapper ExtremeRandomTrees       0:00:11             0.8026    0.8727\n",
      "    9   StandardScalerWrapper XGBoostClassifier        0:00:10             0.8645    0.8727\n",
      "   10   SparseNormalizer LightGBM                      0:00:14             0.8295    0.8727\n",
      "   11   StandardScalerWrapper XGBoostClassifier        0:00:11             0.8621    0.8727\n",
      "   12   MaxAbsScaler LogisticRegression                0:00:15             0.8519    0.8727\n",
      "   13   MaxAbsScaler SGD                               0:00:14             0.8080    0.8727\n",
      "   14   StandardScalerWrapper XGBoostClassifier        0:00:18             0.8663    0.8727\n",
      "   15   SparseNormalizer RandomForest                  0:00:25             0.7277    0.8727\n",
      "   16   StandardScalerWrapper LogisticRegression       0:00:10             0.7967    0.8727\n",
      "   17   StandardScalerWrapper RandomForest             0:00:15             0.8383    0.8727\n",
      "   18   StandardScalerWrapper XGBoostClassifier        0:00:14             0.8674    0.8727\n",
      "   19   TruncatedSVDWrapper RandomForest               0:02:37             0.7801    0.8727\n",
      "   20   TruncatedSVDWrapper RandomForest               0:02:07             0.8025    0.8727\n",
      "   21   StandardScalerWrapper XGBoostClassifier        0:00:04             0.8680    0.8727\n",
      "   22   StandardScalerWrapper XGBoostClassifier        0:00:25             0.8502    0.8727\n",
      "   23   StandardScalerWrapper LightGBM                 0:00:04             0.8003    0.8727\n",
      "   24   StandardScalerWrapper XGBoostClassifier        0:00:04             0.8540    0.8727\n",
      "   25   StandardScalerWrapper LightGBM                 0:00:04             0.7592    0.8727\n",
      "   26   StandardScalerWrapper XGBoostClassifier        0:00:04             0.8624    0.8727\n",
      "   27   StandardScalerWrapper ExtremeRandomTrees       0:00:04             0.8156    0.8727\n",
      "   28   StandardScalerWrapper XGBoostClassifier        0:00:04             0.8564    0.8727\n",
      "   29    VotingEnsemble                                0:00:04             0.8742    0.8742\n",
      "   30    StackEnsemble                                 0:00:04             0.8731    0.8742\n",
      "Best run ID: AutoML_5472f2fb-5307-449c-8892-7c5f0b4d66a6_29\n",
      "Accuracy: 0.874174656734537\n"
     ]
    }
   ],
   "source": [
    "run_automl()"
   ]
  },
  {
   "cell_type": "markdown",
   "id": "90ab646e",
   "metadata": {},
   "source": [
    "## Best Model\n",
    "\n",
    "The function `show_and_test_local_automl_model` loads the best model from the AutoML run, prints its properties and assesses performance on an independent test set. For details, see the file `functions.py`."
   ]
  },
  {
   "cell_type": "code",
   "execution_count": 4,
   "id": "9b3ba035",
   "metadata": {
    "scrolled": true
   },
   "outputs": [
    {
     "name": "stdout",
     "output_type": "stream",
     "text": [
      "('datatransformer', DataTransformer(enable_dnn=False, enable_feature_sweeping=True, feature_sweeping_config={}, feature_sweeping_timeout=86400, featurization_config=None, force_text_dnn=False, is_cross_validation=True, is_onnx_compatible=False, task='classification'))\n",
      "('prefittedsoftvotingclassifier', PreFittedSoftVotingClassifier(classification_labels=numpy.array([0, 1]), estimators=[('0', Pipeline(memory=None, steps=[('maxabsscaler', MaxAbsScaler(copy=True)), ('lightgbmclassifier', LightGBMClassifier(min_data_in_leaf=20, n_jobs=1, problem_info=ProblemInfo(gpu_training_param_dict={'processing_unit_type': 'cpu'}), random_state=None))], verbose=False)), ('1', Pipeline(memory=None, steps=[('maxabsscaler', MaxAbsScaler(copy=True)), ('xgboostclassifier', XGBoostClassifier(n_jobs=1, problem_info=ProblemInfo(gpu_training_param_dict={'processing_unit_type': 'cpu'}), random_state=0, tree_method='auto'))], verbose=False)), ('21', Pipeline(memory=None, steps=[('standardscalerwrapper', StandardScalerWrapper(copy=True, with_mean=False, with_std=False)), ('xgboostclassifier', XGBoostClassifier(booster='gbtree', colsample_bytree=0.5, eta=0.2, gamma=0, max_depth=7, max_leaves=7, n_estimators=25, n_jobs=1, objective='reg:logistic', problem_info=ProblemInfo(gpu_training_param_dict={'processing_unit_type': 'cpu'}), random_state=0, reg_alpha=0, reg_lambda=0.20833333333333334, subsample=1, tree_method='auto'))], verbose=False)), ('18', Pipeline(memory=None, steps=[('standardscalerwrapper', StandardScalerWrapper(copy=True, with_mean=False, with_std=False)), ('xgboostclassifier', XGBoostClassifier(booster='gbtree', colsample_bytree=0.7, eta=0.1, gamma=0.1, max_depth=9, max_leaves=511, n_estimators=25, n_jobs=1, objective='reg:logistic', problem_info=ProblemInfo(gpu_training_param_dict={'processing_unit_type': 'cpu'}), random_state=0, reg_alpha=0, reg_lambda=1.7708333333333335, subsample=0.9, tree_method='auto'))], verbose=False)), ('14', Pipeline(memory=None, steps=[('standardscalerwrapper', StandardScalerWrapper(copy=True, with_mean=False, with_std=False)), ('xgboostclassifier', XGBoostClassifier(booster='gbtree', colsample_bytree=1, eta=0.3, gamma=0, max_depth=10, max_leaves=511, n_estimators=10, n_jobs=1, objective='reg:logistic', problem_info=ProblemInfo(gpu_training_param_dict={'processing_unit_type': 'cpu'}), random_state=0, reg_alpha=2.1875, reg_lambda=0.4166666666666667, subsample=0.5, tree_method='auto'))], verbose=False)), ('26', Pipeline(memory=None, steps=[('standardscalerwrapper', StandardScalerWrapper(copy=True, with_mean=False, with_std=False)), ('xgboostclassifier', XGBoostClassifier(booster='gbtree', colsample_bytree=1, eta=0.01, gamma=0, grow_policy='lossguide', max_bin=7, max_depth=10, max_leaves=0, n_estimators=800, n_jobs=1, objective='reg:logistic', problem_info=ProblemInfo(gpu_training_param_dict={'processing_unit_type': 'cpu'}), random_state=0, reg_alpha=1.9791666666666667, reg_lambda=2.0833333333333335, subsample=0.6, tree_method='hist'))], verbose=False)), ('11', Pipeline(memory=None, steps=[('standardscalerwrapper', StandardScalerWrapper(copy=True, with_mean=False, with_std=False)), ('xgboostclassifier', XGBoostClassifier(booster='gbtree', colsample_bytree=0.6, eta=0.3, gamma=0, max_depth=6, max_leaves=0, n_estimators=10, n_jobs=1, objective='reg:logistic', problem_info=ProblemInfo(gpu_training_param_dict={'processing_unit_type': 'cpu'}), random_state=0, reg_alpha=0.3125, reg_lambda=2.3958333333333335, subsample=1, tree_method='auto'))], verbose=False)), ('3', Pipeline(memory=None, steps=[('sparsenormalizer', Normalizer(copy=True, norm='l2')), ('xgboostclassifier', XGBoostClassifier(booster='gbtree', colsample_bytree=0.7, eta=0.01, gamma=0.01, max_depth=7, max_leaves=31, n_estimators=10, n_jobs=1, objective='reg:logistic', problem_info=ProblemInfo(gpu_training_param_dict={'processing_unit_type': 'cpu'}), random_state=0, reg_alpha=2.1875, reg_lambda=1.0416666666666667, subsample=1, tree_method='auto'))], verbose=False)), ('13', Pipeline(memory=None, steps=[('maxabsscaler', MaxAbsScaler(copy=True)), ('sgdclassifierwrapper', SGDClassifierWrapper(alpha=7.5510448979591835, class_weight='balanced', eta0=0.001, fit_intercept=True, l1_ratio=0.42857142857142855, learning_rate='constant', loss='modified_huber', max_iter=1000, n_jobs=1, penalty='none', power_t=0.7777777777777777, random_state=None, tol=0.0001))], verbose=False)), ('20', Pipeline(memory=None, steps=[('truncatedsvdwrapper', TruncatedSVDWrapper(n_components=0.7026315789473684, random_state=None)), ('randomforestclassifier', RandomForestClassifier(bootstrap=False, ccp_alpha=0.0, class_weight='balanced', criterion='gini', max_depth=None, max_features='log2', max_leaf_nodes=None, max_samples=None, min_impurity_decrease=0.0, min_samples_leaf=0.01, min_samples_split=0.01, min_weight_fraction_leaf=0.0, n_estimators=200, n_jobs=1, oob_score=False, random_state=None, verbose=0, warm_start=False))], verbose=False))], flatten_transform=None, weights=[0.21428571428571427, 0.21428571428571427, 0.07142857142857142, 0.07142857142857142, 0.07142857142857142, 0.07142857142857142, 0.07142857142857142, 0.07142857142857142, 0.07142857142857142, 0.07142857142857142]))\n",
      "0.875744733124501\n"
     ]
    },
    {
     "data": {
      "text/html": [
       "<style  type=\"text/css\" >\n",
       "#T_8fe02422_f7ae_11ec_9e1c_002248a8c9cfrow0_col0,#T_8fe02422_f7ae_11ec_9e1c_002248a8c9cfrow1_col1{\n",
       "            background-color:  #63a8d3;\n",
       "            color:  #000000;\n",
       "        }#T_8fe02422_f7ae_11ec_9e1c_002248a8c9cfrow0_col1,#T_8fe02422_f7ae_11ec_9e1c_002248a8c9cfrow1_col0{\n",
       "            background-color:  #f7fbff;\n",
       "            color:  #000000;\n",
       "        }</style><table id=\"T_8fe02422_f7ae_11ec_9e1c_002248a8c9cf\" ><thead>    <tr>        <th class=\"blank level0\" ></th>        <th class=\"col_heading level0 col0\" >0</th>        <th class=\"col_heading level0 col1\" >1</th>    </tr></thead><tbody>\n",
       "                <tr>\n",
       "                        <th id=\"T_8fe02422_f7ae_11ec_9e1c_002248a8c9cflevel0_row0\" class=\"row_heading level0 row0\" >0</th>\n",
       "                        <td id=\"T_8fe02422_f7ae_11ec_9e1c_002248a8c9cfrow0_col0\" class=\"data row0 col0\" >11719</td>\n",
       "                        <td id=\"T_8fe02422_f7ae_11ec_9e1c_002248a8c9cfrow0_col1\" class=\"data row0 col1\" >716</td>\n",
       "            </tr>\n",
       "            <tr>\n",
       "                        <th id=\"T_8fe02422_f7ae_11ec_9e1c_002248a8c9cflevel0_row1\" class=\"row_heading level0 row1\" >1</th>\n",
       "                        <td id=\"T_8fe02422_f7ae_11ec_9e1c_002248a8c9cfrow1_col0\" class=\"data row1 col0\" >1307</td>\n",
       "                        <td id=\"T_8fe02422_f7ae_11ec_9e1c_002248a8c9cfrow1_col1\" class=\"data row1 col1\" >2539</td>\n",
       "            </tr>\n",
       "    </tbody></table>"
      ],
      "text/plain": [
       "<pandas.io.formats.style.Styler at 0x7f42bed0a4c0>"
      ]
     },
     "execution_count": 4,
     "metadata": {},
     "output_type": "execute_result"
    }
   ],
   "source": [
    "show_and_test_local_automl_model(test_ds)"
   ]
  },
  {
   "cell_type": "markdown",
   "id": "4581d89c",
   "metadata": {},
   "source": [
    "## Model Deployment\n",
    "\n",
    "The `register_and_deploy_automl_model()` function registers and deploys the best model found by AutoML on a compute instance. For more details, see the file `functions.py`."
   ]
  },
  {
   "cell_type": "code",
   "execution_count": null,
   "id": "b446a088",
   "metadata": {},
   "outputs": [],
   "source": [
    "register_and_deploy_automl_model()"
   ]
  },
  {
   "cell_type": "markdown",
   "id": "eadba2c0",
   "metadata": {},
   "source": [
    "The `test_deployed_automl_model()` function takes a row from the test set, encodes it as JSON string and sends an according HTTP request to test the endpoint. In the following, we are getting predictions for the first ten samples in the test set. For more details, see the file `functions.py`."
   ]
  },
  {
   "cell_type": "code",
   "execution_count": 5,
   "id": "1dc4d951",
   "metadata": {},
   "outputs": [
    {
     "name": "stdout",
     "output_type": "stream",
     "text": [
      "label: <=50K , prediction: <=50K\n",
      "label: <=50K , prediction: <=50K\n",
      "label: >50K , prediction: <=50K\n",
      "label: >50K , prediction: >50K\n",
      "label: <=50K , prediction: <=50K\n",
      "label: <=50K , prediction: <=50K\n",
      "label: <=50K , prediction: <=50K\n",
      "label: >50K , prediction: >50K\n",
      "label: <=50K , prediction: <=50K\n",
      "label: <=50K , prediction: <=50K\n"
     ]
    }
   ],
   "source": [
    "for row in range(0, 10):\n",
    "    test_deployed_automl_model(test_ds, row)"
   ]
  },
  {
   "cell_type": "markdown",
   "id": "02b56cf0",
   "metadata": {},
   "source": [
    "Finally, some clean up is performed, i.e. the compute cluster, web service and registered model are deleted from the current workspace. For details, see the file `functions.py`."
   ]
  },
  {
   "cell_type": "code",
   "execution_count": null,
   "id": "890f1d82",
   "metadata": {},
   "outputs": [],
   "source": [
    "clean_up(automl=True)"
   ]
  }
 ],
 "metadata": {
  "kernelspec": {
   "display_name": "Python 3.8 - AzureML",
   "language": "python",
   "name": "python38-azureml"
  },
  "language_info": {
   "codemirror_mode": {
    "name": "ipython",
    "version": 3
   },
   "file_extension": ".py",
   "mimetype": "text/x-python",
   "name": "python",
   "nbconvert_exporter": "python",
   "pygments_lexer": "ipython3",
   "version": "3.8.5"
  }
 },
 "nbformat": 4,
 "nbformat_minor": 5
}
