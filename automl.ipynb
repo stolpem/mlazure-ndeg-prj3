{
 "cells": [
  {
   "cell_type": "code",
   "execution_count": null,
   "id": "bea09bca",
   "metadata": {},
   "outputs": [],
   "source": [
    "import azureml.core\n",
    "from preprocessing import get_workspace, get_data, run_automl, \\\n",
    "    test_local_automl_model, register_and_deploy_automl_model, \\\n",
    "    test_deployed_automl_model\n",
    "\n",
    "# Check core SDK version number\n",
    "print(\"SDK version:\", azureml.core.VERSION)"
   ]
  },
  {
   "cell_type": "code",
   "execution_count": null,
   "id": "edef2cfe",
   "metadata": {},
   "outputs": [],
   "source": [
    "ws = get_workspace()\n",
    "print(ws.name, ws.resource_group, ws.location, ws.subscription_id, sep = '\\n')"
   ]
  },
  {
   "cell_type": "code",
   "execution_count": null,
   "id": "304a30ec",
   "metadata": {},
   "outputs": [],
   "source": [
    "_, test_ds = get_data()"
   ]
  },
  {
   "cell_type": "code",
   "execution_count": null,
   "id": "469a6d8d",
   "metadata": {},
   "outputs": [],
   "source": [
    "run_automl()"
   ]
  },
  {
   "cell_type": "code",
   "execution_count": null,
   "id": "9b3ba035",
   "metadata": {
    "scrolled": true
   },
   "outputs": [],
   "source": [
    "test_local_automl_model(test_ds)"
   ]
  },
  {
   "cell_type": "code",
   "execution_count": null,
   "id": "b446a088",
   "metadata": {},
   "outputs": [],
   "source": [
    "register_and_deploy_automl_model()"
   ]
  },
  {
   "cell_type": "code",
   "execution_count": null,
   "id": "1dc4d951",
   "metadata": {},
   "outputs": [],
   "source": [
    "for row in range(0, 10):\n",
    "    test_deployed_hyperd_model(test_ds, row)"
   ]
  }
 ],
 "metadata": {
  "kernelspec": {
   "display_name": "Python 3.8 - AzureML",
   "language": "python",
   "name": "python38-azureml"
  },
  "language_info": {
   "codemirror_mode": {
    "name": "ipython",
    "version": 3
   },
   "file_extension": ".py",
   "mimetype": "text/x-python",
   "name": "python",
   "nbconvert_exporter": "python",
   "pygments_lexer": "ipython3",
   "version": "3.8.5"
  }
 },
 "nbformat": 4,
 "nbformat_minor": 5
}
