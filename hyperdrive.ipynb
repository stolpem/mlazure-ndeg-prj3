{
 "cells": [
  {
   "cell_type": "code",
   "execution_count": 12,
   "id": "bea09bca",
   "metadata": {},
   "outputs": [
    {
     "name": "stdout",
     "output_type": "stream",
     "text": [
      "SDK version: 1.42.0\n"
     ]
    }
   ],
   "source": [
    "import logging\n",
    "import os\n",
    "import csv\n",
    "\n",
    "from matplotlib import pyplot as plt\n",
    "\n",
    "from preprocessing import get_workspace, get_hyperd_data, run_hyperdrive,\n",
    "    test_local_model, register_and_deploy_hyperdrive_model, test_deployed_model\n",
    "\n",
    "# Check core SDK version number\n",
    "print(\"SDK version:\", azureml.core.VERSION)"
   ]
  },
  {
   "cell_type": "code",
   "execution_count": 2,
   "id": "edef2cfe",
   "metadata": {},
   "outputs": [
    {
     "name": "stdout",
     "output_type": "stream",
     "text": [
      "quick-starts-ws-199272\n",
      "aml-quickstarts-199272\n",
      "westeurope\n",
      "6971f5ac-8af1-446e-8034-05acea24681f\n"
     ]
    }
   ],
   "source": [
    "ws = get_workspace()\n",
    "print(ws.name, ws.resource_group, ws.location, ws.subscription_id, sep = '\\n')"
   ]
  },
  {
   "cell_type": "code",
   "execution_count": 6,
   "id": "304a30ec",
   "metadata": {},
   "outputs": [
    {
     "name": "stdout",
     "output_type": "stream",
     "text": [
      "Loading datasets from workspace ...\n"
     ]
    }
   ],
   "source": [
    "_, test_ds = get_hyperd_data(ws)"
   ]
  },
  {
   "cell_type": "code",
   "execution_count": null,
   "id": "469a6d8d",
   "metadata": {},
   "outputs": [],
   "source": [
    "model = run_hyperdrive()\n"
   ]
  },
  {
   "cell_type": "code",
   "execution_count": null,
   "id": "9b3ba035",
   "metadata": {
    "scrolled": true
   },
   "outputs": [],
   "source": [
    "test_model(model, test_ds)"
   ]
  },
  {
   "cell_type": "code",
   "execution_count": null,
   "id": "b446a088",
   "metadata": {},
   "outputs": [],
   "source": [
    "service = register_and_deploy_hyperdrive_model()"
   ]
  },
  {
   "cell_type": "code",
   "execution_count": 7,
   "id": "1dc4d951",
   "metadata": {},
   "outputs": [
    {
     "name": "stdout",
     "output_type": "stream",
     "text": [
      "0.8321356182052699\n"
     ]
    }
   ],
   "source": [
    "test_deployed_model(service, test_ds, 0)"
   ]
  },
  {
   "cell_type": "code",
   "execution_count": 10,
   "id": "ea6eb7f0",
   "metadata": {},
   "outputs": [
    {
     "name": "stdout",
     "output_type": "stream",
     "text": [
      "Registering model adult-model\n"
     ]
    }
   ],
   "source": []
  },
  {
   "cell_type": "code",
   "execution_count": 13,
   "id": "83b056af",
   "metadata": {},
   "outputs": [],
   "source": []
  },
  {
   "cell_type": "code",
   "execution_count": 14,
   "id": "d9219da4",
   "metadata": {},
   "outputs": [],
   "source": [
    "\n"
   ]
  },
  {
   "cell_type": "code",
   "execution_count": 17,
   "id": "9b1ec03e",
   "metadata": {},
   "outputs": [
    {
     "name": "stdout",
     "output_type": "stream",
     "text": [
      "test is {'query': 'What color is the fox', 'context': 'The quick brown fox jumped over the lazy dog.'}\n"
     ]
    }
   ],
   "source": []
  },
  {
   "cell_type": "code",
   "execution_count": 18,
   "id": "c4372d78",
   "metadata": {},
   "outputs": [
    {
     "name": "stdout",
     "output_type": "stream",
     "text": [
      "/bin/bash: /azureml-envs/azureml_ee84bd7cfbdbc3e7def54164ac0068c1/lib/libtinfo.so.6: no version information available (required by /bin/bash)\n",
      "2022-06-24T09:27:44,303393803+00:00 - iot-server/run \n",
      "/bin/bash: /azureml-envs/azureml_ee84bd7cfbdbc3e7def54164ac0068c1/lib/libtinfo.so.6: no version information available (required by /bin/bash)\n",
      "/bin/bash: /azureml-envs/azureml_ee84bd7cfbdbc3e7def54164ac0068c1/lib/libtinfo.so.6: no version information available (required by /bin/bash)\n",
      "2022-06-24T09:27:44,305936145+00:00 - rsyslog/run \n",
      "2022-06-24T09:27:44,307419569+00:00 - gunicorn/run \n",
      "2022-06-24T09:27:44,308899094+00:00 | gunicorn/run | \n",
      "2022-06-24T09:27:44,310883427+00:00 | gunicorn/run | ###############################################\n",
      "/bin/bash: /azureml-envs/azureml_ee84bd7cfbdbc3e7def54164ac0068c1/lib/libtinfo.so.6: no version information available (required by /bin/bash)\n",
      "2022-06-24T09:27:44,313160264+00:00 | gunicorn/run | AzureML Container Runtime Information\n",
      "bash: /azureml-envs/azureml_ee84bd7cfbdbc3e7def54164ac0068c1/lib/libtinfo.so.6: no version information available (required by bash)\n",
      "2022-06-24T09:27:44,317098329+00:00 | gunicorn/run | ###############################################\n",
      "2022-06-24T09:27:44,319722373+00:00 - nginx/run \n",
      "2022-06-24T09:27:44,319023161+00:00 | gunicorn/run | \n",
      "2022-06-24T09:27:44,331509868+00:00 | gunicorn/run | \n",
      "2022-06-24T09:27:44,333223296+00:00 | gunicorn/run | PATH environment variable: /azureml-envs/azureml_ee84bd7cfbdbc3e7def54164ac0068c1/bin:/opt/miniconda/bin:/usr/local/sbin:/usr/local/bin:/usr/sbin:/usr/bin:/sbin:/bin\n",
      "2022-06-24T09:27:44,345114693+00:00 | gunicorn/run | PYTHONPATH environment variable: \n",
      "2022-06-24T09:27:44,346675519+00:00 | gunicorn/run | \n",
      "2022-06-24T09:27:44,348102143+00:00 | gunicorn/run | Pip Dependencies (before dynamic installation)\n",
      "\n",
      "EdgeHubConnectionString and IOTEDGE_IOTHUBHOSTNAME are not set. Exiting...\n",
      "/bin/bash: /azureml-envs/azureml_ee84bd7cfbdbc3e7def54164ac0068c1/lib/libtinfo.so.6: no version information available (required by /bin/bash)\n",
      "2022-06-24T09:27:44,396338841+00:00 - iot-server/finish 1 0\n",
      "2022-06-24T09:27:44,397738564+00:00 - Exit code 1 is normal. Not restarting iot-server.\n",
      "adal==1.2.7\n",
      "applicationinsights==0.11.10\n",
      "argcomplete==2.0.0\n",
      "attrs==21.4.0\n",
      "azure-common==1.1.28\n",
      "azure-core==1.22.1\n",
      "azure-graphrbac==0.61.1\n",
      "azure-identity==1.7.0\n",
      "azure-mgmt-authorization==2.0.0\n",
      "azure-mgmt-containerregistry==9.1.0\n",
      "azure-mgmt-core==1.3.0\n",
      "azure-mgmt-keyvault==9.3.0\n",
      "azure-mgmt-resource==21.0.0\n",
      "azure-mgmt-storage==20.0.0\n",
      "azureml-core==1.42.0.post1\n",
      "azureml-dataprep==4.0.4\n",
      "azureml-dataprep-native==38.0.0\n",
      "azureml-dataprep-rslex==2.6.3\n",
      "azureml-dataset-runtime==1.42.0\n",
      "azureml-defaults==1.42.0\n",
      "azureml-inference-server-http==0.4.13\n",
      "backports.tempfile==1.0\n",
      "backports.weakref==1.0.post1\n",
      "bcrypt==3.2.2\n",
      "cachetools==5.2.0\n",
      "certifi==2021.10.8\n",
      "cffi==1.15.0\n",
      "charset-normalizer==2.0.12\n",
      "click==7.1.2\n",
      "cloudpickle==2.1.0\n",
      "configparser==3.7.4\n",
      "contextlib2==21.6.0\n",
      "cryptography==36.0.2\n",
      "distro==1.7.0\n",
      "docker==5.0.3\n",
      "dotnetcore2==3.1.23\n",
      "Flask==1.0.3\n",
      "fusepy==3.0.1\n",
      "google-api-core==2.8.2\n",
      "google-auth==2.8.0\n",
      "googleapis-common-protos==1.56.3\n",
      "gunicorn==20.1.0\n",
      "humanfriendly==10.0\n",
      "idna==3.3\n",
      "importlib-resources==5.8.0\n",
      "inference-schema==1.3.0\n",
      "isodate==0.6.1\n",
      "itsdangerous==1.1.0\n",
      "jeepney==0.8.0\n",
      "Jinja2==3.0.3\n",
      "jmespath==1.0.0\n",
      "json-logging-py==0.2\n",
      "jsonpickle==2.2.0\n",
      "jsonschema==4.6.0\n",
      "knack==0.9.0\n",
      "MarkupSafe==2.1.1\n",
      "msal==1.18.0\n",
      "msal-extensions==0.3.1\n",
      "msrest==0.6.21\n",
      "msrestazure==0.6.4\n",
      "ndg-httpsclient==0.5.1\n",
      "numpy==1.23.0\n",
      "oauthlib==3.2.0\n",
      "opencensus==0.9.0\n",
      "opencensus-context==0.1.2\n",
      "opencensus-ext-azure==1.1.4\n",
      "packaging==21.3\n",
      "paramiko==2.11.0\n",
      "pathspec==0.9.0\n",
      "pkginfo==1.8.3\n",
      "portalocker==2.4.0\n",
      "protobuf==4.21.1\n",
      "psutil==5.9.1\n",
      "pyarrow==3.0.0\n",
      "pyasn1==0.4.8\n",
      "pyasn1-modules==0.2.8\n",
      "pycparser==2.21\n",
      "Pygments==2.12.0\n",
      "PyJWT==2.4.0\n",
      "PyNaCl==1.5.0\n",
      "pyOpenSSL==22.0.0\n",
      "pyparsing==3.0.9\n",
      "pyrsistent==0.18.1\n",
      "PySocks==1.7.1\n",
      "python-dateutil==2.8.2\n",
      "pytz==2022.1\n",
      "PyYAML==6.0\n",
      "requests==2.28.0\n",
      "requests-oauthlib==1.3.1\n",
      "rsa==4.8\n",
      "SecretStorage==3.3.2\n",
      "six==1.16.0\n",
      "tabulate==0.8.10\n",
      "urllib3==1.26.9\n",
      "websocket-client==1.3.3\n",
      "Werkzeug==1.0.1\n",
      "wrapt==1.12.1\n",
      "zipp==3.8.0\n",
      "\n",
      "2022-06-24T09:27:44,765223846+00:00 | gunicorn/run | \n",
      "2022-06-24T09:27:44,766993375+00:00 | gunicorn/run | ###############################################\n",
      "2022-06-24T09:27:44,768695003+00:00 | gunicorn/run | AzureML Inference Server\n",
      "2022-06-24T09:27:44,770218828+00:00 | gunicorn/run | ###############################################\n",
      "2022-06-24T09:27:44,771780154+00:00 | gunicorn/run | \n",
      "2022-06-24T09:27:44,773611985+00:00 | gunicorn/run | \n",
      "2022-06-24T09:27:44,775349213+00:00 | gunicorn/run | Starting HTTP server\n",
      "2022-06-24T09:27:44,779332479+00:00 | gunicorn/run | \n",
      "Starting gunicorn 20.1.0\n",
      "Listening at: http://127.0.0.1:31311 (19)\n",
      "Using worker: sync\n",
      "worker timeout is set to 300\n",
      "Booting worker with pid: 65\n",
      "SPARK_HOME not set. Skipping PySpark Initialization.\n",
      "Initializing logger\n",
      "2022-06-24 09:27:45,248 | root | INFO | Starting up app insights client\n",
      "logging socket was found. logging is available.\n",
      "logging socket was found. logging is available.\n",
      "2022-06-24 09:27:45,248 | root | INFO | Starting up request id generator\n",
      "2022-06-24 09:27:45,248 | root | INFO | Starting up app insight hooks\n",
      "2022-06-24 09:27:45,248 | root | INFO | Invoking user's init function\n",
      "00000000-0000-0000-0000-000000000000,This is init\n",
      "2022-06-24 09:27:45,249 | root | INFO | Users's init has completed successfully\n",
      "2022-06-24 09:27:45,251 | root | INFO | Skipping middleware: dbg_model_info as it's not enabled.\n",
      "2022-06-24 09:27:45,252 | root | INFO | Skipping middleware: dbg_resource_usage as it's not enabled.\n",
      "2022-06-24 09:27:45,252 | root | INFO | Scoring timeout setting is not found. Use default timeout: 3600000 ms\n",
      "2022-06-24 09:28:00,459 | root | INFO | Scoring Timer is set to 3600.0 seconds\n",
      "30bcccf9-7e21-4188-9697-79d7528510fb,received data {'query': 'What color is the fox', 'context': 'The quick brown fox jumped over the lazy dog.'}\n",
      "2022-06-24 09:28:00,459 | root | INFO | 200\n",
      "127.0.0.1 - - [24/Jun/2022:09:28:00 +0000] \"POST /score HTTP/1.0\" 200 104 \"-\" \"python-requests/2.27.1\"\n",
      "\n"
     ]
    }
   ],
   "source": [
    "print(service.get_logs())"
   ]
  },
  {
   "cell_type": "code",
   "execution_count": null,
   "id": "f9d51699",
   "metadata": {},
   "outputs": [],
   "source": []
  }
 ],
 "metadata": {
  "kernelspec": {
   "display_name": "Python 3.8 - AzureML",
   "language": "python",
   "name": "python38-azureml"
  },
  "language_info": {
   "codemirror_mode": {
    "name": "ipython",
    "version": 3
   },
   "file_extension": ".py",
   "mimetype": "text/x-python",
   "name": "python",
   "nbconvert_exporter": "python",
   "pygments_lexer": "ipython3",
   "version": "3.8.5"
  }
 },
 "nbformat": 4,
 "nbformat_minor": 5
}
