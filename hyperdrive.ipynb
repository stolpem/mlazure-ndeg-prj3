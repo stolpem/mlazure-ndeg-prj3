{
 "cells": [
  {
   "cell_type": "code",
   "execution_count": 1,
   "id": "bea09bca",
   "metadata": {},
   "outputs": [
    {
     "name": "stdout",
     "output_type": "stream",
     "text": [
      "SDK version: 1.42.0\n"
     ]
    }
   ],
   "source": [
    "import azureml.core\n",
    "from preprocessing import get_workspace, get_data, run_hyperd, \\\n",
    "    test_local_hyperd_model, register_and_deploy_hyperd_model, \\\n",
    "    test_deployed_hyperd_model\n",
    "\n",
    "# Check core SDK version number\n",
    "print(\"SDK version:\", azureml.core.VERSION)"
   ]
  },
  {
   "cell_type": "code",
   "execution_count": 2,
   "id": "edef2cfe",
   "metadata": {},
   "outputs": [
    {
     "name": "stdout",
     "output_type": "stream",
     "text": [
      "quick-starts-ws-199654\n",
      "aml-quickstarts-199654\n",
      "westeurope\n",
      "3d1a56d2-7c81-4118-9790-f85d1acf0c77\n"
     ]
    }
   ],
   "source": [
    "ws = get_workspace()\n",
    "print(ws.name, ws.resource_group, ws.location, ws.subscription_id, sep = '\\n')"
   ]
  },
  {
   "cell_type": "code",
   "execution_count": 3,
   "id": "304a30ec",
   "metadata": {},
   "outputs": [
    {
     "name": "stdout",
     "output_type": "stream",
     "text": [
      "Loading datasets from workspace ...\n"
     ]
    }
   ],
   "source": [
    "_, test_ds = get_data(suffix='hyperd')"
   ]
  },
  {
   "cell_type": "code",
   "execution_count": null,
   "id": "469a6d8d",
   "metadata": {},
   "outputs": [],
   "source": [
    "run_hyperd()"
   ]
  },
  {
   "cell_type": "code",
   "execution_count": 4,
   "id": "9b3ba035",
   "metadata": {
    "scrolled": true
   },
   "outputs": [
    {
     "name": "stdout",
     "output_type": "stream",
     "text": [
      "0.8311528775873718\n"
     ]
    },
    {
     "data": {
      "text/html": [
       "<style  type=\"text/css\" >\n",
       "#T_cac80b2c_f6c3_11ec_a77a_6045bd90c571row0_col0,#T_cac80b2c_f6c3_11ec_a77a_6045bd90c571row1_col1{\n",
       "            background-color:  #63a8d3;\n",
       "            color:  #000000;\n",
       "        }#T_cac80b2c_f6c3_11ec_a77a_6045bd90c571row0_col1,#T_cac80b2c_f6c3_11ec_a77a_6045bd90c571row1_col0{\n",
       "            background-color:  #f7fbff;\n",
       "            color:  #000000;\n",
       "        }</style><table id=\"T_cac80b2c_f6c3_11ec_a77a_6045bd90c571\" ><thead>    <tr>        <th class=\"blank level0\" ></th>        <th class=\"col_heading level0 col0\" >0</th>        <th class=\"col_heading level0 col1\" >1</th>    </tr></thead><tbody>\n",
       "                <tr>\n",
       "                        <th id=\"T_cac80b2c_f6c3_11ec_a77a_6045bd90c571level0_row0\" class=\"row_heading level0 row0\" >0</th>\n",
       "                        <td id=\"T_cac80b2c_f6c3_11ec_a77a_6045bd90c571row0_col0\" class=\"data row0 col0\" >11841</td>\n",
       "                        <td id=\"T_cac80b2c_f6c3_11ec_a77a_6045bd90c571row0_col1\" class=\"data row0 col1\" >594</td>\n",
       "            </tr>\n",
       "            <tr>\n",
       "                        <th id=\"T_cac80b2c_f6c3_11ec_a77a_6045bd90c571level0_row1\" class=\"row_heading level0 row1\" >1</th>\n",
       "                        <td id=\"T_cac80b2c_f6c3_11ec_a77a_6045bd90c571row1_col0\" class=\"data row1 col0\" >2155</td>\n",
       "                        <td id=\"T_cac80b2c_f6c3_11ec_a77a_6045bd90c571row1_col1\" class=\"data row1 col1\" >1691</td>\n",
       "            </tr>\n",
       "    </tbody></table>"
      ],
      "text/plain": [
       "<pandas.io.formats.style.Styler at 0x7f303811f1f0>"
      ]
     },
     "execution_count": 4,
     "metadata": {},
     "output_type": "execute_result"
    }
   ],
   "source": [
    "test_local_hyperd_model(test_ds)"
   ]
  },
  {
   "cell_type": "code",
   "execution_count": 5,
   "id": "b446a088",
   "metadata": {},
   "outputs": [
    {
     "name": "stdout",
     "output_type": "stream",
     "text": [
      "Registering model adult-hyperd-model\n",
      "Tips: You can try get_logs(): https://aka.ms/debugimage#dockerlog or local deployment: https://aka.ms/debugimage#debug-locally to debug if deployment takes longer than 10 minutes.\n",
      "Running\n",
      "2022-06-28 09:22:17+00:00 Creating Container Registry if not exists.\n",
      "2022-06-28 09:22:17+00:00 Registering the environment.\n",
      "2022-06-28 09:22:19+00:00 Use the existing image.\n",
      "2022-06-28 09:22:19+00:00 Generating deployment configuration.\n",
      "2022-06-28 09:22:20+00:00 Submitting deployment to compute.\n",
      "2022-06-28 09:22:22+00:00 Checking the status of deployment adult-hyperd-service..\n",
      "2022-06-28 09:25:08+00:00 Checking the status of inference endpoint adult-hyperd-service.\n",
      "Succeeded\n",
      "ACI service creation operation finished, operation \"Succeeded\"\n",
      "/bin/bash: /azureml-envs/azureml_22f2115a88eed828c37333fb129fd861/lib/libtinfo.so.6: no version information available (required by /bin/bash)\n",
      "/bin/bash: /azureml-envs/azureml_22f2115a88eed828c37333fb129fd861/lib/libtinfo.so.6: no version information available (required by /bin/bash)\n",
      "/bin/bash: /azureml-envs/azureml_22f2115a88eed828c37333fb129fd861/lib/libtinfo.so.6: no version information available (required by /bin/bash)\n",
      "2022-06-28T09:24:29,871152900+00:00 - gunicorn/run \n",
      "/bin/bash: /azureml-envs/azureml_22f2115a88eed828c37333fb129fd861/lib/libtinfo.so.6: no version information available (required by /bin/bash)\n",
      "2022-06-28T09:24:29,878550300+00:00 - nginx/run \n",
      "2022-06-28T09:24:29,879616800+00:00 | gunicorn/run | \n",
      "2022-06-28T09:24:29,889989700+00:00 - rsyslog/run \n",
      "bash: /azureml-envs/azureml_22f2115a88eed828c37333fb129fd861/lib/libtinfo.so.6: no version information available (required by bash)\n",
      "2022-06-28T09:24:29,891752400+00:00 - iot-server/run \n",
      "2022-06-28T09:24:29,895607600+00:00 | gunicorn/run | ###############################################\n",
      "2022-06-28T09:24:29,913623600+00:00 | gunicorn/run | AzureML Container Runtime Information\n",
      "2022-06-28T09:24:29,924113100+00:00 | gunicorn/run | ###############################################\n",
      "2022-06-28T09:24:29,927751300+00:00 | gunicorn/run | \n",
      "2022-06-28T09:24:29,940279600+00:00 | gunicorn/run | \n",
      "2022-06-28T09:24:29,942895700+00:00 | gunicorn/run | PATH environment variable: /azureml-envs/azureml_22f2115a88eed828c37333fb129fd861/bin:/opt/miniconda/bin:/usr/local/sbin:/usr/local/bin:/usr/sbin:/usr/bin:/sbin:/bin\n",
      "2022-06-28T09:24:29,945625600+00:00 | gunicorn/run | PYTHONPATH environment variable: \n",
      "2022-06-28T09:24:29,950869100+00:00 | gunicorn/run | \n",
      "2022-06-28T09:24:29,990622300+00:00 | gunicorn/run | Pip Dependencies (before dynamic installation)\n",
      "\n",
      "EdgeHubConnectionString and IOTEDGE_IOTHUBHOSTNAME are not set. Exiting...\n",
      "/bin/bash: /azureml-envs/azureml_22f2115a88eed828c37333fb129fd861/lib/libtinfo.so.6: no version information available (required by /bin/bash)\n",
      "2022-06-28T09:24:30,239863300+00:00 - iot-server/finish 1 0\n",
      "2022-06-28T09:24:30,249870700+00:00 - Exit code 1 is normal. Not restarting iot-server.\n",
      "adal==1.2.7\n",
      "applicationinsights==0.11.10\n",
      "argcomplete==2.0.0\n",
      "attrs==21.4.0\n",
      "azure-common==1.1.28\n",
      "azure-core==1.24.1\n",
      "azure-graphrbac==0.61.1\n",
      "azure-identity==1.7.0\n",
      "azure-mgmt-authorization==2.0.0\n",
      "azure-mgmt-containerregistry==10.0.0\n",
      "azure-mgmt-core==1.3.0\n",
      "azure-mgmt-keyvault==10.0.0\n",
      "azure-mgmt-resource==21.1.0\n",
      "azure-mgmt-storage==20.0.0\n",
      "azureml-core==1.43.0\n",
      "azureml-dataprep==4.0.4\n",
      "azureml-dataprep-native==38.0.0\n",
      "azureml-dataprep-rslex==2.6.3\n",
      "azureml-dataset-runtime==1.43.0\n",
      "azureml-defaults==1.43.0\n",
      "azureml-inference-server-http==0.4.13\n",
      "backports.tempfile==1.0\n",
      "backports.weakref==1.0.post1\n",
      "bcrypt==3.2.2\n",
      "Bottleneck @ file:///tmp/build/80754af9/bottleneck_1648028895253/work\n",
      "cachetools==5.2.0\n",
      "certifi @ file:///opt/conda/conda-bld/certifi_1655968806487/work/certifi\n",
      "cffi==1.15.0\n",
      "charset-normalizer==2.0.12\n",
      "click==7.1.2\n",
      "cloudpickle==2.1.0\n",
      "configparser==3.7.4\n",
      "contextlib2==21.6.0\n",
      "cryptography==37.0.2\n",
      "distro==1.7.0\n",
      "docker==5.0.3\n",
      "dotnetcore2==3.1.23\n",
      "Flask==1.0.3\n",
      "fusepy==3.0.1\n",
      "google-api-core==2.8.2\n",
      "google-auth==2.8.0\n",
      "googleapis-common-protos==1.56.3\n",
      "gunicorn==20.1.0\n",
      "humanfriendly==10.0\n",
      "idna==3.3\n",
      "importlib-resources==5.8.0\n",
      "inference-schema==1.3.0\n",
      "isodate==0.6.1\n",
      "itsdangerous==1.1.0\n",
      "jeepney==0.8.0\n",
      "Jinja2==3.0.3\n",
      "jmespath==1.0.0\n",
      "joblib @ file:///tmp/build/80754af9/joblib_1635411271373/work\n",
      "json-logging-py==0.2\n",
      "jsonpickle==2.2.0\n",
      "jsonschema==4.6.0\n",
      "knack==0.9.0\n",
      "MarkupSafe==2.1.1\n",
      "mkl-fft==1.3.1\n",
      "mkl-random @ file:///tmp/build/80754af9/mkl_random_1626186064646/work\n",
      "mkl-service==2.4.0\n",
      "msal==1.18.0\n",
      "msal-extensions==0.3.1\n",
      "msrest==0.6.21\n",
      "msrestazure==0.6.4\n",
      "ndg-httpsclient==0.5.1\n",
      "numexpr @ file:///opt/conda/conda-bld/numexpr_1656071944761/work\n",
      "numpy @ file:///opt/conda/conda-bld/numpy_and_numpy_base_1652801679809/work\n",
      "oauthlib==3.2.0\n",
      "opencensus==0.9.0\n",
      "opencensus-context==0.1.2\n",
      "opencensus-ext-azure==1.1.4\n",
      "packaging @ file:///tmp/build/80754af9/packaging_1637314298585/work\n",
      "pandas==1.4.2\n",
      "paramiko==2.11.0\n",
      "pathspec==0.9.0\n",
      "pkginfo==1.8.3\n",
      "portalocker==2.4.0\n",
      "protobuf==4.21.2\n",
      "psutil==5.9.1\n",
      "pyarrow==3.0.0\n",
      "pyasn1==0.4.8\n",
      "pyasn1-modules==0.2.8\n",
      "pycparser==2.21\n",
      "Pygments==2.12.0\n",
      "PyJWT==2.4.0\n",
      "PyNaCl==1.5.0\n",
      "pyOpenSSL==22.0.0\n",
      "pyparsing @ file:///tmp/build/80754af9/pyparsing_1635766073266/work\n",
      "pyrsistent==0.18.1\n",
      "PySocks==1.7.1\n",
      "python-dateutil @ file:///tmp/build/80754af9/python-dateutil_1626374649649/work\n",
      "pytz @ file:///opt/conda/conda-bld/pytz_1654762638606/work\n",
      "PyYAML==6.0\n",
      "requests==2.28.0\n",
      "requests-oauthlib==1.3.1\n",
      "rsa==4.8\n",
      "scikit-learn @ file:///tmp/build/80754af9/scikit-learn_1642617107864/work\n",
      "scipy @ file:///tmp/build/80754af9/scipy_1641555001653/work\n",
      "SecretStorage==3.3.2\n",
      "six @ file:///tmp/build/80754af9/six_1644875935023/work\n",
      "tabulate==0.8.10\n",
      "threadpoolctl @ file:///Users/ktietz/demo/mc3/conda-bld/threadpoolctl_1629802263681/work\n",
      "typing_extensions==4.2.0\n",
      "urllib3==1.26.9\n",
      "websocket-client==1.3.3\n",
      "Werkzeug==1.0.1\n",
      "wrapt==1.12.1\n",
      "zipp==3.8.0\n",
      "\n",
      "2022-06-28T09:24:30,991931500+00:00 | gunicorn/run | \n",
      "2022-06-28T09:24:30,999637900+00:00 | gunicorn/run | ###############################################\n",
      "2022-06-28T09:24:31,001607400+00:00 | gunicorn/run | AzureML Inference Server\n",
      "2022-06-28T09:24:31,003350200+00:00 | gunicorn/run | ###############################################\n",
      "2022-06-28T09:24:31,005179000+00:00 | gunicorn/run | \n",
      "2022-06-28T09:24:31,006680900+00:00 | gunicorn/run | \n",
      "2022-06-28T09:24:31,007905600+00:00 | gunicorn/run | Starting HTTP server\n",
      "2022-06-28T09:24:31,012821300+00:00 | gunicorn/run | \n",
      "Starting gunicorn 20.1.0\n",
      "Listening at: http://127.0.0.1:31311 (64)\n",
      "Using worker: sync\n",
      "worker timeout is set to 300\n",
      "Booting worker with pid: 108\n",
      "SPARK_HOME not set. Skipping PySpark Initialization.\n",
      "Initializing logger\n",
      "2022-06-28 09:24:32,232 | root | INFO | Starting up app insights client\n",
      "logging socket was found. logging is available.\n",
      "logging socket was found. logging is available.\n",
      "2022-06-28 09:24:32,233 | root | INFO | Starting up request id generator\n",
      "2022-06-28 09:24:32,233 | root | INFO | Starting up app insight hooks\n",
      "2022-06-28 09:24:32,234 | root | INFO | Invoking user's init function\n",
      "00000000-0000-0000-0000-000000000000,This is init\n",
      "00000000-0000-0000-0000-000000000000,RandomForestClassifier(max_depth=7, max_features=8,\n",
      "                       min_samples_leaf=0.022304733998947848, n_estimators=77,\n",
      "                       random_state=42)\n",
      "2022-06-28 09:24:32,949 | root | INFO | Users's init has completed successfully\n",
      "2022-06-28 09:24:32,955 | root | INFO | Skipping middleware: dbg_model_info as it's not enabled.\n",
      "2022-06-28 09:24:32,988 | root | INFO | Skipping middleware: dbg_resource_usage as it's not enabled.\n",
      "2022-06-28 09:24:32,989 | root | INFO | Scoring timeout is found from os.environ: 60000 ms\n",
      "2022-06-28 09:25:08,956 | root | INFO | Swagger file not present\n",
      "2022-06-28 09:25:08,956 | root | INFO | 404\n",
      "127.0.0.1 - - [28/Jun/2022:09:25:08 +0000] \"GET /swagger.json HTTP/1.0\" 404 19 \"-\" \"Go-http-client/1.1\"\n",
      "2022-06-28 09:25:19,302 | root | INFO | Swagger file not present\n",
      "2022-06-28 09:25:19,303 | root | INFO | 404\n",
      "127.0.0.1 - - [28/Jun/2022:09:25:19 +0000] \"GET /swagger.json HTTP/1.0\" 404 19 \"-\" \"Go-http-client/1.1\"\n",
      "\n"
     ]
    }
   ],
   "source": [
    "register_and_deploy_hyperd_model()"
   ]
  },
  {
   "cell_type": "code",
   "execution_count": 6,
   "id": "1dc4d951",
   "metadata": {},
   "outputs": [
    {
     "name": "stdout",
     "output_type": "stream",
     "text": [
      "label: 0 , prediction: 0\n",
      "label: 0 , prediction: 0\n",
      "label: 1 , prediction: 0\n",
      "label: 1 , prediction: 1\n",
      "label: 0 , prediction: 0\n",
      "label: 0 , prediction: 0\n",
      "label: 0 , prediction: 0\n",
      "label: 1 , prediction: 1\n",
      "label: 0 , prediction: 0\n",
      "label: 0 , prediction: 0\n"
     ]
    }
   ],
   "source": [
    "for row in range(0, 10):\n",
    "    test_deployed_hyperd_model(test_ds, row)"
   ]
  }
 ],
 "metadata": {
  "kernelspec": {
   "display_name": "Python 3.8 - AzureML",
   "language": "python",
   "name": "python38-azureml"
  },
  "language_info": {
   "codemirror_mode": {
    "name": "ipython",
    "version": 3
   },
   "file_extension": ".py",
   "mimetype": "text/x-python",
   "name": "python",
   "nbconvert_exporter": "python",
   "pygments_lexer": "ipython3",
   "version": "3.8.5"
  }
 },
 "nbformat": 4,
 "nbformat_minor": 5
}
